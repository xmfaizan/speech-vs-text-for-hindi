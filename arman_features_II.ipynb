{
  "metadata": {
    "kernelspec": {
      "language": "python",
      "display_name": "Python 3",
      "name": "python3"
    },
    "language_info": {
      "name": "python",
      "version": "3.10.13",
      "mimetype": "text/x-python",
      "codemirror_mode": {
        "name": "ipython",
        "version": 3
      },
      "pygments_lexer": "ipython3",
      "nbconvert_exporter": "python",
      "file_extension": ".py"
    },
    "kaggle": {
      "accelerator": "none",
      "dataSources": [
        {
          "sourceId": 9007243,
          "sourceType": "datasetVersion",
          "datasetId": 5426380
        }
      ],
      "dockerImageVersionId": 30746,
      "isInternetEnabled": true,
      "language": "python",
      "sourceType": "notebook",
      "isGpuEnabled": false
    },
    "colab": {
      "provenance": []
    }
  },
  "nbformat_minor": 0,
  "nbformat": 4,
  "cells": [
    {
      "cell_type": "code",
      "source": [
        "import pandas as pd\n",
        "df = pd.read_csv('/kaggle/input/pos-arman/df_pos.csv',encoding='utf-8')\n",
        "df.head()"
      ],
      "metadata": {
        "execution": {
          "iopub.status.busy": "2024-07-22T05:28:25.876854Z",
          "iopub.execute_input": "2024-07-22T05:28:25.877234Z",
          "iopub.status.idle": "2024-07-22T05:28:26.299947Z",
          "shell.execute_reply.started": "2024-07-22T05:28:25.877202Z",
          "shell.execute_reply": "2024-07-22T05:28:26.29919Z"
        },
        "trusted": true,
        "id": "qdecHVmQVAat",
        "outputId": "9d00f257-f0fc-4a65-a1f9-27fa2440a13f"
      },
      "execution_count": null,
      "outputs": [
        {
          "execution_count": 2,
          "output_type": "execute_result",
          "data": {
            "text/plain": "                                               texts  label  \\\n0  अमेरिकी और रूसी पुलिस के संयुक्त अभियान के फलस...      0   \n1  आज यहां रांची एक्सप्रेस के साथ बातचीत में वित्...      0   \n2                                   हमे इन्तजार है ।      1   \n3       जिस के नतीजे मे ये हुक्म सादिर किया गया है ।      1   \n4                                              जयपुर      0   \n\n                                                 pos  \n0  ['ADJ', 'CCONJ', 'ADJ', 'NOUN', 'ADP', 'ADJ', ...  \n1  ['NOUN', 'PRON', 'PROPN', 'PROPN', 'ADP', 'ADP...  \n2                   ['PRON', 'NOUN', 'AUX', 'PUNCT']  \n3  ['PRON', 'ADP', 'NOUN', 'ADP', 'DET', 'NOUN', ...  \n4                                          ['PROPN']  ",
            "text/html": "<div>\n<style scoped>\n    .dataframe tbody tr th:only-of-type {\n        vertical-align: middle;\n    }\n\n    .dataframe tbody tr th {\n        vertical-align: top;\n    }\n\n    .dataframe thead th {\n        text-align: right;\n    }\n</style>\n<table border=\"1\" class=\"dataframe\">\n  <thead>\n    <tr style=\"text-align: right;\">\n      <th></th>\n      <th>texts</th>\n      <th>label</th>\n      <th>pos</th>\n    </tr>\n  </thead>\n  <tbody>\n    <tr>\n      <th>0</th>\n      <td>अमेरिकी और रूसी पुलिस के संयुक्त अभियान के फलस...</td>\n      <td>0</td>\n      <td>['ADJ', 'CCONJ', 'ADJ', 'NOUN', 'ADP', 'ADJ', ...</td>\n    </tr>\n    <tr>\n      <th>1</th>\n      <td>आज यहां रांची एक्सप्रेस के साथ बातचीत में वित्...</td>\n      <td>0</td>\n      <td>['NOUN', 'PRON', 'PROPN', 'PROPN', 'ADP', 'ADP...</td>\n    </tr>\n    <tr>\n      <th>2</th>\n      <td>हमे इन्तजार है ।</td>\n      <td>1</td>\n      <td>['PRON', 'NOUN', 'AUX', 'PUNCT']</td>\n    </tr>\n    <tr>\n      <th>3</th>\n      <td>जिस के नतीजे मे ये हुक्म सादिर किया गया है ।</td>\n      <td>1</td>\n      <td>['PRON', 'ADP', 'NOUN', 'ADP', 'DET', 'NOUN', ...</td>\n    </tr>\n    <tr>\n      <th>4</th>\n      <td>जयपुर</td>\n      <td>0</td>\n      <td>['PROPN']</td>\n    </tr>\n  </tbody>\n</table>\n</div>"
          },
          "metadata": {}
        }
      ]
    },
    {
      "cell_type": "code",
      "source": [
        "df = df[df['texts'].apply(lambda x: isinstance(x, str))]"
      ],
      "metadata": {
        "execution": {
          "iopub.status.busy": "2024-07-22T05:28:26.300962Z",
          "iopub.execute_input": "2024-07-22T05:28:26.301262Z",
          "iopub.status.idle": "2024-07-22T05:28:26.313825Z",
          "shell.execute_reply.started": "2024-07-22T05:28:26.301234Z",
          "shell.execute_reply": "2024-07-22T05:28:26.313152Z"
        },
        "trusted": true,
        "id": "jw50tFu4VAau"
      },
      "execution_count": null,
      "outputs": []
    },
    {
      "cell_type": "markdown",
      "source": [
        "1. **TTR (Type-Token Ratio)**\n",
        "2. **POS Ratios**\n",
        "   - Adverb/Adjective\n",
        "   - Adverb/Noun\n",
        "   - Adverb/Pronoun\n",
        "   - Adjective/Verb\n",
        "   - Adjective/Pronoun\n",
        "   - Noun/Verb\n",
        "   - Noun/Pronoun\n",
        "   - Verb/Pronoun\n",
        "3. **Content/Function Word Ratio**\n",
        "4. **ISC Score (Syntactic Complexity)**\n",
        "5. **ADD Score (Average Dependency Distance)**\n",
        "6. **Sentence Length Statistics**\n",
        "   - Average Sentence Length\n",
        "   - Standard Deviation of Sentence Length\n",
        "  "
      ],
      "metadata": {
        "id": "xDNKW0BYVAav"
      }
    },
    {
      "cell_type": "markdown",
      "source": [
        "* ISC Score (Syntactic Complexity): Measures the complexity of sentences based on conjunctions, verbs, and noun phrases.\n",
        "* ADD Score (Average Dependency Distance): Average distance between words in terms of their syntactic dependency relations.\n",
        "* Average Sentence Length (avg_sen_len): Mean length of sentences in terms of number of words.\n",
        "* Standard Deviation of Sentence Length (std_sen_len): Standard deviation of sentence lengths."
      ],
      "metadata": {
        "id": "I2kNatkyVAaw"
      }
    },
    {
      "cell_type": "code",
      "source": [
        "import pandas as pd\n",
        "import numpy as np\n",
        "from collections import Counter\n",
        "from indicnlp.tokenize import indic_tokenize\n",
        "import re\n",
        "\n",
        "class LexicalDiversity:\n",
        "    def __init__(self, text, pos):\n",
        "        self.text = text\n",
        "        self.tokens = indic_tokenize.trivial_tokenize(self.text)\n",
        "        self.pos = pos\n",
        "        self.sentences = self.split_sentences(self.text)\n",
        "\n",
        "    def lexical_diversity(self):\n",
        "        ttr = self.ttr(self.tokens)\n",
        "        pos_ratios = self.calculate_pos_ratios()\n",
        "        content_function_ratio = self.calculate_content_function_ratio()\n",
        "        isc_score = self.calculate_isc_score()\n",
        "        add_score = self.calculate_add_score()\n",
        "        avg_sen_len, std_sen_len = self.calculate_sentence_length_stats()\n",
        "\n",
        "        return {\n",
        "            \"TTR\": ttr,\n",
        "            **pos_ratios,\n",
        "            \"Content/Function\": content_function_ratio,\n",
        "            \"ISC Score\": isc_score,\n",
        "            \"ADD Score\": add_score,\n",
        "            \"Average Sentence Length\": avg_sen_len,\n",
        "            \"Std Dev Sentence Length\": std_sen_len\n",
        "        }\n",
        "\n",
        "    def ttr(self, tokens):\n",
        "        return len(set(tokens)) / len(tokens) if tokens else 0\n",
        "\n",
        "    def calculate_pos_ratios(self):\n",
        "        pos_counts = Counter(self.pos)\n",
        "\n",
        "        ratios = {\n",
        "            \"Adverb/Adjective\": self.safe_divide(pos_counts['ADV'], pos_counts['ADJ']),\n",
        "            \"Adverb/Noun\": self.safe_divide(pos_counts['ADV'], pos_counts['NOUN']),\n",
        "            \"Adverb/Pronoun\": self.safe_divide(pos_counts['ADV'], pos_counts['PRON']),\n",
        "            \"Adjective/Verb\": self.safe_divide(pos_counts['ADJ'], pos_counts['VERB']),\n",
        "            \"Adjective/Pronoun\": self.safe_divide(pos_counts['ADJ'], pos_counts['PRON']),\n",
        "            \"Noun/Verb\": self.safe_divide(pos_counts['NOUN'], pos_counts['VERB']),\n",
        "            \"Noun/Pronoun\": self.safe_divide(pos_counts['NOUN'], pos_counts['PRON']),\n",
        "            \"Verb/Pronoun\": self.safe_divide(pos_counts['VERB'], pos_counts['PRON']),\n",
        "        }\n",
        "\n",
        "        return ratios\n",
        "\n",
        "    def calculate_content_function_ratio(self):\n",
        "        content_words = sum(self.pos.count(tag) for tag in ['NOUN', 'VERB', 'ADJ', 'ADV'])\n",
        "        function_words = sum(self.pos.count(tag) for tag in ['PRON', 'ADP', 'DET', 'CONJ', 'SCONJ', 'PART'])\n",
        "        return self.safe_divide(content_words, function_words)\n",
        "\n",
        "    def calculate_isc_score(self):\n",
        "        # Approximation: count conjunctions, verbs, and nouns\n",
        "        conjunctions = self.pos.count('CCONJ') + self.pos.count('SCONJ')\n",
        "        verbs = self.pos.count('VERB')\n",
        "        nouns = self.pos.count('NOUN')\n",
        "        return self.safe_divide(conjunctions + verbs + nouns, len(self.tokens))\n",
        "\n",
        "    def calculate_add_score(self):\n",
        "        # Approximation: average distance between content words\n",
        "        content_word_indices = [i for i, pos in enumerate(self.pos) if pos in ['NOUN', 'VERB', 'ADJ', 'ADV']]\n",
        "        if len(content_word_indices) < 2:\n",
        "            return 0\n",
        "        distances = [j - i for i, j in zip(content_word_indices[:-1], content_word_indices[1:])]\n",
        "        return sum(distances) / len(distances)\n",
        "\n",
        "    def split_sentences(self, text):\n",
        "        # Simple sentence splitting based on punctuation\n",
        "        return re.split(r'[।!?]+', text)\n",
        "\n",
        "    def calculate_sentence_length_stats(self):\n",
        "        sentence_lengths = [len(indic_tokenize.trivial_tokenize(sent)) for sent in self.sentences if sent.strip()]\n",
        "        if not sentence_lengths:\n",
        "            return 0, 0\n",
        "        return np.mean(sentence_lengths), np.std(sentence_lengths)\n",
        "\n",
        "    def safe_divide(self, numerator, denominator):\n",
        "        return numerator / denominator if denominator != 0 else 0\n",
        "\n",
        "def calculate_features(row):\n",
        "    ld_obj = LexicalDiversity(row['texts'], row['pos'])\n",
        "    return ld_obj.lexical_diversity()\n",
        "\n",
        "# Convert the 'pos' column from string to list\n",
        "df['pos'] = df['pos'].apply(eval)\n",
        "\n",
        "# Apply the function to each row in the DataFrame\n",
        "features_df = df.apply(calculate_features, axis=1).apply(pd.Series)\n",
        "\n",
        "# Concatenate the new features with the original DataFrame\n",
        "df = pd.concat([df, features_df], axis=1)\n",
        "\n",
        "# Save the updated DataFrame\n",
        "df.to_csv('lexicalandpos_features.csv', index=False)"
      ],
      "metadata": {
        "execution": {
          "iopub.status.busy": "2024-07-22T05:29:13.804276Z",
          "iopub.execute_input": "2024-07-22T05:29:13.804983Z",
          "iopub.status.idle": "2024-07-22T05:29:28.228228Z",
          "shell.execute_reply.started": "2024-07-22T05:29:13.804945Z",
          "shell.execute_reply": "2024-07-22T05:29:28.227358Z"
        },
        "trusted": true,
        "id": "hGgnW9gLVAay"
      },
      "execution_count": null,
      "outputs": []
    },
    {
      "cell_type": "code",
      "source": [
        "df.head()"
      ],
      "metadata": {
        "execution": {
          "iopub.status.busy": "2024-07-22T05:29:28.229753Z",
          "iopub.execute_input": "2024-07-22T05:29:28.230004Z",
          "iopub.status.idle": "2024-07-22T05:29:28.248831Z",
          "shell.execute_reply.started": "2024-07-22T05:29:28.229979Z",
          "shell.execute_reply": "2024-07-22T05:29:28.248127Z"
        },
        "trusted": true,
        "id": "ZPv_MrWGVAay",
        "outputId": "62984384-e87a-44e6-d11b-ccee59307d88"
      },
      "execution_count": null,
      "outputs": [
        {
          "execution_count": 7,
          "output_type": "execute_result",
          "data": {
            "text/plain": "                                               texts  label  \\\n0  अमेरिकी और रूसी पुलिस के संयुक्त अभियान के फलस...      0   \n1  आज यहां रांची एक्सप्रेस के साथ बातचीत में वित्...      0   \n2                                   हमे इन्तजार है ।      1   \n3       जिस के नतीजे मे ये हुक्म सादिर किया गया है ।      1   \n4                                              जयपुर      0   \n\n                                                 pos       TTR  \\\n0  [ADJ, CCONJ, ADJ, NOUN, ADP, ADJ, NOUN, ADP, A...  0.857143   \n1  [NOUN, PRON, PROPN, PROPN, ADP, ADP, NOUN, ADP...  1.000000   \n2                           [PRON, NOUN, AUX, PUNCT]  1.000000   \n3  [PRON, ADP, NOUN, ADP, DET, NOUN, NOUN, VERB, ...  1.000000   \n4                                            [PROPN]  1.000000   \n\n   Adverb/Adjective  Adverb/Noun  Adverb/Pronoun  Adjective/Verb  \\\n0               0.0          0.0             0.0             3.5   \n1               0.0          0.0             0.0             0.0   \n2               0.0          0.0             0.0             0.0   \n3               0.0          0.0             0.0             0.0   \n4               0.0          0.0             0.0             0.0   \n\n   Adjective/Pronoun  Noun/Verb  Noun/Pronoun  Verb/Pronoun  Content/Function  \\\n0                0.0        3.5           0.0           0.0               3.2   \n1                0.0        2.0           2.0           1.0               0.5   \n2                0.0        0.0           1.0           0.0               1.0   \n3                0.0        3.0           3.0           1.0               1.0   \n4                0.0        0.0           0.0           0.0               0.0   \n\n   ISC Score  ADD Score  Average Sentence Length  Std Dev Sentence Length  \n0   0.392857   1.600000                     27.0                      0.0  \n1   0.307692   5.000000                     13.0                      0.0  \n2   0.250000   0.000000                      3.0                      0.0  \n3   0.363636   1.666667                     10.0                      0.0  \n4   0.000000   0.000000                      1.0                      0.0  ",
            "text/html": "<div>\n<style scoped>\n    .dataframe tbody tr th:only-of-type {\n        vertical-align: middle;\n    }\n\n    .dataframe tbody tr th {\n        vertical-align: top;\n    }\n\n    .dataframe thead th {\n        text-align: right;\n    }\n</style>\n<table border=\"1\" class=\"dataframe\">\n  <thead>\n    <tr style=\"text-align: right;\">\n      <th></th>\n      <th>texts</th>\n      <th>label</th>\n      <th>pos</th>\n      <th>TTR</th>\n      <th>Adverb/Adjective</th>\n      <th>Adverb/Noun</th>\n      <th>Adverb/Pronoun</th>\n      <th>Adjective/Verb</th>\n      <th>Adjective/Pronoun</th>\n      <th>Noun/Verb</th>\n      <th>Noun/Pronoun</th>\n      <th>Verb/Pronoun</th>\n      <th>Content/Function</th>\n      <th>ISC Score</th>\n      <th>ADD Score</th>\n      <th>Average Sentence Length</th>\n      <th>Std Dev Sentence Length</th>\n    </tr>\n  </thead>\n  <tbody>\n    <tr>\n      <th>0</th>\n      <td>अमेरिकी और रूसी पुलिस के संयुक्त अभियान के फलस...</td>\n      <td>0</td>\n      <td>[ADJ, CCONJ, ADJ, NOUN, ADP, ADJ, NOUN, ADP, A...</td>\n      <td>0.857143</td>\n      <td>0.0</td>\n      <td>0.0</td>\n      <td>0.0</td>\n      <td>3.5</td>\n      <td>0.0</td>\n      <td>3.5</td>\n      <td>0.0</td>\n      <td>0.0</td>\n      <td>3.2</td>\n      <td>0.392857</td>\n      <td>1.600000</td>\n      <td>27.0</td>\n      <td>0.0</td>\n    </tr>\n    <tr>\n      <th>1</th>\n      <td>आज यहां रांची एक्सप्रेस के साथ बातचीत में वित्...</td>\n      <td>0</td>\n      <td>[NOUN, PRON, PROPN, PROPN, ADP, ADP, NOUN, ADP...</td>\n      <td>1.000000</td>\n      <td>0.0</td>\n      <td>0.0</td>\n      <td>0.0</td>\n      <td>0.0</td>\n      <td>0.0</td>\n      <td>2.0</td>\n      <td>2.0</td>\n      <td>1.0</td>\n      <td>0.5</td>\n      <td>0.307692</td>\n      <td>5.000000</td>\n      <td>13.0</td>\n      <td>0.0</td>\n    </tr>\n    <tr>\n      <th>2</th>\n      <td>हमे इन्तजार है ।</td>\n      <td>1</td>\n      <td>[PRON, NOUN, AUX, PUNCT]</td>\n      <td>1.000000</td>\n      <td>0.0</td>\n      <td>0.0</td>\n      <td>0.0</td>\n      <td>0.0</td>\n      <td>0.0</td>\n      <td>0.0</td>\n      <td>1.0</td>\n      <td>0.0</td>\n      <td>1.0</td>\n      <td>0.250000</td>\n      <td>0.000000</td>\n      <td>3.0</td>\n      <td>0.0</td>\n    </tr>\n    <tr>\n      <th>3</th>\n      <td>जिस के नतीजे मे ये हुक्म सादिर किया गया है ।</td>\n      <td>1</td>\n      <td>[PRON, ADP, NOUN, ADP, DET, NOUN, NOUN, VERB, ...</td>\n      <td>1.000000</td>\n      <td>0.0</td>\n      <td>0.0</td>\n      <td>0.0</td>\n      <td>0.0</td>\n      <td>0.0</td>\n      <td>3.0</td>\n      <td>3.0</td>\n      <td>1.0</td>\n      <td>1.0</td>\n      <td>0.363636</td>\n      <td>1.666667</td>\n      <td>10.0</td>\n      <td>0.0</td>\n    </tr>\n    <tr>\n      <th>4</th>\n      <td>जयपुर</td>\n      <td>0</td>\n      <td>[PROPN]</td>\n      <td>1.000000</td>\n      <td>0.0</td>\n      <td>0.0</td>\n      <td>0.0</td>\n      <td>0.0</td>\n      <td>0.0</td>\n      <td>0.0</td>\n      <td>0.0</td>\n      <td>0.0</td>\n      <td>0.0</td>\n      <td>0.000000</td>\n      <td>0.000000</td>\n      <td>1.0</td>\n      <td>0.0</td>\n    </tr>\n  </tbody>\n</table>\n</div>"
          },
          "metadata": {}
        }
      ]
    },
    {
      "cell_type": "code",
      "source": [
        "from sklearn.preprocessing import StandardScaler\n",
        "from sklearn.linear_model import LogisticRegression\n",
        "from sklearn.metrics import classification_report, accuracy_score"
      ],
      "metadata": {
        "execution": {
          "iopub.status.busy": "2024-07-22T05:31:18.84517Z",
          "iopub.execute_input": "2024-07-22T05:31:18.846028Z",
          "iopub.status.idle": "2024-07-22T05:31:20.714132Z",
          "shell.execute_reply.started": "2024-07-22T05:31:18.84598Z",
          "shell.execute_reply": "2024-07-22T05:31:20.713326Z"
        },
        "trusted": true,
        "id": "7nUU3cEtVAaz"
      },
      "execution_count": null,
      "outputs": []
    },
    {
      "cell_type": "code",
      "source": [
        "# Separate features and target\n",
        "X = df.drop('label', axis=1)\n",
        "X = X.drop('texts', axis=1)\n",
        "X = X.drop('pos', axis=1)\n",
        "y = df['label']"
      ],
      "metadata": {
        "execution": {
          "iopub.status.busy": "2024-07-22T05:31:38.607339Z",
          "iopub.execute_input": "2024-07-22T05:31:38.607813Z",
          "iopub.status.idle": "2024-07-22T05:31:38.620319Z",
          "shell.execute_reply.started": "2024-07-22T05:31:38.60778Z",
          "shell.execute_reply": "2024-07-22T05:31:38.619463Z"
        },
        "trusted": true,
        "id": "lUK6OSiUVAa0"
      },
      "execution_count": null,
      "outputs": []
    },
    {
      "cell_type": "code",
      "source": [
        "scaler = StandardScaler()\n",
        "X_scaled = scaler.fit_transform(X)"
      ],
      "metadata": {
        "execution": {
          "iopub.status.busy": "2024-07-22T05:31:47.288821Z",
          "iopub.execute_input": "2024-07-22T05:31:47.289628Z",
          "iopub.status.idle": "2024-07-22T05:31:47.30048Z",
          "shell.execute_reply.started": "2024-07-22T05:31:47.289594Z",
          "shell.execute_reply": "2024-07-22T05:31:47.299726Z"
        },
        "trusted": true,
        "id": "cF-RAlhMVAa1"
      },
      "execution_count": null,
      "outputs": []
    },
    {
      "cell_type": "code",
      "source": [
        "from sklearn.model_selection import train_test_split\n",
        "X_train, X_test, y_train, y_test = train_test_split(X_scaled, y, test_size=0.2, random_state=42)"
      ],
      "metadata": {
        "execution": {
          "iopub.status.busy": "2024-07-22T05:31:55.263361Z",
          "iopub.execute_input": "2024-07-22T05:31:55.264084Z",
          "iopub.status.idle": "2024-07-22T05:31:55.273611Z",
          "shell.execute_reply.started": "2024-07-22T05:31:55.264047Z",
          "shell.execute_reply": "2024-07-22T05:31:55.272836Z"
        },
        "trusted": true,
        "id": "LMIAFzxKVAa2"
      },
      "execution_count": null,
      "outputs": []
    },
    {
      "cell_type": "code",
      "source": [
        "logistic_regression = LogisticRegression(random_state=42)\n",
        "logistic_regression.fit(X_train, y_train)\n",
        "y_pred_logistic = logistic_regression.predict(X_test)\n",
        "accuracy_logistic = accuracy_score(y_test, y_pred_logistic)\n",
        "print(\"\\nLogistic Regression Accuracy:\", accuracy_logistic)\n",
        "print(\"\\nClassification Report:\")\n",
        "print(classification_report(y_test, y_pred_logistic))"
      ],
      "metadata": {
        "execution": {
          "iopub.status.busy": "2024-07-22T05:32:04.136204Z",
          "iopub.execute_input": "2024-07-22T05:32:04.136564Z",
          "iopub.status.idle": "2024-07-22T05:32:04.225994Z",
          "shell.execute_reply.started": "2024-07-22T05:32:04.136534Z",
          "shell.execute_reply": "2024-07-22T05:32:04.224265Z"
        },
        "trusted": true,
        "id": "dBkGhPjTVAa2",
        "outputId": "75a56b06-f1bf-41ab-f4d1-8fb80b631ab2"
      },
      "execution_count": null,
      "outputs": [
        {
          "name": "stdout",
          "text": "\nLogistic Regression Accuracy: 0.7088394934091496\n\nClassification Report:\n              precision    recall  f1-score   support\n\n           0       0.70      0.71      0.71      3826\n           1       0.71      0.71      0.71      3912\n\n    accuracy                           0.71      7738\n   macro avg       0.71      0.71      0.71      7738\nweighted avg       0.71      0.71      0.71      7738\n\n",
          "output_type": "stream"
        }
      ]
    },
    {
      "cell_type": "code",
      "source": [
        "coefficients = logistic_regression.coef_[0]\n",
        "feature_importance = pd.Series(coefficients, index=X.columns)\n",
        "\n",
        "# Get the absolute values of the coefficients to determine importance\n",
        "feature_importance = np.abs(feature_importance)\n",
        "feature_importance = feature_importance.sort_values(ascending=False)\n",
        "\n",
        "print(\"Feature Importance:\\n\", feature_importance)\n",
        "\n",
        "# Optionally, visualize the feature importance\n",
        "import matplotlib.pyplot as plt\n",
        "feature_importance.plot(kind='bar')\n",
        "plt.title('Feature Importance')\n",
        "plt.xlabel('Features')\n",
        "plt.ylabel('Absolute Coefficient Value')\n",
        "plt.show()"
      ],
      "metadata": {
        "execution": {
          "iopub.status.busy": "2024-07-22T05:32:24.536908Z",
          "iopub.execute_input": "2024-07-22T05:32:24.537259Z",
          "iopub.status.idle": "2024-07-22T05:32:25.90166Z",
          "shell.execute_reply.started": "2024-07-22T05:32:24.53723Z",
          "shell.execute_reply": "2024-07-22T05:32:25.90106Z"
        },
        "trusted": true,
        "id": "J5Q0Lir2VAa3",
        "outputId": "f0031631-2918-4df8-c90f-921d2f4cef22"
      },
      "execution_count": null,
      "outputs": [
        {
          "name": "stdout",
          "text": "Feature Importance:\n TTR                        0.803661\nNoun/Verb                  0.555424\nNoun/Pronoun               0.349520\nContent/Function           0.269345\nAdjective/Verb             0.265812\nVerb/Pronoun               0.222592\nAdjective/Pronoun          0.204922\nAdverb/Noun                0.161462\nAverage Sentence Length    0.159971\nISC Score                  0.152915\nADD Score                  0.144539\nAdverb/Pronoun             0.086378\nStd Dev Sentence Length    0.053854\nAdverb/Adjective           0.021682\ndtype: float64\n",
          "output_type": "stream"
        },
        {
          "output_type": "display_data",
          "data": {
            "text/plain": "<Figure size 640x480 with 1 Axes>",
            "image/png": "[encoded data removed]"
          },
          "metadata": {}
        }
      ]
    },
    {
      "cell_type": "code",
      "source": [],
      "metadata": {
        "id": "0m5-wimDVAa3"
      },
      "execution_count": null,
      "outputs": []
    }
  ]
}