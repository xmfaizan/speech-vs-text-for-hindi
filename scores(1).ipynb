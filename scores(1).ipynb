{
  "nbformat": 4,
  "nbformat_minor": 0,
  "metadata": {
    "colab": {
      "provenance": [],
      "gpuType": "T4"
    },
    "kernelspec": {
      "name": "python3",
      "display_name": "Python 3"
    },
    "language_info": {
      "name": "python"
    },
    "accelerator": "GPU"
  },
  "cells": [
    {
      "cell_type": "code",
      "execution_count": 62,
      "metadata": {
        "colab": {
          "base_uri": "https://localhost:8080/",
          "height": 620
        },
        "id": "0Zt3m-ZWo-OV",
        "outputId": "cc6c6533-b038-4105-ab28-773df58ec0c9"
      },
      "outputs": [
        {
          "output_type": "execute_result",
          "data": {
            "text/plain": [
              "                                               texts  label  parse_tree_depth  \\\n",
              "0  अमेरिकी और रूसी पुलिस के संयुक्त अभियान के फलस...      0                 2   \n",
              "1  आज यहां रांची एक्सप्रेस के साथ बातचीत में वित्...      0                 2   \n",
              "2                                   हमे इन्तजार है ।      1                 1   \n",
              "3       जिस के नतीजे मे ये हुक्म सादिर किया गया है ।      1                 2   \n",
              "4                                              जयपुर      0                 0   \n",
              "\n",
              "   noun_count_hi  verb_count_hi  adverb_count_hi  pronoun_count_hi  \\\n",
              "0              7              2                0                 0   \n",
              "1              2              1                0                 1   \n",
              "2              1              0                0                 1   \n",
              "3              3              1                0                 1   \n",
              "4              0              0                0                 0   \n",
              "\n",
              "   total_words_hi  noun_percentage_hi  verb_percentage_hi  ...  \\\n",
              "0              28           25.000000            7.142857  ...   \n",
              "1              13           15.384615            7.692308  ...   \n",
              "2               4           25.000000            0.000000  ...   \n",
              "3              11           27.272727            9.090909  ...   \n",
              "4               1            0.000000            0.000000  ...   \n",
              "\n",
              "   pronoun_percentage_hi  words_per_sent  avg_characters_per_word  \\\n",
              "0               0.000000              27                 4.407407   \n",
              "1               7.692308              13                 4.615385   \n",
              "2              25.000000               4                 3.250000   \n",
              "3               9.090909              11                 3.090909   \n",
              "4               0.000000               1                 5.000000   \n",
              "\n",
              "   token_type_ratio  case_marker_perc  case_marker_count  conjunction_count  \\\n",
              "0          0.857143         14.814815                  4                  3   \n",
              "1          1.000000         23.076923                  3                  1   \n",
              "2          1.000000          0.000000                  0                  0   \n",
              "3          1.000000          9.090909                  1                  0   \n",
              "4          1.000000          0.000000                  0                  0   \n",
              "\n",
              "   conjunctions_percentage  hesitation_markers  wh_question_count  \n",
              "0                11.111111                   2                  0  \n",
              "1                 7.692308                   0                  0  \n",
              "2                 0.000000                   1                  0  \n",
              "3                 0.000000                   1                  0  \n",
              "4                 0.000000                   0                  0  \n",
              "\n",
              "[5 rows x 21 columns]"
            ],
            "text/html": [
              "\n",
              "  <div id=\"df-7382e071-91c4-4afb-9918-4150570a9967\" class=\"colab-df-container\">\n",
              "    <div>\n",
              "<style scoped>\n",
              "    .dataframe tbody tr th:only-of-type {\n",
              "        vertical-align: middle;\n",
              "    }\n",
              "\n",
              "    .dataframe tbody tr th {\n",
              "        vertical-align: top;\n",
              "    }\n",
              "\n",
              "    .dataframe thead th {\n",
              "        text-align: right;\n",
              "    }\n",
              "</style>\n",
              "<table border=\"1\" class=\"dataframe\">\n",
              "  <thead>\n",
              "    <tr style=\"text-align: right;\">\n",
              "      <th></th>\n",
              "      <th>texts</th>\n",
              "      <th>label</th>\n",
              "      <th>parse_tree_depth</th>\n",
              "      <th>noun_count_hi</th>\n",
              "      <th>verb_count_hi</th>\n",
              "      <th>adverb_count_hi</th>\n",
              "      <th>pronoun_count_hi</th>\n",
              "      <th>total_words_hi</th>\n",
              "      <th>noun_percentage_hi</th>\n",
              "      <th>verb_percentage_hi</th>\n",
              "      <th>...</th>\n",
              "      <th>pronoun_percentage_hi</th>\n",
              "      <th>words_per_sent</th>\n",
              "      <th>avg_characters_per_word</th>\n",
              "      <th>token_type_ratio</th>\n",
              "      <th>case_marker_perc</th>\n",
              "      <th>case_marker_count</th>\n",
              "      <th>conjunction_count</th>\n",
              "      <th>conjunctions_percentage</th>\n",
              "      <th>hesitation_markers</th>\n",
              "      <th>wh_question_count</th>\n",
              "    </tr>\n",
              "  </thead>\n",
              "  <tbody>\n",
              "    <tr>\n",
              "      <th>0</th>\n",
              "      <td>अमेरिकी और रूसी पुलिस के संयुक्त अभियान के फलस...</td>\n",
              "      <td>0</td>\n",
              "      <td>2</td>\n",
              "      <td>7</td>\n",
              "      <td>2</td>\n",
              "      <td>0</td>\n",
              "      <td>0</td>\n",
              "      <td>28</td>\n",
              "      <td>25.000000</td>\n",
              "      <td>7.142857</td>\n",
              "      <td>...</td>\n",
              "      <td>0.000000</td>\n",
              "      <td>27</td>\n",
              "      <td>4.407407</td>\n",
              "      <td>0.857143</td>\n",
              "      <td>14.814815</td>\n",
              "      <td>4</td>\n",
              "      <td>3</td>\n",
              "      <td>11.111111</td>\n",
              "      <td>2</td>\n",
              "      <td>0</td>\n",
              "    </tr>\n",
              "    <tr>\n",
              "      <th>1</th>\n",
              "      <td>आज यहां रांची एक्सप्रेस के साथ बातचीत में वित्...</td>\n",
              "      <td>0</td>\n",
              "      <td>2</td>\n",
              "      <td>2</td>\n",
              "      <td>1</td>\n",
              "      <td>0</td>\n",
              "      <td>1</td>\n",
              "      <td>13</td>\n",
              "      <td>15.384615</td>\n",
              "      <td>7.692308</td>\n",
              "      <td>...</td>\n",
              "      <td>7.692308</td>\n",
              "      <td>13</td>\n",
              "      <td>4.615385</td>\n",
              "      <td>1.000000</td>\n",
              "      <td>23.076923</td>\n",
              "      <td>3</td>\n",
              "      <td>1</td>\n",
              "      <td>7.692308</td>\n",
              "      <td>0</td>\n",
              "      <td>0</td>\n",
              "    </tr>\n",
              "    <tr>\n",
              "      <th>2</th>\n",
              "      <td>हमे इन्तजार है ।</td>\n",
              "      <td>1</td>\n",
              "      <td>1</td>\n",
              "      <td>1</td>\n",
              "      <td>0</td>\n",
              "      <td>0</td>\n",
              "      <td>1</td>\n",
              "      <td>4</td>\n",
              "      <td>25.000000</td>\n",
              "      <td>0.000000</td>\n",
              "      <td>...</td>\n",
              "      <td>25.000000</td>\n",
              "      <td>4</td>\n",
              "      <td>3.250000</td>\n",
              "      <td>1.000000</td>\n",
              "      <td>0.000000</td>\n",
              "      <td>0</td>\n",
              "      <td>0</td>\n",
              "      <td>0.000000</td>\n",
              "      <td>1</td>\n",
              "      <td>0</td>\n",
              "    </tr>\n",
              "    <tr>\n",
              "      <th>3</th>\n",
              "      <td>जिस के नतीजे मे ये हुक्म सादिर किया गया है ।</td>\n",
              "      <td>1</td>\n",
              "      <td>2</td>\n",
              "      <td>3</td>\n",
              "      <td>1</td>\n",
              "      <td>0</td>\n",
              "      <td>1</td>\n",
              "      <td>11</td>\n",
              "      <td>27.272727</td>\n",
              "      <td>9.090909</td>\n",
              "      <td>...</td>\n",
              "      <td>9.090909</td>\n",
              "      <td>11</td>\n",
              "      <td>3.090909</td>\n",
              "      <td>1.000000</td>\n",
              "      <td>9.090909</td>\n",
              "      <td>1</td>\n",
              "      <td>0</td>\n",
              "      <td>0.000000</td>\n",
              "      <td>1</td>\n",
              "      <td>0</td>\n",
              "    </tr>\n",
              "    <tr>\n",
              "      <th>4</th>\n",
              "      <td>जयपुर</td>\n",
              "      <td>0</td>\n",
              "      <td>0</td>\n",
              "      <td>0</td>\n",
              "      <td>0</td>\n",
              "      <td>0</td>\n",
              "      <td>0</td>\n",
              "      <td>1</td>\n",
              "      <td>0.000000</td>\n",
              "      <td>0.000000</td>\n",
              "      <td>...</td>\n",
              "      <td>0.000000</td>\n",
              "      <td>1</td>\n",
              "      <td>5.000000</td>\n",
              "      <td>1.000000</td>\n",
              "      <td>0.000000</td>\n",
              "      <td>0</td>\n",
              "      <td>0</td>\n",
              "      <td>0.000000</td>\n",
              "      <td>0</td>\n",
              "      <td>0</td>\n",
              "    </tr>\n",
              "  </tbody>\n",
              "</table>\n",
              "<p>5 rows × 21 columns</p>\n",
              "</div>\n",
              "    <div class=\"colab-df-buttons\">\n",
              "\n",
              "  <div class=\"colab-df-container\">\n",
              "    <button class=\"colab-df-convert\" onclick=\"convertToInteractive('df-7382e071-91c4-4afb-9918-4150570a9967')\"\n",
              "            title=\"Convert this dataframe to an interactive table.\"\n",
              "            style=\"display:none;\">\n",
              "\n",
              "  <svg xmlns=\"http://www.w3.org/2000/svg\" height=\"24px\" viewBox=\"0 -960 960 960\">\n",
              "    <path d=\"M120-120v-720h720v720H120Zm60-500h600v-160H180v160Zm220 220h160v-160H400v160Zm0 220h160v-160H400v160ZM180-400h160v-160H180v160Zm440 0h160v-160H620v160ZM180-180h160v-160H180v160Zm440 0h160v-160H620v160Z\"/>\n",
              "  </svg>\n",
              "    </button>\n",
              "\n",
              "  <style>\n",
              "    .colab-df-container {\n",
              "      display:flex;\n",
              "      gap: 12px;\n",
              "    }\n",
              "\n",
              "    .colab-df-convert {\n",
              "      background-color: #E8F0FE;\n",
              "      border: none;\n",
              "      border-radius: 50%;\n",
              "      cursor: pointer;\n",
              "      display: none;\n",
              "      fill: #1967D2;\n",
              "      height: 32px;\n",
              "      padding: 0 0 0 0;\n",
              "      width: 32px;\n",
              "    }\n",
              "\n",
              "    .colab-df-convert:hover {\n",
              "      background-color: #E2EBFA;\n",
              "      box-shadow: 0px 1px 2px rgba(60, 64, 67, 0.3), 0px 1px 3px 1px rgba(60, 64, 67, 0.15);\n",
              "      fill: #174EA6;\n",
              "    }\n",
              "\n",
              "    .colab-df-buttons div {\n",
              "      margin-bottom: 4px;\n",
              "    }\n",
              "\n",
              "    [theme=dark] .colab-df-convert {\n",
              "      background-color: #3B4455;\n",
              "      fill: #D2E3FC;\n",
              "    }\n",
              "\n",
              "    [theme=dark] .colab-df-convert:hover {\n",
              "      background-color: #434B5C;\n",
              "      box-shadow: 0px 1px 3px 1px rgba(0, 0, 0, 0.15);\n",
              "      filter: drop-shadow(0px 1px 2px rgba(0, 0, 0, 0.3));\n",
              "      fill: #FFFFFF;\n",
              "    }\n",
              "  </style>\n",
              "\n",
              "    <script>\n",
              "      const buttonEl =\n",
              "        document.querySelector('#df-7382e071-91c4-4afb-9918-4150570a9967 button.colab-df-convert');\n",
              "      buttonEl.style.display =\n",
              "        google.colab.kernel.accessAllowed ? 'block' : 'none';\n",
              "\n",
              "      async function convertToInteractive(key) {\n",
              "        const element = document.querySelector('#df-7382e071-91c4-4afb-9918-4150570a9967');\n",
              "        const dataTable =\n",
              "          await google.colab.kernel.invokeFunction('convertToInteractive',\n",
              "                                                    [key], {});\n",
              "        if (!dataTable) return;\n",
              "\n",
              "        const docLinkHtml = 'Like what you see? Visit the ' +\n",
              "          '<a target=\"_blank\" href=https://colab.research.google.com/notebooks/data_table.ipynb>data table notebook</a>'\n",
              "          + ' to learn more about interactive tables.';\n",
              "        element.innerHTML = '';\n",
              "        dataTable['output_type'] = 'display_data';\n",
              "        await google.colab.output.renderOutput(dataTable, element);\n",
              "        const docLink = document.createElement('div');\n",
              "        docLink.innerHTML = docLinkHtml;\n",
              "        element.appendChild(docLink);\n",
              "      }\n",
              "    </script>\n",
              "  </div>\n",
              "\n",
              "\n",
              "<div id=\"df-38bc00d7-fc30-4887-9fdf-7e7926e033ee\">\n",
              "  <button class=\"colab-df-quickchart\" onclick=\"quickchart('df-38bc00d7-fc30-4887-9fdf-7e7926e033ee')\"\n",
              "            title=\"Suggest charts\"\n",
              "            style=\"display:none;\">\n",
              "\n",
              "<svg xmlns=\"http://www.w3.org/2000/svg\" height=\"24px\"viewBox=\"0 0 24 24\"\n",
              "     width=\"24px\">\n",
              "    <g>\n",
              "        <path d=\"M19 3H5c-1.1 0-2 .9-2 2v14c0 1.1.9 2 2 2h14c1.1 0 2-.9 2-2V5c0-1.1-.9-2-2-2zM9 17H7v-7h2v7zm4 0h-2V7h2v10zm4 0h-2v-4h2v4z\"/>\n",
              "    </g>\n",
              "</svg>\n",
              "  </button>\n",
              "\n",
              "<style>\n",
              "  .colab-df-quickchart {\n",
              "      --bg-color: #E8F0FE;\n",
              "      --fill-color: #1967D2;\n",
              "      --hover-bg-color: #E2EBFA;\n",
              "      --hover-fill-color: #174EA6;\n",
              "      --disabled-fill-color: #AAA;\n",
              "      --disabled-bg-color: #DDD;\n",
              "  }\n",
              "\n",
              "  [theme=dark] .colab-df-quickchart {\n",
              "      --bg-color: #3B4455;\n",
              "      --fill-color: #D2E3FC;\n",
              "      --hover-bg-color: #434B5C;\n",
              "      --hover-fill-color: #FFFFFF;\n",
              "      --disabled-bg-color: #3B4455;\n",
              "      --disabled-fill-color: #666;\n",
              "  }\n",
              "\n",
              "  .colab-df-quickchart {\n",
              "    background-color: var(--bg-color);\n",
              "    border: none;\n",
              "    border-radius: 50%;\n",
              "    cursor: pointer;\n",
              "    display: none;\n",
              "    fill: var(--fill-color);\n",
              "    height: 32px;\n",
              "    padding: 0;\n",
              "    width: 32px;\n",
              "  }\n",
              "\n",
              "  .colab-df-quickchart:hover {\n",
              "    background-color: var(--hover-bg-color);\n",
              "    box-shadow: 0 1px 2px rgba(60, 64, 67, 0.3), 0 1px 3px 1px rgba(60, 64, 67, 0.15);\n",
              "    fill: var(--button-hover-fill-color);\n",
              "  }\n",
              "\n",
              "  .colab-df-quickchart-complete:disabled,\n",
              "  .colab-df-quickchart-complete:disabled:hover {\n",
              "    background-color: var(--disabled-bg-color);\n",
              "    fill: var(--disabled-fill-color);\n",
              "    box-shadow: none;\n",
              "  }\n",
              "\n",
              "  .colab-df-spinner {\n",
              "    border: 2px solid var(--fill-color);\n",
              "    border-color: transparent;\n",
              "    border-bottom-color: var(--fill-color);\n",
              "    animation:\n",
              "      spin 1s steps(1) infinite;\n",
              "  }\n",
              "\n",
              "  @keyframes spin {\n",
              "    0% {\n",
              "      border-color: transparent;\n",
              "      border-bottom-color: var(--fill-color);\n",
              "      border-left-color: var(--fill-color);\n",
              "    }\n",
              "    20% {\n",
              "      border-color: transparent;\n",
              "      border-left-color: var(--fill-color);\n",
              "      border-top-color: var(--fill-color);\n",
              "    }\n",
              "    30% {\n",
              "      border-color: transparent;\n",
              "      border-left-color: var(--fill-color);\n",
              "      border-top-color: var(--fill-color);\n",
              "      border-right-color: var(--fill-color);\n",
              "    }\n",
              "    40% {\n",
              "      border-color: transparent;\n",
              "      border-right-color: var(--fill-color);\n",
              "      border-top-color: var(--fill-color);\n",
              "    }\n",
              "    60% {\n",
              "      border-color: transparent;\n",
              "      border-right-color: var(--fill-color);\n",
              "    }\n",
              "    80% {\n",
              "      border-color: transparent;\n",
              "      border-right-color: var(--fill-color);\n",
              "      border-bottom-color: var(--fill-color);\n",
              "    }\n",
              "    90% {\n",
              "      border-color: transparent;\n",
              "      border-bottom-color: var(--fill-color);\n",
              "    }\n",
              "  }\n",
              "</style>\n",
              "\n",
              "  <script>\n",
              "    async function quickchart(key) {\n",
              "      const quickchartButtonEl =\n",
              "        document.querySelector('#' + key + ' button');\n",
              "      quickchartButtonEl.disabled = true;  // To prevent multiple clicks.\n",
              "      quickchartButtonEl.classList.add('colab-df-spinner');\n",
              "      try {\n",
              "        const charts = await google.colab.kernel.invokeFunction(\n",
              "            'suggestCharts', [key], {});\n",
              "      } catch (error) {\n",
              "        console.error('Error during call to suggestCharts:', error);\n",
              "      }\n",
              "      quickchartButtonEl.classList.remove('colab-df-spinner');\n",
              "      quickchartButtonEl.classList.add('colab-df-quickchart-complete');\n",
              "    }\n",
              "    (() => {\n",
              "      let quickchartButtonEl =\n",
              "        document.querySelector('#df-38bc00d7-fc30-4887-9fdf-7e7926e033ee button');\n",
              "      quickchartButtonEl.style.display =\n",
              "        google.colab.kernel.accessAllowed ? 'block' : 'none';\n",
              "    })();\n",
              "  </script>\n",
              "</div>\n",
              "\n",
              "    </div>\n",
              "  </div>\n"
            ],
            "application/vnd.google.colaboratory.intrinsic+json": {
              "type": "dataframe",
              "variable_name": "df"
            }
          },
          "metadata": {},
          "execution_count": 62
        }
      ],
      "source": [
        "import pandas as pd\n",
        "df = pd.read_csv('my_dataframe.csv',encoding='utf-8')\n",
        "df.head()  #spoken=1  written=0"
      ]
    },
    {
      "cell_type": "code",
      "source": [
        "from sklearn.metrics import classification_report, accuracy_score\n",
        "from sklearn.preprocessing import StandardScaler"
      ],
      "metadata": {
        "id": "K8hywfOwpQVH"
      },
      "execution_count": 63,
      "outputs": []
    },
    {
      "cell_type": "code",
      "source": [
        "X = df.drop('label', axis=1)\n",
        "X = X.drop('texts', axis=1)\n",
        "y = df['label']"
      ],
      "metadata": {
        "id": "byDSiXNHpTsa"
      },
      "execution_count": 64,
      "outputs": []
    },
    {
      "cell_type": "code",
      "source": [
        "scaler = StandardScaler()\n",
        "X_scaled = scaler.fit_transform(X)"
      ],
      "metadata": {
        "id": "_o1j2J4YqI0P"
      },
      "execution_count": 65,
      "outputs": []
    },
    {
      "cell_type": "code",
      "source": [
        "from sklearn.model_selection import train_test_split\n",
        "X_train, X_test, y_train, y_test = train_test_split(X_scaled, y, test_size=0.2, random_state=42)"
      ],
      "metadata": {
        "id": "wDyP1PeRpVYt"
      },
      "execution_count": 66,
      "outputs": []
    },
    {
      "cell_type": "code",
      "source": [
        "from sklearn.linear_model import LogisticRegression\n",
        "\n",
        "\n",
        "logistic_regression = LogisticRegression(random_state=42)\n",
        "logistic_regression.fit(X_train, y_train)\n",
        "y_pred_logistic = logistic_regression.predict(X_test)\n",
        "accuracy_logistic = accuracy_score(y_test, y_pred_logistic)\n",
        "print(\"\\nLogistic Regression Accuracy:\", accuracy_logistic)\n",
        "print(\"\\nClassification Report:\")\n",
        "print(classification_report(y_test, y_pred_logistic))"
      ],
      "metadata": {
        "colab": {
          "base_uri": "https://localhost:8080/"
        },
        "id": "Y3ywBw3XpXWV",
        "outputId": "d5372af7-89ba-40ca-ff13-528f330027e8"
      },
      "execution_count": 67,
      "outputs": [
        {
          "output_type": "stream",
          "name": "stdout",
          "text": [
            "\n",
            "Logistic Regression Accuracy: 0.8929956060997674\n",
            "\n",
            "Classification Report:\n",
            "              precision    recall  f1-score   support\n",
            "\n",
            "           0       0.88      0.90      0.89      3826\n",
            "           1       0.90      0.89      0.89      3912\n",
            "\n",
            "    accuracy                           0.89      7738\n",
            "   macro avg       0.89      0.89      0.89      7738\n",
            "weighted avg       0.89      0.89      0.89      7738\n",
            "\n"
          ]
        }
      ]
    },
    {
      "cell_type": "code",
      "source": [
        "df_numeric = df.drop(['texts', 'label'], axis=1)\n",
        "correlation_matrix = df_numeric.corr()\n",
        "threshold = 0.5"
      ],
      "metadata": {
        "id": "ZubHXm6qX7Ei"
      },
      "execution_count": 68,
      "outputs": []
    },
    {
      "cell_type": "code",
      "source": [
        "highly_correlated_features = []\n",
        "for i in range(len(correlation_matrix.columns)):\n",
        "  for j in range(i + 1, len(correlation_matrix.columns)):\n",
        "    if abs(correlation_matrix.iloc[i, j]) > threshold:\n",
        "      highly_correlated_features.append((correlation_matrix.columns[i], correlation_matrix.columns[j]))"
      ],
      "metadata": {
        "id": "hMWCMyl5X9lg"
      },
      "execution_count": 69,
      "outputs": []
    },
    {
      "cell_type": "code",
      "source": [
        "print(\"Highly Correlated Features:\")\n",
        "for feature1, feature2 in highly_correlated_features:\n",
        "  print(f\"{feature1} and {feature2}\")"
      ],
      "metadata": {
        "colab": {
          "base_uri": "https://localhost:8080/"
        },
        "id": "nIqhhQx1Ysa-",
        "outputId": "26a4be10-e9c6-4807-e69d-95a19829deba"
      },
      "execution_count": 70,
      "outputs": [
        {
          "output_type": "stream",
          "name": "stdout",
          "text": [
            "Highly Correlated Features:\n",
            "parse_tree_depth and noun_count_hi\n",
            "parse_tree_depth and verb_count_hi\n",
            "parse_tree_depth and pronoun_count_hi\n",
            "parse_tree_depth and total_words_hi\n",
            "parse_tree_depth and words_per_sent\n",
            "parse_tree_depth and token_type_ratio\n",
            "parse_tree_depth and case_marker_count\n",
            "parse_tree_depth and conjunction_count\n",
            "parse_tree_depth and hesitation_markers\n",
            "noun_count_hi and verb_count_hi\n",
            "noun_count_hi and pronoun_count_hi\n",
            "noun_count_hi and total_words_hi\n",
            "noun_count_hi and words_per_sent\n",
            "noun_count_hi and token_type_ratio\n",
            "noun_count_hi and case_marker_count\n",
            "noun_count_hi and conjunction_count\n",
            "noun_count_hi and hesitation_markers\n",
            "verb_count_hi and adverb_count_hi\n",
            "verb_count_hi and pronoun_count_hi\n",
            "verb_count_hi and total_words_hi\n",
            "verb_count_hi and words_per_sent\n",
            "verb_count_hi and token_type_ratio\n",
            "verb_count_hi and case_marker_count\n",
            "verb_count_hi and conjunction_count\n",
            "verb_count_hi and hesitation_markers\n",
            "adverb_count_hi and pronoun_count_hi\n",
            "adverb_count_hi and total_words_hi\n",
            "adverb_count_hi and words_per_sent\n",
            "adverb_count_hi and hesitation_markers\n",
            "pronoun_count_hi and total_words_hi\n",
            "pronoun_count_hi and words_per_sent\n",
            "pronoun_count_hi and token_type_ratio\n",
            "pronoun_count_hi and conjunction_count\n",
            "pronoun_count_hi and hesitation_markers\n",
            "total_words_hi and words_per_sent\n",
            "total_words_hi and token_type_ratio\n",
            "total_words_hi and case_marker_count\n",
            "total_words_hi and conjunction_count\n",
            "total_words_hi and hesitation_markers\n",
            "words_per_sent and token_type_ratio\n",
            "words_per_sent and case_marker_count\n",
            "words_per_sent and conjunction_count\n",
            "words_per_sent and hesitation_markers\n",
            "token_type_ratio and case_marker_count\n",
            "token_type_ratio and conjunction_count\n",
            "token_type_ratio and hesitation_markers\n",
            "case_marker_count and conjunction_count\n",
            "conjunction_count and hesitation_markers\n"
          ]
        }
      ]
    },
    {
      "cell_type": "code",
      "source": [
        "#keep one of them\n",
        "features_to_keep = []\n",
        "for feature1, feature2 in highly_correlated_features:\n",
        "  if feature1 not in features_to_keep:\n",
        "    features_to_keep.append(feature1)\n",
        "  if feature2 not in features_to_keep:\n",
        "    features_to_keep.append(feature2)"
      ],
      "metadata": {
        "id": "j9OnKIFQYwu-"
      },
      "execution_count": 71,
      "outputs": []
    },
    {
      "cell_type": "code",
      "source": [
        "X_reduced = df[features_to_keep]\n",
        "\n",
        "# Retrain the logistic regression model:\n",
        "X_train, X_test, y_train, y_test = train_test_split(X_reduced, y, test_size=0.2, random_state=42)\n",
        "logistic_regression = LogisticRegression(random_state=42)\n",
        "logistic_regression.fit(X_train, y_train)"
      ],
      "metadata": {
        "colab": {
          "base_uri": "https://localhost:8080/",
          "height": 233
        },
        "id": "JJmcBmf-Y07N",
        "outputId": "2aa9fc94-460c-4dc8-df5e-6df13a5e66f6"
      },
      "execution_count": 72,
      "outputs": [
        {
          "output_type": "stream",
          "name": "stderr",
          "text": [
            "/usr/local/lib/python3.10/dist-packages/sklearn/linear_model/_logistic.py:458: ConvergenceWarning: lbfgs failed to converge (status=1):\n",
            "STOP: TOTAL NO. of ITERATIONS REACHED LIMIT.\n",
            "\n",
            "Increase the number of iterations (max_iter) or scale the data as shown in:\n",
            "    https://scikit-learn.org/stable/modules/preprocessing.html\n",
            "Please also refer to the documentation for alternative solver options:\n",
            "    https://scikit-learn.org/stable/modules/linear_model.html#logistic-regression\n",
            "  n_iter_i = _check_optimize_result(\n"
          ]
        },
        {
          "output_type": "execute_result",
          "data": {
            "text/plain": [
              "LogisticRegression(random_state=42)"
            ],
            "text/html": [
              "<style>#sk-container-id-7 {color: black;background-color: white;}#sk-container-id-7 pre{padding: 0;}#sk-container-id-7 div.sk-toggleable {background-color: white;}#sk-container-id-7 label.sk-toggleable__label {cursor: pointer;display: block;width: 100%;margin-bottom: 0;padding: 0.3em;box-sizing: border-box;text-align: center;}#sk-container-id-7 label.sk-toggleable__label-arrow:before {content: \"▸\";float: left;margin-right: 0.25em;color: #696969;}#sk-container-id-7 label.sk-toggleable__label-arrow:hover:before {color: black;}#sk-container-id-7 div.sk-estimator:hover label.sk-toggleable__label-arrow:before {color: black;}#sk-container-id-7 div.sk-toggleable__content {max-height: 0;max-width: 0;overflow: hidden;text-align: left;background-color: #f0f8ff;}#sk-container-id-7 div.sk-toggleable__content pre {margin: 0.2em;color: black;border-radius: 0.25em;background-color: #f0f8ff;}#sk-container-id-7 input.sk-toggleable__control:checked~div.sk-toggleable__content {max-height: 200px;max-width: 100%;overflow: auto;}#sk-container-id-7 input.sk-toggleable__control:checked~label.sk-toggleable__label-arrow:before {content: \"▾\";}#sk-container-id-7 div.sk-estimator input.sk-toggleable__control:checked~label.sk-toggleable__label {background-color: #d4ebff;}#sk-container-id-7 div.sk-label input.sk-toggleable__control:checked~label.sk-toggleable__label {background-color: #d4ebff;}#sk-container-id-7 input.sk-hidden--visually {border: 0;clip: rect(1px 1px 1px 1px);clip: rect(1px, 1px, 1px, 1px);height: 1px;margin: -1px;overflow: hidden;padding: 0;position: absolute;width: 1px;}#sk-container-id-7 div.sk-estimator {font-family: monospace;background-color: #f0f8ff;border: 1px dotted black;border-radius: 0.25em;box-sizing: border-box;margin-bottom: 0.5em;}#sk-container-id-7 div.sk-estimator:hover {background-color: #d4ebff;}#sk-container-id-7 div.sk-parallel-item::after {content: \"\";width: 100%;border-bottom: 1px solid gray;flex-grow: 1;}#sk-container-id-7 div.sk-label:hover label.sk-toggleable__label {background-color: #d4ebff;}#sk-container-id-7 div.sk-serial::before {content: \"\";position: absolute;border-left: 1px solid gray;box-sizing: border-box;top: 0;bottom: 0;left: 50%;z-index: 0;}#sk-container-id-7 div.sk-serial {display: flex;flex-direction: column;align-items: center;background-color: white;padding-right: 0.2em;padding-left: 0.2em;position: relative;}#sk-container-id-7 div.sk-item {position: relative;z-index: 1;}#sk-container-id-7 div.sk-parallel {display: flex;align-items: stretch;justify-content: center;background-color: white;position: relative;}#sk-container-id-7 div.sk-item::before, #sk-container-id-7 div.sk-parallel-item::before {content: \"\";position: absolute;border-left: 1px solid gray;box-sizing: border-box;top: 0;bottom: 0;left: 50%;z-index: -1;}#sk-container-id-7 div.sk-parallel-item {display: flex;flex-direction: column;z-index: 1;position: relative;background-color: white;}#sk-container-id-7 div.sk-parallel-item:first-child::after {align-self: flex-end;width: 50%;}#sk-container-id-7 div.sk-parallel-item:last-child::after {align-self: flex-start;width: 50%;}#sk-container-id-7 div.sk-parallel-item:only-child::after {width: 0;}#sk-container-id-7 div.sk-dashed-wrapped {border: 1px dashed gray;margin: 0 0.4em 0.5em 0.4em;box-sizing: border-box;padding-bottom: 0.4em;background-color: white;}#sk-container-id-7 div.sk-label label {font-family: monospace;font-weight: bold;display: inline-block;line-height: 1.2em;}#sk-container-id-7 div.sk-label-container {text-align: center;}#sk-container-id-7 div.sk-container {/* jupyter's `normalize.less` sets `[hidden] { display: none; }` but bootstrap.min.css set `[hidden] { display: none !important; }` so we also need the `!important` here to be able to override the default hidden behavior on the sphinx rendered scikit-learn.org. See: https://github.com/scikit-learn/scikit-learn/issues/21755 */display: inline-block !important;position: relative;}#sk-container-id-7 div.sk-text-repr-fallback {display: none;}</style><div id=\"sk-container-id-7\" class=\"sk-top-container\"><div class=\"sk-text-repr-fallback\"><pre>LogisticRegression(random_state=42)</pre><b>In a Jupyter environment, please rerun this cell to show the HTML representation or trust the notebook. <br />On GitHub, the HTML representation is unable to render, please try loading this page with nbviewer.org.</b></div><div class=\"sk-container\" hidden><div class=\"sk-item\"><div class=\"sk-estimator sk-toggleable\"><input class=\"sk-toggleable__control sk-hidden--visually\" id=\"sk-estimator-id-7\" type=\"checkbox\" checked><label for=\"sk-estimator-id-7\" class=\"sk-toggleable__label sk-toggleable__label-arrow\">LogisticRegression</label><div class=\"sk-toggleable__content\"><pre>LogisticRegression(random_state=42)</pre></div></div></div></div></div>"
            ]
          },
          "metadata": {},
          "execution_count": 72
        }
      ]
    },
    {
      "cell_type": "code",
      "source": [
        "y_pred_logistic = logistic_regression.predict(X_test)\n",
        "accuracy_logistic_reduced = accuracy_score(y_test, y_pred_logistic)\n",
        "\n",
        "\n",
        "print(\"\\nOriginal Model Accuracy:\", accuracy_logistic)\n",
        "print(\".5 threshold Model Accuracy:\", accuracy_logistic_reduced)"
      ],
      "metadata": {
        "colab": {
          "base_uri": "https://localhost:8080/"
        },
        "id": "bBvYBun_Y4m2",
        "outputId": "1afd9368-562c-4d4c-e74b-723ea545f1ec"
      },
      "execution_count": 73,
      "outputs": [
        {
          "output_type": "stream",
          "name": "stdout",
          "text": [
            "\n",
            "Original Model Accuracy: 0.8929956060997674\n",
            ".5 threshold Model Accuracy: 0.9069527009563194\n"
          ]
        }
      ]
    },
    {
      "cell_type": "markdown",
      "source": [
        "*   Original Model Accuracy: 0.8929956060997674\n",
        "*   .8 threshold Model Accuracy: 0.9008787800465237\n",
        "*    \n",
        "    .7 threshold Model Accuracy: 0.9020418712845697\n",
        "*   .6 threshold Model Accuracy: 0.9055311449987077\n",
        "*   .5 threshold Model Accuracy: 0.9069527009563194\n"
      ],
      "metadata": {
        "id": "SUXUDjrJZDqp"
      }
    },
    {
      "cell_type": "code",
      "source": [
        "print(df[features_to_keep].columns.tolist())"
      ],
      "metadata": {
        "colab": {
          "base_uri": "https://localhost:8080/"
        },
        "id": "1LjRfr9rZwm4",
        "outputId": "ba678020-0fa5-43b6-cf0b-4408b91a16ed"
      },
      "execution_count": 74,
      "outputs": [
        {
          "output_type": "stream",
          "name": "stdout",
          "text": [
            "['parse_tree_depth', 'noun_count_hi', 'verb_count_hi', 'pronoun_count_hi', 'total_words_hi', 'words_per_sent', 'token_type_ratio', 'case_marker_count', 'conjunction_count', 'hesitation_markers', 'adverb_count_hi']\n"
          ]
        }
      ]
    },
    {
      "cell_type": "code",
      "source": [
        "#CHI Squared test\n",
        "from sklearn.feature_selection import chi2\n",
        "df_numeric = df.drop(['texts', 'label'], axis=1)\n",
        "\n",
        "chi2_scores, p_values = chi2(df_numeric, y)"
      ],
      "metadata": {
        "id": "xQfjqajObWhk"
      },
      "execution_count": 75,
      "outputs": []
    },
    {
      "cell_type": "code",
      "source": [
        "chi2_df = pd.DataFrame({\n",
        "    'feature': df_numeric.columns,\n",
        "    'chi2_score': chi2_scores,\n",
        "    'p_value': p_values\n",
        "})\n",
        "\n",
        "# Print the chi-squared results\n",
        "print(chi2_df.to_string())"
      ],
      "metadata": {
        "colab": {
          "base_uri": "https://localhost:8080/"
        },
        "id": "p2SlhC-hdUGs",
        "outputId": "aba13636-91ed-43f0-9cf9-84bf76409ea7"
      },
      "execution_count": 76,
      "outputs": [
        {
          "output_type": "stream",
          "name": "stdout",
          "text": [
            "                    feature    chi2_score        p_value\n",
            "0          parse_tree_depth    121.708102   2.674261e-28\n",
            "1             noun_count_hi   1648.391608   0.000000e+00\n",
            "2             verb_count_hi   1407.194745  5.741146e-308\n",
            "3           adverb_count_hi   1217.553803  9.340948e-267\n",
            "4          pronoun_count_hi  17944.259002   0.000000e+00\n",
            "5            total_words_hi   1018.551919  1.666418e-223\n",
            "6        noun_percentage_hi  25544.493728   0.000000e+00\n",
            "7        verb_percentage_hi   1518.305885   0.000000e+00\n",
            "8      adverb_percentage_hi   7890.927311   0.000000e+00\n",
            "9     pronoun_percentage_hi  52651.845610   0.000000e+00\n",
            "10           words_per_sent   2286.336412   0.000000e+00\n",
            "11  avg_characters_per_word   1652.633346   0.000000e+00\n",
            "12         token_type_ratio     14.562823   1.355629e-04\n",
            "13         case_marker_perc  53902.281938   0.000000e+00\n",
            "14        case_marker_count   5520.759955   0.000000e+00\n",
            "15        conjunction_count    588.898108  4.350972e-130\n",
            "16  conjunctions_percentage    311.856646   8.605393e-70\n",
            "17       hesitation_markers  21386.537351   0.000000e+00\n",
            "18        wh_question_count   1167.376623  7.504995e-256\n"
          ]
        }
      ]
    },
    {
      "cell_type": "code",
      "source": [
        "threshold = 0.05\n",
        "significant_features = [feature for i, feature in enumerate(df_numeric.columns) if p_values[i] < threshold]"
      ],
      "metadata": {
        "id": "99IrU5dacenu"
      },
      "execution_count": 77,
      "outputs": []
    },
    {
      "cell_type": "code",
      "source": [
        "X_reduced = df[significant_features]\n",
        "list1 = df[significant_features].columns.tolist()\n",
        "print(list1)\n",
        "\n",
        "\n",
        "X_train, X_test, y_train, y_test = train_test_split(X_reduced, y, test_size=0.2, random_state=42)\n",
        "logistic_regression = LogisticRegression(random_state=42)\n",
        "logistic_regression.fit(X_train, y_train)\n"
      ],
      "metadata": {
        "colab": {
          "base_uri": "https://localhost:8080/",
          "height": 251
        },
        "id": "IO129tzgcfaU",
        "outputId": "e6778ab2-1893-41c7-ce91-b2ea4f05f4b8"
      },
      "execution_count": 78,
      "outputs": [
        {
          "output_type": "stream",
          "name": "stdout",
          "text": [
            "['parse_tree_depth', 'noun_count_hi', 'verb_count_hi', 'adverb_count_hi', 'pronoun_count_hi', 'total_words_hi', 'noun_percentage_hi', 'verb_percentage_hi', 'adverb_percentage_hi', 'pronoun_percentage_hi', 'words_per_sent', 'avg_characters_per_word', 'token_type_ratio', 'case_marker_perc', 'case_marker_count', 'conjunction_count', 'conjunctions_percentage', 'hesitation_markers', 'wh_question_count']\n"
          ]
        },
        {
          "output_type": "stream",
          "name": "stderr",
          "text": [
            "/usr/local/lib/python3.10/dist-packages/sklearn/linear_model/_logistic.py:458: ConvergenceWarning: lbfgs failed to converge (status=1):\n",
            "STOP: TOTAL NO. of ITERATIONS REACHED LIMIT.\n",
            "\n",
            "Increase the number of iterations (max_iter) or scale the data as shown in:\n",
            "    https://scikit-learn.org/stable/modules/preprocessing.html\n",
            "Please also refer to the documentation for alternative solver options:\n",
            "    https://scikit-learn.org/stable/modules/linear_model.html#logistic-regression\n",
            "  n_iter_i = _check_optimize_result(\n"
          ]
        },
        {
          "output_type": "execute_result",
          "data": {
            "text/plain": [
              "LogisticRegression(random_state=42)"
            ],
            "text/html": [
              "<style>#sk-container-id-8 {color: black;background-color: white;}#sk-container-id-8 pre{padding: 0;}#sk-container-id-8 div.sk-toggleable {background-color: white;}#sk-container-id-8 label.sk-toggleable__label {cursor: pointer;display: block;width: 100%;margin-bottom: 0;padding: 0.3em;box-sizing: border-box;text-align: center;}#sk-container-id-8 label.sk-toggleable__label-arrow:before {content: \"▸\";float: left;margin-right: 0.25em;color: #696969;}#sk-container-id-8 label.sk-toggleable__label-arrow:hover:before {color: black;}#sk-container-id-8 div.sk-estimator:hover label.sk-toggleable__label-arrow:before {color: black;}#sk-container-id-8 div.sk-toggleable__content {max-height: 0;max-width: 0;overflow: hidden;text-align: left;background-color: #f0f8ff;}#sk-container-id-8 div.sk-toggleable__content pre {margin: 0.2em;color: black;border-radius: 0.25em;background-color: #f0f8ff;}#sk-container-id-8 input.sk-toggleable__control:checked~div.sk-toggleable__content {max-height: 200px;max-width: 100%;overflow: auto;}#sk-container-id-8 input.sk-toggleable__control:checked~label.sk-toggleable__label-arrow:before {content: \"▾\";}#sk-container-id-8 div.sk-estimator input.sk-toggleable__control:checked~label.sk-toggleable__label {background-color: #d4ebff;}#sk-container-id-8 div.sk-label input.sk-toggleable__control:checked~label.sk-toggleable__label {background-color: #d4ebff;}#sk-container-id-8 input.sk-hidden--visually {border: 0;clip: rect(1px 1px 1px 1px);clip: rect(1px, 1px, 1px, 1px);height: 1px;margin: -1px;overflow: hidden;padding: 0;position: absolute;width: 1px;}#sk-container-id-8 div.sk-estimator {font-family: monospace;background-color: #f0f8ff;border: 1px dotted black;border-radius: 0.25em;box-sizing: border-box;margin-bottom: 0.5em;}#sk-container-id-8 div.sk-estimator:hover {background-color: #d4ebff;}#sk-container-id-8 div.sk-parallel-item::after {content: \"\";width: 100%;border-bottom: 1px solid gray;flex-grow: 1;}#sk-container-id-8 div.sk-label:hover label.sk-toggleable__label {background-color: #d4ebff;}#sk-container-id-8 div.sk-serial::before {content: \"\";position: absolute;border-left: 1px solid gray;box-sizing: border-box;top: 0;bottom: 0;left: 50%;z-index: 0;}#sk-container-id-8 div.sk-serial {display: flex;flex-direction: column;align-items: center;background-color: white;padding-right: 0.2em;padding-left: 0.2em;position: relative;}#sk-container-id-8 div.sk-item {position: relative;z-index: 1;}#sk-container-id-8 div.sk-parallel {display: flex;align-items: stretch;justify-content: center;background-color: white;position: relative;}#sk-container-id-8 div.sk-item::before, #sk-container-id-8 div.sk-parallel-item::before {content: \"\";position: absolute;border-left: 1px solid gray;box-sizing: border-box;top: 0;bottom: 0;left: 50%;z-index: -1;}#sk-container-id-8 div.sk-parallel-item {display: flex;flex-direction: column;z-index: 1;position: relative;background-color: white;}#sk-container-id-8 div.sk-parallel-item:first-child::after {align-self: flex-end;width: 50%;}#sk-container-id-8 div.sk-parallel-item:last-child::after {align-self: flex-start;width: 50%;}#sk-container-id-8 div.sk-parallel-item:only-child::after {width: 0;}#sk-container-id-8 div.sk-dashed-wrapped {border: 1px dashed gray;margin: 0 0.4em 0.5em 0.4em;box-sizing: border-box;padding-bottom: 0.4em;background-color: white;}#sk-container-id-8 div.sk-label label {font-family: monospace;font-weight: bold;display: inline-block;line-height: 1.2em;}#sk-container-id-8 div.sk-label-container {text-align: center;}#sk-container-id-8 div.sk-container {/* jupyter's `normalize.less` sets `[hidden] { display: none; }` but bootstrap.min.css set `[hidden] { display: none !important; }` so we also need the `!important` here to be able to override the default hidden behavior on the sphinx rendered scikit-learn.org. See: https://github.com/scikit-learn/scikit-learn/issues/21755 */display: inline-block !important;position: relative;}#sk-container-id-8 div.sk-text-repr-fallback {display: none;}</style><div id=\"sk-container-id-8\" class=\"sk-top-container\"><div class=\"sk-text-repr-fallback\"><pre>LogisticRegression(random_state=42)</pre><b>In a Jupyter environment, please rerun this cell to show the HTML representation or trust the notebook. <br />On GitHub, the HTML representation is unable to render, please try loading this page with nbviewer.org.</b></div><div class=\"sk-container\" hidden><div class=\"sk-item\"><div class=\"sk-estimator sk-toggleable\"><input class=\"sk-toggleable__control sk-hidden--visually\" id=\"sk-estimator-id-8\" type=\"checkbox\" checked><label for=\"sk-estimator-id-8\" class=\"sk-toggleable__label sk-toggleable__label-arrow\">LogisticRegression</label><div class=\"sk-toggleable__content\"><pre>LogisticRegression(random_state=42)</pre></div></div></div></div></div>"
            ]
          },
          "metadata": {},
          "execution_count": 78
        }
      ]
    },
    {
      "cell_type": "code",
      "source": [
        "y_pred_logistic = logistic_regression.predict(X_test)\n",
        "accuracy_logistic_reduced = accuracy_score(y_test, y_pred_logistic)\n",
        "\n",
        "# Compare the accuracy of the original and reduced models\n",
        "print(\"\\nOriginal Model Accuracy:\", accuracy_logistic)\n",
        "print(\"After testing Model Accuracy:\", accuracy_logistic_reduced)"
      ],
      "metadata": {
        "colab": {
          "base_uri": "https://localhost:8080/"
        },
        "id": "qzbw-mIpcqEv",
        "outputId": "5a0e4b73-3c68-46e2-b97c-42ada529da34"
      },
      "execution_count": 79,
      "outputs": [
        {
          "output_type": "stream",
          "name": "stdout",
          "text": [
            "\n",
            "Original Model Accuracy: 0.8929956060997674\n",
            "After testing Model Accuracy: 0.916903592659602\n"
          ]
        }
      ]
    },
    {
      "cell_type": "code",
      "source": [
        "import matplotlib.pyplot as plt\n",
        "features_and_scores = list(zip(df_numeric.columns, chi2_scores))\n",
        "features_and_scores.sort(key=lambda x: x[1], reverse=True)\n",
        "features, scores = zip(*features_and_scores)\n",
        "\n",
        "# Create a horizontal bar chart\n",
        "plt.figure(figsize=(10, 6))\n",
        "plt.barh(features, scores)\n",
        "plt.xlabel(\"Chi-squared Score\")\n",
        "plt.ylabel(\"Feature\")\n",
        "plt.title(\"Most Important Features\")\n",
        "plt.show()\n"
      ],
      "metadata": {
        "colab": {
          "base_uri": "https://localhost:8080/",
          "height": 584
        },
        "id": "3wuZM9bReeyw",
        "outputId": "ddcdba0e-80c6-4cbd-a4ee-973e7917358d"
      },
      "execution_count": 80,
      "outputs": [
        {
          "output_type": "display_data",
          "data": {
            "text/plain": [
              "<Figure size 1000x600 with 1 Axes>"
            ],
            "image/png": "[encoded data removed]"
          },
          "metadata": {}
        }
      ]
    },
    {
      "cell_type": "markdown",
      "source": [
        "*   High p-values indicate that there is no statistically significant association between the feature and the target variable.\n",
        "*   Low p-values indicate that there is a statistically significant association between the feature and the target variable.\n",
        "\n"
      ],
      "metadata": {
        "id": "8D1453vDfjsp"
      }
    },
    {
      "cell_type": "code",
      "source": [
        "#Z Scores\n",
        "import scipy.stats as stats\n",
        "df_numeric_zscores = df_numeric.apply(stats.zscore)\n",
        "\n",
        "print(df_numeric_zscores.head())"
      ],
      "metadata": {
        "colab": {
          "base_uri": "https://localhost:8080/"
        },
        "id": "LSNcDbzGnasR",
        "outputId": "3cf9fd5b-1fa9-4ba4-f6d5-69b60379de7d"
      },
      "execution_count": 82,
      "outputs": [
        {
          "output_type": "stream",
          "name": "stdout",
          "text": [
            "   parse_tree_depth  noun_count_hi  verb_count_hi  adverb_count_hi  \\\n",
            "0         -0.255347       0.324114      -0.156264        -0.437072   \n",
            "1         -0.255347      -0.507703      -0.449467        -0.437072   \n",
            "2         -1.178951      -0.674067      -0.742670        -0.437072   \n",
            "3         -0.255347      -0.341340      -0.449467        -0.437072   \n",
            "4         -2.102554      -0.840430      -0.742670        -0.437072   \n",
            "\n",
            "   pronoun_count_hi  total_words_hi  noun_percentage_hi  verb_percentage_hi  \\\n",
            "0         -0.519341        0.128981            0.506792           -0.399017   \n",
            "1         -0.228440       -0.401014           -0.406608           -0.326168   \n",
            "2         -0.228440       -0.719011            0.506792           -1.346058   \n",
            "3         -0.228440       -0.471680            0.722686           -0.140733   \n",
            "4         -0.519341       -0.825010           -1.868047           -1.346058   \n",
            "\n",
            "   adverb_percentage_hi  pronoun_percentage_hi  words_per_sent  \\\n",
            "0             -0.341091              -0.800823        0.107472   \n",
            "1             -0.341091               0.051449       -0.387222   \n",
            "2             -0.341091               1.969060       -0.705239   \n",
            "3             -0.341091               0.206407       -0.457892   \n",
            "4             -0.341091              -0.800823       -0.811245   \n",
            "\n",
            "   avg_characters_per_word  token_type_ratio  case_marker_perc  \\\n",
            "0                 0.819299         -0.611499          0.079764   \n",
            "1                 1.102066          0.846257          0.960712   \n",
            "2                -0.754314          0.846257         -1.499868   \n",
            "3                -0.970615          0.846257         -0.530549   \n",
            "4                 1.624989          0.846257         -1.499868   \n",
            "\n",
            "   case_marker_count  conjunction_count  conjunctions_percentage  \\\n",
            "0           0.047988           0.413270                 0.660438   \n",
            "1          -0.149604          -0.293502                 0.159322   \n",
            "2          -0.742380          -0.646888                -0.968188   \n",
            "3          -0.544788          -0.646888                -0.968188   \n",
            "4          -0.742380          -0.646888                -0.968188   \n",
            "\n",
            "   hesitation_markers  wh_question_count  \n",
            "0            0.122452          -0.210457  \n",
            "1           -0.507189          -0.210457  \n",
            "2           -0.192368          -0.210457  \n",
            "3           -0.192368          -0.210457  \n",
            "4           -0.507189          -0.210457  \n"
          ]
        }
      ]
    },
    {
      "cell_type": "code",
      "source": [
        "abs_z_scores = df_numeric_zscores.abs().mean(axis=0)\n",
        "important_features = abs_z_scores.sort_values(ascending=False)\n",
        "\n",
        "# Print the top 15 most important features\n",
        "print(\"Top 5 most important features based on z-scores:\")\n",
        "print(important_features.head(15))\n"
      ],
      "metadata": {
        "colab": {
          "base_uri": "https://localhost:8080/"
        },
        "id": "D4R2XROcoFpT",
        "outputId": "ae7cc1e2-cdb4-41cc-f7c4-1a2c219b789a"
      },
      "execution_count": 85,
      "outputs": [
        {
          "output_type": "stream",
          "name": "stdout",
          "text": [
            "Top 5 most important features based on z-scores:\n",
            "case_marker_perc           0.802563\n",
            "token_type_ratio           0.778145\n",
            "noun_percentage_hi         0.763692\n",
            "avg_characters_per_word    0.755553\n",
            "pronoun_percentage_hi      0.749217\n",
            "conjunctions_percentage    0.742973\n",
            "verb_percentage_hi         0.720830\n",
            "adverb_count_hi            0.672351\n",
            "parse_tree_depth           0.640842\n",
            "noun_count_hi              0.582145\n",
            "conjunction_count          0.578475\n",
            "case_marker_count          0.570717\n",
            "verb_count_hi              0.550280\n",
            "total_words_hi             0.534240\n",
            "words_per_sent             0.533374\n",
            "dtype: float64\n"
          ]
        }
      ]
    },
    {
      "cell_type": "code",
      "source": [
        "\n",
        "X_train, X_test, y_train, y_test = train_test_split(X_reduced, y, test_size=0.2, random_state=42)\n",
        "\n",
        "logistic_regression = LogisticRegression(random_state=42)\n",
        "logistic_regression.fit(X_train, y_train)\n",
        "\n",
        "y_pred_logistic = logistic_regression.predict(X_test)\n",
        "\n",
        "accuracy_logistic_reduced = accuracy_score(y_test, y_pred_logistic)\n",
        "\n",
        "print(\"\\nAccuracy after removing low variance features:\", accuracy_logistic_reduced)\n"
      ],
      "metadata": {
        "colab": {
          "base_uri": "https://localhost:8080/"
        },
        "id": "zCikohEdog_3",
        "outputId": "4813d687-9e91-4c70-f500-8dd2ca5594b2"
      },
      "execution_count": 87,
      "outputs": [
        {
          "output_type": "stream",
          "name": "stdout",
          "text": [
            "\n",
            "Accuracy after removing low variance features: 0.916903592659602\n"
          ]
        },
        {
          "output_type": "stream",
          "name": "stderr",
          "text": [
            "/usr/local/lib/python3.10/dist-packages/sklearn/linear_model/_logistic.py:458: ConvergenceWarning: lbfgs failed to converge (status=1):\n",
            "STOP: TOTAL NO. of ITERATIONS REACHED LIMIT.\n",
            "\n",
            "Increase the number of iterations (max_iter) or scale the data as shown in:\n",
            "    https://scikit-learn.org/stable/modules/preprocessing.html\n",
            "Please also refer to the documentation for alternative solver options:\n",
            "    https://scikit-learn.org/stable/modules/linear_model.html#logistic-regression\n",
            "  n_iter_i = _check_optimize_result(\n"
          ]
        }
      ]
    }
  ]
}