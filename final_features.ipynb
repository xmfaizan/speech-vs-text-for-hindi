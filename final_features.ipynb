{
  "metadata": {
    "kernelspec": {
      "language": "python",
      "display_name": "Python 3",
      "name": "python3"
    },
    "language_info": {
      "name": "python",
      "version": "3.10.13",
      "mimetype": "text/x-python",
      "codemirror_mode": {
        "name": "ipython",
        "version": 3
      },
      "pygments_lexer": "ipython3",
      "nbconvert_exporter": "python",
      "file_extension": ".py"
    },
    "kaggle": {
      "accelerator": "gpu",
      "dataSources": [
        {
          "sourceId": 8784850,
          "sourceType": "datasetVersion",
          "datasetId": 5281104
        }
      ],
      "dockerImageVersionId": 30733,
      "isInternetEnabled": true,
      "language": "python",
      "sourceType": "notebook",
      "isGpuEnabled": true
    },
    "colab": {
      "provenance": []
    }
  },
  "nbformat_minor": 0,
  "nbformat": 4,
  "cells": [
    {
      "cell_type": "markdown",
      "source": [
        "#Feature Extraction"
      ],
      "metadata": {
        "id": "baswC_VsSVeN"
      }
    },
    {
      "source": [
        "\n",
        "# IMPORTANT: RUN THIS CELL IN ORDER TO IMPORT YOUR KAGGLE DATA SOURCES\n",
        "# TO THE CORRECT LOCATION (/kaggle/input) IN YOUR NOTEBOOK,\n",
        "# THEN FEEL FREE TO DELETE THIS CELL.\n",
        "# NOTE: THIS NOTEBOOK ENVIRONMENT DIFFERS FROM KAGGLE'S PYTHON\n",
        "# ENVIRONMENT SO THERE MAY BE MISSING LIBRARIES USED BY YOUR\n",
        "# NOTEBOOK.\n",
        "\n",
        "import os\n",
        "import sys\n",
        "from tempfile import NamedTemporaryFile\n",
        "from urllib.request import urlopen\n",
        "from urllib.parse import unquote, urlparse\n",
        "from urllib.error import HTTPError\n",
        "from zipfile import ZipFile\n",
        "import tarfile\n",
        "import shutil\n",
        "\n",
        "CHUNK_SIZE = 40960\n",
        "DATA_SOURCE_MAPPING = 'gggsdsd:https%3A%2F%2Fstorage.googleapis.com%2Fkaggle-data-sets%2F5281104%2F8784850%2Fbundle%2Farchive.zip%3FX-Goog-Algorithm%3DGOOG4-RSA-SHA256%26X-Goog-Credential%3Dgcp-kaggle-com%2540kaggle-161607.iam.gserviceaccount.com%252F20240629%252Fauto%252Fstorage%252Fgoog4_request%26X-Goog-Date%3D20240629T091424Z%26X-Goog-Expires%3D259200%26X-Goog-SignedHeaders%3Dhost%26X-Goog-Signature%3Da10291b59e02bb18c7e16905adcfe4eeaed2a9fbf98303d9ee9e1f0c376fa1d727084c3c9278235d6c7855a36a243aa50ce69b0b35677cef8e157fef998a1018ec57dd93a2ddbe62df62fc539d810928b9cdd7baed51f72afcd2f1f3c8f18345f4e35314c717abb45c246c9376df0a63bcbde0317615774b92e3ea74113ee6b8edf02f0d65e5db526c7aa6a0f7dd18aa6c0bc7fad1fce71ea3b6d24d385a7db551a92575401a98a4e6f973e5b3b43cb66e996f4a611b76729dbcb7427eee7beffe28e58a534c430fc9b3a92edcbeb5a39349f4bcc329640265906b513b8ed4661dffcf7863e623a06a233abe25f3becb07f3e6d6a3420a84ae6fea39cbbc5488'\n",
        "\n",
        "KAGGLE_INPUT_PATH='/kaggle/input'\n",
        "KAGGLE_WORKING_PATH='/kaggle/working'\n",
        "KAGGLE_SYMLINK='kaggle'\n",
        "\n",
        "!umount /kaggle/input/ 2> /dev/null\n",
        "shutil.rmtree('/kaggle/input', ignore_errors=True)\n",
        "os.makedirs(KAGGLE_INPUT_PATH, 0o777, exist_ok=True)\n",
        "os.makedirs(KAGGLE_WORKING_PATH, 0o777, exist_ok=True)\n",
        "\n",
        "try:\n",
        "  os.symlink(KAGGLE_INPUT_PATH, os.path.join(\"..\", 'input'), target_is_directory=True)\n",
        "except FileExistsError:\n",
        "  pass\n",
        "try:\n",
        "  os.symlink(KAGGLE_WORKING_PATH, os.path.join(\"..\", 'working'), target_is_directory=True)\n",
        "except FileExistsError:\n",
        "  pass\n",
        "\n",
        "for data_source_mapping in DATA_SOURCE_MAPPING.split(','):\n",
        "    directory, download_url_encoded = data_source_mapping.split(':')\n",
        "    download_url = unquote(download_url_encoded)\n",
        "    filename = urlparse(download_url).path\n",
        "    destination_path = os.path.join(KAGGLE_INPUT_PATH, directory)\n",
        "    try:\n",
        "        with urlopen(download_url) as fileres, NamedTemporaryFile() as tfile:\n",
        "            total_length = fileres.headers['content-length']\n",
        "            print(f'Downloading {directory}, {total_length} bytes compressed')\n",
        "            dl = 0\n",
        "            data = fileres.read(CHUNK_SIZE)\n",
        "            while len(data) > 0:\n",
        "                dl += len(data)\n",
        "                tfile.write(data)\n",
        "                done = int(50 * dl / int(total_length))\n",
        "                sys.stdout.write(f\"\\r[{'=' * done}{' ' * (50-done)}] {dl} bytes downloaded\")\n",
        "                sys.stdout.flush()\n",
        "                data = fileres.read(CHUNK_SIZE)\n",
        "            if filename.endswith('.zip'):\n",
        "              with ZipFile(tfile) as zfile:\n",
        "                zfile.extractall(destination_path)\n",
        "            else:\n",
        "              with tarfile.open(tfile.name) as tarfile:\n",
        "                tarfile.extractall(destination_path)\n",
        "            print(f'\\nDownloaded and uncompressed: {directory}')\n",
        "    except HTTPError as e:\n",
        "        print(f'Failed to load (likely expired) {download_url} to path {destination_path}')\n",
        "        continue\n",
        "    except OSError as e:\n",
        "        print(f'Failed to load {download_url} to path {destination_path}')\n",
        "        continue\n",
        "\n",
        "print('Data source import complete.')\n"
      ],
      "metadata": {
        "id": "f-1b8mi0Rkto"
      },
      "cell_type": "code",
      "outputs": [],
      "execution_count": null
    },
    {
      "cell_type": "code",
      "source": [
        "# This Python 3 environment comes with many helpful analytics libraries installed\n",
        "# It is defined by the kaggle/python Docker image: https://github.com/kaggle/docker-python\n",
        "# For example, here's several helpful packages to load\n",
        "\n",
        "import numpy as np # linear algebra\n",
        "import pandas as pd # data processing, CSV file I/O (e.g. pd.read_csv)\n",
        "\n",
        "# Input data files are available in the read-only \"../input/\" directory\n",
        "# For example, running this (by clicking run or pressing Shift+Enter) will list all files under the input directory\n",
        "\n",
        "import os\n",
        "for dirname, _, filenames in os.walk('/kaggle/input'):\n",
        "    for filename in filenames:\n",
        "        print(os.path.join(dirname, filename))\n",
        "\n",
        "# You can write up to 20GB to the current directory (/kaggle/working/) that gets preserved as output when you create a version using \"Save & Run All\"\n",
        "# You can also write temporary files to /kaggle/temp/, but they won't be saved outside of the current session"
      ],
      "metadata": {
        "_uuid": "8f2839f25d086af736a60e9eeb907d3b93b6e0e5",
        "_cell_guid": "b1076dfc-b9ad-4769-8c92-a6c4dae69d19",
        "execution": {
          "iopub.status.busy": "2024-06-28T16:11:26.847327Z",
          "iopub.execute_input": "2024-06-28T16:11:26.848019Z",
          "iopub.status.idle": "2024-06-28T16:11:27.938894Z",
          "shell.execute_reply.started": "2024-06-28T16:11:26.847986Z",
          "shell.execute_reply": "2024-06-28T16:11:27.937775Z"
        },
        "trusted": true,
        "id": "7kCOB5v5Rktr",
        "outputId": "cb8f7326-d59d-4bb4-b6f5-51ab15feb0f3"
      },
      "execution_count": null,
      "outputs": [
        {
          "name": "stdout",
          "text": "/kaggle/input/gggsdsd/balanced.csv\n",
          "output_type": "stream"
        }
      ]
    },
    {
      "cell_type": "code",
      "source": [
        "import pandas as pd\n",
        "df = pd.read_csv('/kaggle/input/gggsdsd/balanced.csv',encoding='utf-8')\n",
        "df.head()  #spoken=1  written=0"
      ],
      "metadata": {
        "execution": {
          "iopub.status.busy": "2024-06-28T16:11:29.683574Z",
          "iopub.execute_input": "2024-06-28T16:11:29.684063Z",
          "iopub.status.idle": "2024-06-28T16:11:29.980597Z",
          "shell.execute_reply.started": "2024-06-28T16:11:29.684032Z",
          "shell.execute_reply": "2024-06-28T16:11:29.979666Z"
        },
        "trusted": true,
        "id": "XhukRSfPRktu",
        "outputId": "e7464db0-a8cc-4ce2-c70c-8a5b920ab755"
      },
      "execution_count": null,
      "outputs": [
        {
          "execution_count": 2,
          "output_type": "execute_result",
          "data": {
            "text/plain": "                                               texts  label\n0  अमेरिकी और रूसी पुलिस के संयुक्त अभियान के फलस...      0\n1  आज यहां रांची एक्सप्रेस के साथ बातचीत में वित्...      0\n2                                   हमे इन्तजार है ।      1\n3       जिस के नतीजे मे ये हुक्म सादिर किया गया है ।      1\n4                                              जयपुर      0",
            "text/html": "<div>\n<style scoped>\n    .dataframe tbody tr th:only-of-type {\n        vertical-align: middle;\n    }\n\n    .dataframe tbody tr th {\n        vertical-align: top;\n    }\n\n    .dataframe thead th {\n        text-align: right;\n    }\n</style>\n<table border=\"1\" class=\"dataframe\">\n  <thead>\n    <tr style=\"text-align: right;\">\n      <th></th>\n      <th>texts</th>\n      <th>label</th>\n    </tr>\n  </thead>\n  <tbody>\n    <tr>\n      <th>0</th>\n      <td>अमेरिकी और रूसी पुलिस के संयुक्त अभियान के फलस...</td>\n      <td>0</td>\n    </tr>\n    <tr>\n      <th>1</th>\n      <td>आज यहां रांची एक्सप्रेस के साथ बातचीत में वित्...</td>\n      <td>0</td>\n    </tr>\n    <tr>\n      <th>2</th>\n      <td>हमे इन्तजार है ।</td>\n      <td>1</td>\n    </tr>\n    <tr>\n      <th>3</th>\n      <td>जिस के नतीजे मे ये हुक्म सादिर किया गया है ।</td>\n      <td>1</td>\n    </tr>\n    <tr>\n      <th>4</th>\n      <td>जयपुर</td>\n      <td>0</td>\n    </tr>\n  </tbody>\n</table>\n</div>"
          },
          "metadata": {}
        }
      ]
    },
    {
      "cell_type": "code",
      "source": [
        "df = df[df['texts'].apply(lambda x: isinstance(x, str))]"
      ],
      "metadata": {
        "execution": {
          "iopub.status.busy": "2024-06-28T16:11:29.982339Z",
          "iopub.execute_input": "2024-06-28T16:11:29.98304Z",
          "iopub.status.idle": "2024-06-28T16:11:30.003687Z",
          "shell.execute_reply.started": "2024-06-28T16:11:29.983006Z",
          "shell.execute_reply": "2024-06-28T16:11:30.002719Z"
        },
        "trusted": true,
        "id": "MUdmyUsdRktw"
      },
      "execution_count": null,
      "outputs": []
    },
    {
      "cell_type": "code",
      "source": [
        "label_counts = df['label'].value_counts()\n",
        "label_counts"
      ],
      "metadata": {
        "execution": {
          "iopub.status.busy": "2024-06-28T16:11:30.18255Z",
          "iopub.execute_input": "2024-06-28T16:11:30.182937Z",
          "iopub.status.idle": "2024-06-28T16:11:30.199082Z",
          "shell.execute_reply.started": "2024-06-28T16:11:30.182905Z",
          "shell.execute_reply": "2024-06-28T16:11:30.197875Z"
        },
        "trusted": true,
        "id": "r88EVEY7Rktx",
        "outputId": "f9d68490-3a73-4965-9a37-1dded49baf18"
      },
      "execution_count": null,
      "outputs": [
        {
          "execution_count": 4,
          "output_type": "execute_result",
          "data": {
            "text/plain": "label\n0    19344\n1    19344\nName: count, dtype: int64"
          },
          "metadata": {}
        }
      ]
    },
    {
      "cell_type": "markdown",
      "source": [
        "### Features\n",
        "\n",
        "1.   Number of words in a sentence\n",
        "2.   Average characters per word in a sentence\n",
        "3.   Token Type Ratio\n",
        "4.   Case Marker Percentage\n",
        "5.   Case Marker Count\n",
        "6.   Conjunctions Percentage\n",
        "7.   Conjuctions Count\n",
        "8.   Hesitation Markers\n",
        "9.   Wh Questions\n",
        "10.  Noun Count\n",
        "11.  Noun Percentage\n",
        "12.  Adverb Count\n",
        "13.  Adverb Percentage\n",
        "14.  Verb Count\n",
        "15.  Verb Percentage\n",
        "16.  Personal Pronouns Count\n",
        "17.  Personal Pronouns Percentage\n",
        "18.  Depth of Parse Tree"
      ],
      "metadata": {
        "id": "6utvvw31SJNg"
      }
    },
    {
      "cell_type": "code",
      "source": [
        "#Parse Tree Depth\n",
        "!pip install stanza\n",
        "import stanza\n",
        "import numpy as np\n",
        "\n",
        "# Download and load the Hindi model\n",
        "stanza.download('hi')\n",
        "nlp = stanza.Pipeline('hi', processors='tokenize,pos,lemma,depparse')\n",
        "\n",
        "def get_parse_tree_depth(text):\n",
        "    doc = nlp(text)\n",
        "    depths = {}\n",
        "    for sent in doc.sentences:\n",
        "        for word in sent.words:\n",
        "            if word.head == 0:  # Root word\n",
        "                depths[word.id] = 0\n",
        "            else:\n",
        "                depths[word.id] = depths.get(word.head, 0) + 1\n",
        "\n",
        "\n",
        "    return max(depths.values()) if depths else 0\n",
        "df['parse_tree_depth'] = df['texts'].apply(get_parse_tree_depth)\n",
        "df.head()"
      ],
      "metadata": {
        "execution": {
          "iopub.status.busy": "2024-06-28T16:11:30.692353Z",
          "iopub.execute_input": "2024-06-28T16:11:30.692753Z",
          "iopub.status.idle": "2024-06-28T16:54:33.520028Z",
          "shell.execute_reply.started": "2024-06-28T16:11:30.692713Z",
          "shell.execute_reply": "2024-06-28T16:54:33.519028Z"
        },
        "trusted": true,
        "id": "1kj4c2kMRkty",
        "outputId": "55e88d37-cd86-4a26-a051-186a43cbb385",
        "colab": {
          "referenced_widgets": [
            "b26304cba0d74990aa18e59423561cf2",
            "1d47f617c02a41d8a06748d6279a9010",
            "b9c1920a626642d78b6a3fab2eeeeb8f"
          ]
        }
      },
      "execution_count": null,
      "outputs": [
        {
          "name": "stdout",
          "text": "Collecting stanza\n  Downloading stanza-1.8.2-py3-none-any.whl.metadata (13 kB)\nRequirement already satisfied: emoji in /opt/conda/lib/python3.10/site-packages (from stanza) (2.12.1)\nRequirement already satisfied: numpy in /opt/conda/lib/python3.10/site-packages (from stanza) (1.26.4)\nRequirement already satisfied: protobuf>=3.15.0 in /opt/conda/lib/python3.10/site-packages (from stanza) (3.20.3)\nRequirement already satisfied: requests in /opt/conda/lib/python3.10/site-packages (from stanza) (2.32.3)\nRequirement already satisfied: networkx in /opt/conda/lib/python3.10/site-packages (from stanza) (3.2.1)\nRequirement already satisfied: toml in /opt/conda/lib/python3.10/site-packages (from stanza) (0.10.2)\nRequirement already satisfied: torch>=1.3.0 in /opt/conda/lib/python3.10/site-packages (from stanza) (2.1.2)\nRequirement already satisfied: tqdm in /opt/conda/lib/python3.10/site-packages (from stanza) (4.66.4)\nRequirement already satisfied: filelock in /opt/conda/lib/python3.10/site-packages (from torch>=1.3.0->stanza) (3.13.1)\nRequirement already satisfied: typing-extensions in /opt/conda/lib/python3.10/site-packages (from torch>=1.3.0->stanza) (4.9.0)\nRequirement already satisfied: sympy in /opt/conda/lib/python3.10/site-packages (from torch>=1.3.0->stanza) (1.12.1)\nRequirement already satisfied: jinja2 in /opt/conda/lib/python3.10/site-packages (from torch>=1.3.0->stanza) (3.1.2)\nRequirement already satisfied: fsspec in /opt/conda/lib/python3.10/site-packages (from torch>=1.3.0->stanza) (2024.3.1)\nRequirement already satisfied: charset-normalizer<4,>=2 in /opt/conda/lib/python3.10/site-packages (from requests->stanza) (3.3.2)\nRequirement already satisfied: idna<4,>=2.5 in /opt/conda/lib/python3.10/site-packages (from requests->stanza) (3.6)\nRequirement already satisfied: urllib3<3,>=1.21.1 in /opt/conda/lib/python3.10/site-packages (from requests->stanza) (1.26.18)\nRequirement already satisfied: certifi>=2017.4.17 in /opt/conda/lib/python3.10/site-packages (from requests->stanza) (2024.2.2)\nRequirement already satisfied: MarkupSafe>=2.0 in /opt/conda/lib/python3.10/site-packages (from jinja2->torch>=1.3.0->stanza) (2.1.3)\nRequirement already satisfied: mpmath<1.4.0,>=1.1.0 in /opt/conda/lib/python3.10/site-packages (from sympy->torch>=1.3.0->stanza) (1.3.0)\nDownloading stanza-1.8.2-py3-none-any.whl (990 kB)\n\u001b[2K   \u001b[90m━━━━━━━━━━━━━━━━━━━━━━━━━━━━━━━━━━━━━━━━\u001b[0m \u001b[32m990.1/990.1 kB\u001b[0m \u001b[31m26.4 MB/s\u001b[0m eta \u001b[36m0:00:00\u001b[0m00:01\u001b[0m\n\u001b[?25hInstalling collected packages: stanza\nSuccessfully installed stanza-1.8.2\n",
          "output_type": "stream"
        },
        {
          "output_type": "display_data",
          "data": {
            "text/plain": "Downloading https://raw.githubusercontent.com/stanfordnlp/stanza-resources/main/resources_1.8.0.json:   0%|   …",
            "application/vnd.jupyter.widget-view+json": {
              "version_major": 2,
              "version_minor": 0,
              "model_id": "b26304cba0d74990aa18e59423561cf2"
            }
          },
          "metadata": {}
        },
        {
          "output_type": "display_data",
          "data": {
            "text/plain": "Downloading https://huggingface.co/stanfordnlp/stanza-hi/resolve/v1.8.0/models/default.zip:   0%|          | 0…",
            "application/vnd.jupyter.widget-view+json": {
              "version_major": 2,
              "version_minor": 0,
              "model_id": "1d47f617c02a41d8a06748d6279a9010"
            }
          },
          "metadata": {}
        },
        {
          "output_type": "display_data",
          "data": {
            "text/plain": "Downloading https://raw.githubusercontent.com/stanfordnlp/stanza-resources/main/resources_1.8.0.json:   0%|   …",
            "application/vnd.jupyter.widget-view+json": {
              "version_major": 2,
              "version_minor": 0,
              "model_id": "b9c1920a626642d78b6a3fab2eeeeb8f"
            }
          },
          "metadata": {}
        },
        {
          "execution_count": 5,
          "output_type": "execute_result",
          "data": {
            "text/plain": "                                               texts  label  parse_tree_depth\n0  अमेरिकी और रूसी पुलिस के संयुक्त अभियान के फलस...      0                 2\n1  आज यहां रांची एक्सप्रेस के साथ बातचीत में वित्...      0                 2\n2                                   हमे इन्तजार है ।      1                 1\n3       जिस के नतीजे मे ये हुक्म सादिर किया गया है ।      1                 2\n4                                              जयपुर      0                 0",
            "text/html": "<div>\n<style scoped>\n    .dataframe tbody tr th:only-of-type {\n        vertical-align: middle;\n    }\n\n    .dataframe tbody tr th {\n        vertical-align: top;\n    }\n\n    .dataframe thead th {\n        text-align: right;\n    }\n</style>\n<table border=\"1\" class=\"dataframe\">\n  <thead>\n    <tr style=\"text-align: right;\">\n      <th></th>\n      <th>texts</th>\n      <th>label</th>\n      <th>parse_tree_depth</th>\n    </tr>\n  </thead>\n  <tbody>\n    <tr>\n      <th>0</th>\n      <td>अमेरिकी और रूसी पुलिस के संयुक्त अभियान के फलस...</td>\n      <td>0</td>\n      <td>2</td>\n    </tr>\n    <tr>\n      <th>1</th>\n      <td>आज यहां रांची एक्सप्रेस के साथ बातचीत में वित्...</td>\n      <td>0</td>\n      <td>2</td>\n    </tr>\n    <tr>\n      <th>2</th>\n      <td>हमे इन्तजार है ।</td>\n      <td>1</td>\n      <td>1</td>\n    </tr>\n    <tr>\n      <th>3</th>\n      <td>जिस के नतीजे मे ये हुक्म सादिर किया गया है ।</td>\n      <td>1</td>\n      <td>2</td>\n    </tr>\n    <tr>\n      <th>4</th>\n      <td>जयपुर</td>\n      <td>0</td>\n      <td>0</td>\n    </tr>\n  </tbody>\n</table>\n</div>"
          },
          "metadata": {}
        }
      ]
    },
    {
      "cell_type": "code",
      "source": [
        "#Linguistic features\n",
        "def get_linguistic_features(text):\n",
        "    # Process the text\n",
        "    doc = nlp(text)\n",
        "\n",
        "    features = {\n",
        "        'noun_count_hi': 0,\n",
        "        'verb_count_hi': 0,\n",
        "        'adverb_count_hi': 0,\n",
        "        'pronoun_count_hi': 0,\n",
        "        'total_words_hi': 0\n",
        "    }\n",
        "\n",
        "    # Count the parts of speech\n",
        "    for sent in doc.sentences:\n",
        "        for word in sent.words:\n",
        "            features['total_words_hi'] += 1\n",
        "            if word.upos == 'NOUN':\n",
        "                features['noun_count_hi'] += 1\n",
        "            elif word.upos == 'VERB':\n",
        "                features['verb_count_hi'] += 1\n",
        "            elif word.upos == 'ADV':\n",
        "                features['adverb_count_hi'] += 1\n",
        "            elif word.upos == 'PRON':\n",
        "                features['pronoun_count_hi'] += 1\n",
        "\n",
        "    # Calculate percentages\n",
        "    for pos in ['noun', 'verb', 'adverb', 'pronoun']:\n",
        "        features[f'{pos}_percentage_hi'] = (features[f'{pos}_count_hi'] / features['total_words_hi'] * 100) if features['total_words_hi'] > 0 else 0\n",
        "\n",
        "    return features\n",
        "df = df.join(pd.DataFrame(df['texts'].apply(get_linguistic_features).tolist()))\n",
        "df.head()"
      ],
      "metadata": {
        "execution": {
          "iopub.status.busy": "2024-06-28T16:54:33.521804Z",
          "iopub.execute_input": "2024-06-28T16:54:33.522347Z",
          "iopub.status.idle": "2024-06-28T17:36:46.260434Z",
          "shell.execute_reply.started": "2024-06-28T16:54:33.52232Z",
          "shell.execute_reply": "2024-06-28T17:36:46.259471Z"
        },
        "trusted": true,
        "id": "bok7m_osRkt0",
        "outputId": "2adfcdfa-c55e-4b65-ee3d-c473b4e7e4c1"
      },
      "execution_count": null,
      "outputs": [
        {
          "execution_count": 6,
          "output_type": "execute_result",
          "data": {
            "text/plain": "                                               texts  label  parse_tree_depth  \\\n0  अमेरिकी और रूसी पुलिस के संयुक्त अभियान के फलस...      0                 2   \n1  आज यहां रांची एक्सप्रेस के साथ बातचीत में वित्...      0                 2   \n2                                   हमे इन्तजार है ।      1                 1   \n3       जिस के नतीजे मे ये हुक्म सादिर किया गया है ।      1                 2   \n4                                              जयपुर      0                 0   \n\n   noun_count_hi  verb_count_hi  adverb_count_hi  pronoun_count_hi  \\\n0              7              2                0                 0   \n1              2              1                0                 1   \n2              1              0                0                 1   \n3              3              1                0                 1   \n4              0              0                0                 0   \n\n   total_words_hi  noun_percentage_hi  verb_percentage_hi  \\\n0              28           25.000000            7.142857   \n1              13           15.384615            7.692308   \n2               4           25.000000            0.000000   \n3              11           27.272727            9.090909   \n4               1            0.000000            0.000000   \n\n   adverb_percentage_hi  pronoun_percentage_hi  \n0                   0.0               0.000000  \n1                   0.0               7.692308  \n2                   0.0              25.000000  \n3                   0.0               9.090909  \n4                   0.0               0.000000  ",
            "text/html": "<div>\n<style scoped>\n    .dataframe tbody tr th:only-of-type {\n        vertical-align: middle;\n    }\n\n    .dataframe tbody tr th {\n        vertical-align: top;\n    }\n\n    .dataframe thead th {\n        text-align: right;\n    }\n</style>\n<table border=\"1\" class=\"dataframe\">\n  <thead>\n    <tr style=\"text-align: right;\">\n      <th></th>\n      <th>texts</th>\n      <th>label</th>\n      <th>parse_tree_depth</th>\n      <th>noun_count_hi</th>\n      <th>verb_count_hi</th>\n      <th>adverb_count_hi</th>\n      <th>pronoun_count_hi</th>\n      <th>total_words_hi</th>\n      <th>noun_percentage_hi</th>\n      <th>verb_percentage_hi</th>\n      <th>adverb_percentage_hi</th>\n      <th>pronoun_percentage_hi</th>\n    </tr>\n  </thead>\n  <tbody>\n    <tr>\n      <th>0</th>\n      <td>अमेरिकी और रूसी पुलिस के संयुक्त अभियान के फलस...</td>\n      <td>0</td>\n      <td>2</td>\n      <td>7</td>\n      <td>2</td>\n      <td>0</td>\n      <td>0</td>\n      <td>28</td>\n      <td>25.000000</td>\n      <td>7.142857</td>\n      <td>0.0</td>\n      <td>0.000000</td>\n    </tr>\n    <tr>\n      <th>1</th>\n      <td>आज यहां रांची एक्सप्रेस के साथ बातचीत में वित्...</td>\n      <td>0</td>\n      <td>2</td>\n      <td>2</td>\n      <td>1</td>\n      <td>0</td>\n      <td>1</td>\n      <td>13</td>\n      <td>15.384615</td>\n      <td>7.692308</td>\n      <td>0.0</td>\n      <td>7.692308</td>\n    </tr>\n    <tr>\n      <th>2</th>\n      <td>हमे इन्तजार है ।</td>\n      <td>1</td>\n      <td>1</td>\n      <td>1</td>\n      <td>0</td>\n      <td>0</td>\n      <td>1</td>\n      <td>4</td>\n      <td>25.000000</td>\n      <td>0.000000</td>\n      <td>0.0</td>\n      <td>25.000000</td>\n    </tr>\n    <tr>\n      <th>3</th>\n      <td>जिस के नतीजे मे ये हुक्म सादिर किया गया है ।</td>\n      <td>1</td>\n      <td>2</td>\n      <td>3</td>\n      <td>1</td>\n      <td>0</td>\n      <td>1</td>\n      <td>11</td>\n      <td>27.272727</td>\n      <td>9.090909</td>\n      <td>0.0</td>\n      <td>9.090909</td>\n    </tr>\n    <tr>\n      <th>4</th>\n      <td>जयपुर</td>\n      <td>0</td>\n      <td>0</td>\n      <td>0</td>\n      <td>0</td>\n      <td>0</td>\n      <td>0</td>\n      <td>1</td>\n      <td>0.000000</td>\n      <td>0.000000</td>\n      <td>0.0</td>\n      <td>0.000000</td>\n    </tr>\n  </tbody>\n</table>\n</div>"
          },
          "metadata": {}
        }
      ]
    },
    {
      "cell_type": "code",
      "source": [
        "#Number of words in a sentence\n",
        "def count_words(sentence):\n",
        "    return len(sentence.split())\n",
        "df['words_per_sent'] = df['texts'].apply(count_words)\n",
        "df.head()"
      ],
      "metadata": {
        "execution": {
          "iopub.status.busy": "2024-06-28T17:36:46.261447Z",
          "iopub.execute_input": "2024-06-28T17:36:46.261701Z",
          "iopub.status.idle": "2024-06-28T17:36:46.37607Z",
          "shell.execute_reply.started": "2024-06-28T17:36:46.261679Z",
          "shell.execute_reply": "2024-06-28T17:36:46.375201Z"
        },
        "trusted": true,
        "id": "O3W6GlMeRkt1",
        "outputId": "72ea1163-594d-4f3b-a23d-1d61236933c7"
      },
      "execution_count": null,
      "outputs": [
        {
          "execution_count": 7,
          "output_type": "execute_result",
          "data": {
            "text/plain": "                                               texts  label  parse_tree_depth  \\\n0  अमेरिकी और रूसी पुलिस के संयुक्त अभियान के फलस...      0                 2   \n1  आज यहां रांची एक्सप्रेस के साथ बातचीत में वित्...      0                 2   \n2                                   हमे इन्तजार है ।      1                 1   \n3       जिस के नतीजे मे ये हुक्म सादिर किया गया है ।      1                 2   \n4                                              जयपुर      0                 0   \n\n   noun_count_hi  verb_count_hi  adverb_count_hi  pronoun_count_hi  \\\n0              7              2                0                 0   \n1              2              1                0                 1   \n2              1              0                0                 1   \n3              3              1                0                 1   \n4              0              0                0                 0   \n\n   total_words_hi  noun_percentage_hi  verb_percentage_hi  \\\n0              28           25.000000            7.142857   \n1              13           15.384615            7.692308   \n2               4           25.000000            0.000000   \n3              11           27.272727            9.090909   \n4               1            0.000000            0.000000   \n\n   adverb_percentage_hi  pronoun_percentage_hi  words_per_sent  \n0                   0.0               0.000000              27  \n1                   0.0               7.692308              13  \n2                   0.0              25.000000               4  \n3                   0.0               9.090909              11  \n4                   0.0               0.000000               1  ",
            "text/html": "<div>\n<style scoped>\n    .dataframe tbody tr th:only-of-type {\n        vertical-align: middle;\n    }\n\n    .dataframe tbody tr th {\n        vertical-align: top;\n    }\n\n    .dataframe thead th {\n        text-align: right;\n    }\n</style>\n<table border=\"1\" class=\"dataframe\">\n  <thead>\n    <tr style=\"text-align: right;\">\n      <th></th>\n      <th>texts</th>\n      <th>label</th>\n      <th>parse_tree_depth</th>\n      <th>noun_count_hi</th>\n      <th>verb_count_hi</th>\n      <th>adverb_count_hi</th>\n      <th>pronoun_count_hi</th>\n      <th>total_words_hi</th>\n      <th>noun_percentage_hi</th>\n      <th>verb_percentage_hi</th>\n      <th>adverb_percentage_hi</th>\n      <th>pronoun_percentage_hi</th>\n      <th>words_per_sent</th>\n    </tr>\n  </thead>\n  <tbody>\n    <tr>\n      <th>0</th>\n      <td>अमेरिकी और रूसी पुलिस के संयुक्त अभियान के फलस...</td>\n      <td>0</td>\n      <td>2</td>\n      <td>7</td>\n      <td>2</td>\n      <td>0</td>\n      <td>0</td>\n      <td>28</td>\n      <td>25.000000</td>\n      <td>7.142857</td>\n      <td>0.0</td>\n      <td>0.000000</td>\n      <td>27</td>\n    </tr>\n    <tr>\n      <th>1</th>\n      <td>आज यहां रांची एक्सप्रेस के साथ बातचीत में वित्...</td>\n      <td>0</td>\n      <td>2</td>\n      <td>2</td>\n      <td>1</td>\n      <td>0</td>\n      <td>1</td>\n      <td>13</td>\n      <td>15.384615</td>\n      <td>7.692308</td>\n      <td>0.0</td>\n      <td>7.692308</td>\n      <td>13</td>\n    </tr>\n    <tr>\n      <th>2</th>\n      <td>हमे इन्तजार है ।</td>\n      <td>1</td>\n      <td>1</td>\n      <td>1</td>\n      <td>0</td>\n      <td>0</td>\n      <td>1</td>\n      <td>4</td>\n      <td>25.000000</td>\n      <td>0.000000</td>\n      <td>0.0</td>\n      <td>25.000000</td>\n      <td>4</td>\n    </tr>\n    <tr>\n      <th>3</th>\n      <td>जिस के नतीजे मे ये हुक्म सादिर किया गया है ।</td>\n      <td>1</td>\n      <td>2</td>\n      <td>3</td>\n      <td>1</td>\n      <td>0</td>\n      <td>1</td>\n      <td>11</td>\n      <td>27.272727</td>\n      <td>9.090909</td>\n      <td>0.0</td>\n      <td>9.090909</td>\n      <td>11</td>\n    </tr>\n    <tr>\n      <th>4</th>\n      <td>जयपुर</td>\n      <td>0</td>\n      <td>0</td>\n      <td>0</td>\n      <td>0</td>\n      <td>0</td>\n      <td>0</td>\n      <td>1</td>\n      <td>0.000000</td>\n      <td>0.000000</td>\n      <td>0.0</td>\n      <td>0.000000</td>\n      <td>1</td>\n    </tr>\n  </tbody>\n</table>\n</div>"
          },
          "metadata": {}
        }
      ]
    },
    {
      "cell_type": "code",
      "source": [
        "#Average Characters per word in a sentence\n",
        "def avg_chars_per_word(sentence):\n",
        "    words = sentence.split()\n",
        "    if len(words) == 0:\n",
        "        return 0\n",
        "    total_chars = sum(len(word) for word in words)\n",
        "    return total_chars / len(words)\n",
        "df['avg_characters_per_word'] = df['texts'].apply(avg_chars_per_word)\n",
        "df.head()"
      ],
      "metadata": {
        "execution": {
          "iopub.status.busy": "2024-06-28T17:36:46.378163Z",
          "iopub.execute_input": "2024-06-28T17:36:46.378442Z",
          "iopub.status.idle": "2024-06-28T17:36:46.590716Z",
          "shell.execute_reply.started": "2024-06-28T17:36:46.378418Z",
          "shell.execute_reply": "2024-06-28T17:36:46.589845Z"
        },
        "trusted": true,
        "id": "LzU_0ibARkt2",
        "outputId": "e38f8229-0409-4425-c837-6110f4b6347e"
      },
      "execution_count": null,
      "outputs": [
        {
          "execution_count": 8,
          "output_type": "execute_result",
          "data": {
            "text/plain": "                                               texts  label  parse_tree_depth  \\\n0  अमेरिकी और रूसी पुलिस के संयुक्त अभियान के फलस...      0                 2   \n1  आज यहां रांची एक्सप्रेस के साथ बातचीत में वित्...      0                 2   \n2                                   हमे इन्तजार है ।      1                 1   \n3       जिस के नतीजे मे ये हुक्म सादिर किया गया है ।      1                 2   \n4                                              जयपुर      0                 0   \n\n   noun_count_hi  verb_count_hi  adverb_count_hi  pronoun_count_hi  \\\n0              7              2                0                 0   \n1              2              1                0                 1   \n2              1              0                0                 1   \n3              3              1                0                 1   \n4              0              0                0                 0   \n\n   total_words_hi  noun_percentage_hi  verb_percentage_hi  \\\n0              28           25.000000            7.142857   \n1              13           15.384615            7.692308   \n2               4           25.000000            0.000000   \n3              11           27.272727            9.090909   \n4               1            0.000000            0.000000   \n\n   adverb_percentage_hi  pronoun_percentage_hi  words_per_sent  \\\n0                   0.0               0.000000              27   \n1                   0.0               7.692308              13   \n2                   0.0              25.000000               4   \n3                   0.0               9.090909              11   \n4                   0.0               0.000000               1   \n\n   avg_characters_per_word  \n0                 4.407407  \n1                 4.615385  \n2                 3.250000  \n3                 3.090909  \n4                 5.000000  ",
            "text/html": "<div>\n<style scoped>\n    .dataframe tbody tr th:only-of-type {\n        vertical-align: middle;\n    }\n\n    .dataframe tbody tr th {\n        vertical-align: top;\n    }\n\n    .dataframe thead th {\n        text-align: right;\n    }\n</style>\n<table border=\"1\" class=\"dataframe\">\n  <thead>\n    <tr style=\"text-align: right;\">\n      <th></th>\n      <th>texts</th>\n      <th>label</th>\n      <th>parse_tree_depth</th>\n      <th>noun_count_hi</th>\n      <th>verb_count_hi</th>\n      <th>adverb_count_hi</th>\n      <th>pronoun_count_hi</th>\n      <th>total_words_hi</th>\n      <th>noun_percentage_hi</th>\n      <th>verb_percentage_hi</th>\n      <th>adverb_percentage_hi</th>\n      <th>pronoun_percentage_hi</th>\n      <th>words_per_sent</th>\n      <th>avg_characters_per_word</th>\n    </tr>\n  </thead>\n  <tbody>\n    <tr>\n      <th>0</th>\n      <td>अमेरिकी और रूसी पुलिस के संयुक्त अभियान के फलस...</td>\n      <td>0</td>\n      <td>2</td>\n      <td>7</td>\n      <td>2</td>\n      <td>0</td>\n      <td>0</td>\n      <td>28</td>\n      <td>25.000000</td>\n      <td>7.142857</td>\n      <td>0.0</td>\n      <td>0.000000</td>\n      <td>27</td>\n      <td>4.407407</td>\n    </tr>\n    <tr>\n      <th>1</th>\n      <td>आज यहां रांची एक्सप्रेस के साथ बातचीत में वित्...</td>\n      <td>0</td>\n      <td>2</td>\n      <td>2</td>\n      <td>1</td>\n      <td>0</td>\n      <td>1</td>\n      <td>13</td>\n      <td>15.384615</td>\n      <td>7.692308</td>\n      <td>0.0</td>\n      <td>7.692308</td>\n      <td>13</td>\n      <td>4.615385</td>\n    </tr>\n    <tr>\n      <th>2</th>\n      <td>हमे इन्तजार है ।</td>\n      <td>1</td>\n      <td>1</td>\n      <td>1</td>\n      <td>0</td>\n      <td>0</td>\n      <td>1</td>\n      <td>4</td>\n      <td>25.000000</td>\n      <td>0.000000</td>\n      <td>0.0</td>\n      <td>25.000000</td>\n      <td>4</td>\n      <td>3.250000</td>\n    </tr>\n    <tr>\n      <th>3</th>\n      <td>जिस के नतीजे मे ये हुक्म सादिर किया गया है ।</td>\n      <td>1</td>\n      <td>2</td>\n      <td>3</td>\n      <td>1</td>\n      <td>0</td>\n      <td>1</td>\n      <td>11</td>\n      <td>27.272727</td>\n      <td>9.090909</td>\n      <td>0.0</td>\n      <td>9.090909</td>\n      <td>11</td>\n      <td>3.090909</td>\n    </tr>\n    <tr>\n      <th>4</th>\n      <td>जयपुर</td>\n      <td>0</td>\n      <td>0</td>\n      <td>0</td>\n      <td>0</td>\n      <td>0</td>\n      <td>0</td>\n      <td>1</td>\n      <td>0.000000</td>\n      <td>0.000000</td>\n      <td>0.0</td>\n      <td>0.000000</td>\n      <td>1</td>\n      <td>5.000000</td>\n    </tr>\n  </tbody>\n</table>\n</div>"
          },
          "metadata": {}
        }
      ]
    },
    {
      "cell_type": "code",
      "source": [
        "#Token Type Ratio\n",
        "\n",
        "!pip install indic-nlp-library\n",
        "from indicnlp.tokenize import indic_tokenize\n",
        "\n",
        "def token_type_ratio(text):\n",
        "    tokens = indic_tokenize.trivial_tokenize(text)  # Use Indic NLP tokenizer\n",
        "\n",
        "    unique_tokens = set(tokens)\n",
        "    ttr = len(unique_tokens) / len(tokens)\n",
        "\n",
        "    return ttr\n",
        "\n",
        "df['token_type_ratio'] = df['texts'].apply(token_type_ratio)\n",
        "df.head()"
      ],
      "metadata": {
        "execution": {
          "iopub.status.busy": "2024-06-28T17:36:46.591879Z",
          "iopub.execute_input": "2024-06-28T17:36:46.592136Z",
          "iopub.status.idle": "2024-06-28T17:37:03.34438Z",
          "shell.execute_reply.started": "2024-06-28T17:36:46.592114Z",
          "shell.execute_reply": "2024-06-28T17:37:03.343174Z"
        },
        "trusted": true,
        "id": "Qm8Gg3vyRkt4",
        "outputId": "6ef18ee7-485f-4ca0-9088-499e5626f203"
      },
      "execution_count": null,
      "outputs": [
        {
          "name": "stdout",
          "text": "Collecting indic-nlp-library\n  Downloading indic_nlp_library-0.92-py3-none-any.whl.metadata (5.7 kB)\nCollecting sphinx-argparse (from indic-nlp-library)\n  Downloading sphinx_argparse-0.4.0-py3-none-any.whl.metadata (1.9 kB)\nRequirement already satisfied: sphinx-rtd-theme in /opt/conda/lib/python3.10/site-packages (from indic-nlp-library) (0.2.4)\nCollecting morfessor (from indic-nlp-library)\n  Downloading Morfessor-2.0.6-py3-none-any.whl.metadata (628 bytes)\nRequirement already satisfied: pandas in /opt/conda/lib/python3.10/site-packages (from indic-nlp-library) (2.2.1)\nRequirement already satisfied: numpy in /opt/conda/lib/python3.10/site-packages (from indic-nlp-library) (1.26.4)\nRequirement already satisfied: python-dateutil>=2.8.2 in /opt/conda/lib/python3.10/site-packages (from pandas->indic-nlp-library) (2.9.0.post0)\nRequirement already satisfied: pytz>=2020.1 in /opt/conda/lib/python3.10/site-packages (from pandas->indic-nlp-library) (2023.3.post1)\nRequirement already satisfied: tzdata>=2022.7 in /opt/conda/lib/python3.10/site-packages (from pandas->indic-nlp-library) (2023.4)\nCollecting sphinx>=1.2.0 (from sphinx-argparse->indic-nlp-library)\n  Downloading sphinx-7.3.7-py3-none-any.whl.metadata (6.0 kB)\nRequirement already satisfied: six>=1.5 in /opt/conda/lib/python3.10/site-packages (from python-dateutil>=2.8.2->pandas->indic-nlp-library) (1.16.0)\nCollecting sphinxcontrib-applehelp (from sphinx>=1.2.0->sphinx-argparse->indic-nlp-library)\n  Downloading sphinxcontrib_applehelp-1.0.8-py3-none-any.whl.metadata (2.3 kB)\nCollecting sphinxcontrib-devhelp (from sphinx>=1.2.0->sphinx-argparse->indic-nlp-library)\n  Downloading sphinxcontrib_devhelp-1.0.6-py3-none-any.whl.metadata (2.3 kB)\nCollecting sphinxcontrib-jsmath (from sphinx>=1.2.0->sphinx-argparse->indic-nlp-library)\n  Downloading sphinxcontrib_jsmath-1.0.1-py2.py3-none-any.whl.metadata (1.4 kB)\nCollecting sphinxcontrib-htmlhelp>=2.0.0 (from sphinx>=1.2.0->sphinx-argparse->indic-nlp-library)\n  Downloading sphinxcontrib_htmlhelp-2.0.5-py3-none-any.whl.metadata (2.3 kB)\nCollecting sphinxcontrib-serializinghtml>=1.1.9 (from sphinx>=1.2.0->sphinx-argparse->indic-nlp-library)\n  Downloading sphinxcontrib_serializinghtml-1.1.10-py3-none-any.whl.metadata (2.4 kB)\nCollecting sphinxcontrib-qthelp (from sphinx>=1.2.0->sphinx-argparse->indic-nlp-library)\n  Downloading sphinxcontrib_qthelp-1.0.7-py3-none-any.whl.metadata (2.2 kB)\nRequirement already satisfied: Jinja2>=3.0 in /opt/conda/lib/python3.10/site-packages (from sphinx>=1.2.0->sphinx-argparse->indic-nlp-library) (3.1.2)\nRequirement already satisfied: Pygments>=2.14 in /opt/conda/lib/python3.10/site-packages (from sphinx>=1.2.0->sphinx-argparse->indic-nlp-library) (2.17.2)\nRequirement already satisfied: docutils<0.22,>=0.18.1 in /opt/conda/lib/python3.10/site-packages (from sphinx>=1.2.0->sphinx-argparse->indic-nlp-library) (0.21.2)\nRequirement already satisfied: snowballstemmer>=2.0 in /opt/conda/lib/python3.10/site-packages (from sphinx>=1.2.0->sphinx-argparse->indic-nlp-library) (2.2.0)\nRequirement already satisfied: babel>=2.9 in /opt/conda/lib/python3.10/site-packages (from sphinx>=1.2.0->sphinx-argparse->indic-nlp-library) (2.14.0)\nCollecting alabaster~=0.7.14 (from sphinx>=1.2.0->sphinx-argparse->indic-nlp-library)\n  Downloading alabaster-0.7.16-py3-none-any.whl.metadata (2.9 kB)\nCollecting imagesize>=1.3 (from sphinx>=1.2.0->sphinx-argparse->indic-nlp-library)\n  Downloading imagesize-1.4.1-py2.py3-none-any.whl.metadata (1.5 kB)\nRequirement already satisfied: requests>=2.25.0 in /opt/conda/lib/python3.10/site-packages (from sphinx>=1.2.0->sphinx-argparse->indic-nlp-library) (2.32.3)\nRequirement already satisfied: packaging>=21.0 in /opt/conda/lib/python3.10/site-packages (from sphinx>=1.2.0->sphinx-argparse->indic-nlp-library) (21.3)\nRequirement already satisfied: tomli>=2 in /opt/conda/lib/python3.10/site-packages (from sphinx>=1.2.0->sphinx-argparse->indic-nlp-library) (2.0.1)\nRequirement already satisfied: MarkupSafe>=2.0 in /opt/conda/lib/python3.10/site-packages (from Jinja2>=3.0->sphinx>=1.2.0->sphinx-argparse->indic-nlp-library) (2.1.3)\nRequirement already satisfied: pyparsing!=3.0.5,>=2.0.2 in /opt/conda/lib/python3.10/site-packages (from packaging>=21.0->sphinx>=1.2.0->sphinx-argparse->indic-nlp-library) (3.1.1)\nRequirement already satisfied: charset-normalizer<4,>=2 in /opt/conda/lib/python3.10/site-packages (from requests>=2.25.0->sphinx>=1.2.0->sphinx-argparse->indic-nlp-library) (3.3.2)\nRequirement already satisfied: idna<4,>=2.5 in /opt/conda/lib/python3.10/site-packages (from requests>=2.25.0->sphinx>=1.2.0->sphinx-argparse->indic-nlp-library) (3.6)\nRequirement already satisfied: urllib3<3,>=1.21.1 in /opt/conda/lib/python3.10/site-packages (from requests>=2.25.0->sphinx>=1.2.0->sphinx-argparse->indic-nlp-library) (1.26.18)\nRequirement already satisfied: certifi>=2017.4.17 in /opt/conda/lib/python3.10/site-packages (from requests>=2.25.0->sphinx>=1.2.0->sphinx-argparse->indic-nlp-library) (2024.2.2)\nDownloading indic_nlp_library-0.92-py3-none-any.whl (40 kB)\n\u001b[2K   \u001b[90m━━━━━━━━━━━━━━━━━━━━━━━━━━━━━━━━━━━━━━━━\u001b[0m \u001b[32m40.3/40.3 kB\u001b[0m \u001b[31m2.7 MB/s\u001b[0m eta \u001b[36m0:00:00\u001b[0m\n\u001b[?25hDownloading Morfessor-2.0.6-py3-none-any.whl (35 kB)\nDownloading sphinx_argparse-0.4.0-py3-none-any.whl (12 kB)\nDownloading sphinx-7.3.7-py3-none-any.whl (3.3 MB)\n\u001b[2K   \u001b[90m━━━━━━━━━━━━━━━━━━━━━━━━━━━━━━━━━━━━━━━━\u001b[0m \u001b[32m3.3/3.3 MB\u001b[0m \u001b[31m64.7 MB/s\u001b[0m eta \u001b[36m0:00:00\u001b[0m:00:01\u001b[0m\n\u001b[?25hDownloading alabaster-0.7.16-py3-none-any.whl (13 kB)\nDownloading imagesize-1.4.1-py2.py3-none-any.whl (8.8 kB)\nDownloading sphinxcontrib_htmlhelp-2.0.5-py3-none-any.whl (99 kB)\n\u001b[2K   \u001b[90m━━━━━━━━━━━━━━━━━━━━━━━━━━━━━━━━━━━━━━━━\u001b[0m \u001b[32m99.2/99.2 kB\u001b[0m \u001b[31m6.6 MB/s\u001b[0m eta \u001b[36m0:00:00\u001b[0m\n\u001b[?25hDownloading sphinxcontrib_serializinghtml-1.1.10-py3-none-any.whl (92 kB)\n\u001b[2K   \u001b[90m━━━━━━━━━━━━━━━━━━━━━━━━━━━━━━━━━━━━━━━━\u001b[0m \u001b[32m92.7/92.7 kB\u001b[0m \u001b[31m6.9 MB/s\u001b[0m eta \u001b[36m0:00:00\u001b[0m\n\u001b[?25hDownloading sphinxcontrib_applehelp-1.0.8-py3-none-any.whl (120 kB)\n\u001b[2K   \u001b[90m━━━━━━━━━━━━━━━━━━━━━━━━━━━━━━━━━━━━━━━━\u001b[0m \u001b[32m120.0/120.0 kB\u001b[0m \u001b[31m9.1 MB/s\u001b[0m eta \u001b[36m0:00:00\u001b[0m\n\u001b[?25hDownloading sphinxcontrib_devhelp-1.0.6-py3-none-any.whl (83 kB)\n\u001b[2K   \u001b[90m━━━━━━━━━━━━━━━━━━━━━━━━━━━━━━━━━━━━━━━━\u001b[0m \u001b[32m83.5/83.5 kB\u001b[0m \u001b[31m5.7 MB/s\u001b[0m eta \u001b[36m0:00:00\u001b[0m\n\u001b[?25hDownloading sphinxcontrib_jsmath-1.0.1-py2.py3-none-any.whl (5.1 kB)\nDownloading sphinxcontrib_qthelp-1.0.7-py3-none-any.whl (89 kB)\n\u001b[2K   \u001b[90m━━━━━━━━━━━━━━━━━━━━━━━━━━━━━━━━━━━━━━━━\u001b[0m \u001b[32m89.4/89.4 kB\u001b[0m \u001b[31m7.0 MB/s\u001b[0m eta \u001b[36m0:00:00\u001b[0m\n\u001b[?25hInstalling collected packages: morfessor, sphinxcontrib-serializinghtml, sphinxcontrib-qthelp, sphinxcontrib-jsmath, sphinxcontrib-htmlhelp, sphinxcontrib-devhelp, sphinxcontrib-applehelp, imagesize, alabaster, sphinx, sphinx-argparse, indic-nlp-library\nSuccessfully installed alabaster-0.7.16 imagesize-1.4.1 indic-nlp-library-0.92 morfessor-2.0.6 sphinx-7.3.7 sphinx-argparse-0.4.0 sphinxcontrib-applehelp-1.0.8 sphinxcontrib-devhelp-1.0.6 sphinxcontrib-htmlhelp-2.0.5 sphinxcontrib-jsmath-1.0.1 sphinxcontrib-qthelp-1.0.7 sphinxcontrib-serializinghtml-1.1.10\n",
          "output_type": "stream"
        },
        {
          "execution_count": 9,
          "output_type": "execute_result",
          "data": {
            "text/plain": "                                               texts  label  parse_tree_depth  \\\n0  अमेरिकी और रूसी पुलिस के संयुक्त अभियान के फलस...      0                 2   \n1  आज यहां रांची एक्सप्रेस के साथ बातचीत में वित्...      0                 2   \n2                                   हमे इन्तजार है ।      1                 1   \n3       जिस के नतीजे मे ये हुक्म सादिर किया गया है ।      1                 2   \n4                                              जयपुर      0                 0   \n\n   noun_count_hi  verb_count_hi  adverb_count_hi  pronoun_count_hi  \\\n0              7              2                0                 0   \n1              2              1                0                 1   \n2              1              0                0                 1   \n3              3              1                0                 1   \n4              0              0                0                 0   \n\n   total_words_hi  noun_percentage_hi  verb_percentage_hi  \\\n0              28           25.000000            7.142857   \n1              13           15.384615            7.692308   \n2               4           25.000000            0.000000   \n3              11           27.272727            9.090909   \n4               1            0.000000            0.000000   \n\n   adverb_percentage_hi  pronoun_percentage_hi  words_per_sent  \\\n0                   0.0               0.000000              27   \n1                   0.0               7.692308              13   \n2                   0.0              25.000000               4   \n3                   0.0               9.090909              11   \n4                   0.0               0.000000               1   \n\n   avg_characters_per_word  token_type_ratio  \n0                 4.407407          0.857143  \n1                 4.615385          1.000000  \n2                 3.250000          1.000000  \n3                 3.090909          1.000000  \n4                 5.000000          1.000000  ",
            "text/html": "<div>\n<style scoped>\n    .dataframe tbody tr th:only-of-type {\n        vertical-align: middle;\n    }\n\n    .dataframe tbody tr th {\n        vertical-align: top;\n    }\n\n    .dataframe thead th {\n        text-align: right;\n    }\n</style>\n<table border=\"1\" class=\"dataframe\">\n  <thead>\n    <tr style=\"text-align: right;\">\n      <th></th>\n      <th>texts</th>\n      <th>label</th>\n      <th>parse_tree_depth</th>\n      <th>noun_count_hi</th>\n      <th>verb_count_hi</th>\n      <th>adverb_count_hi</th>\n      <th>pronoun_count_hi</th>\n      <th>total_words_hi</th>\n      <th>noun_percentage_hi</th>\n      <th>verb_percentage_hi</th>\n      <th>adverb_percentage_hi</th>\n      <th>pronoun_percentage_hi</th>\n      <th>words_per_sent</th>\n      <th>avg_characters_per_word</th>\n      <th>token_type_ratio</th>\n    </tr>\n  </thead>\n  <tbody>\n    <tr>\n      <th>0</th>\n      <td>अमेरिकी और रूसी पुलिस के संयुक्त अभियान के फलस...</td>\n      <td>0</td>\n      <td>2</td>\n      <td>7</td>\n      <td>2</td>\n      <td>0</td>\n      <td>0</td>\n      <td>28</td>\n      <td>25.000000</td>\n      <td>7.142857</td>\n      <td>0.0</td>\n      <td>0.000000</td>\n      <td>27</td>\n      <td>4.407407</td>\n      <td>0.857143</td>\n    </tr>\n    <tr>\n      <th>1</th>\n      <td>आज यहां रांची एक्सप्रेस के साथ बातचीत में वित्...</td>\n      <td>0</td>\n      <td>2</td>\n      <td>2</td>\n      <td>1</td>\n      <td>0</td>\n      <td>1</td>\n      <td>13</td>\n      <td>15.384615</td>\n      <td>7.692308</td>\n      <td>0.0</td>\n      <td>7.692308</td>\n      <td>13</td>\n      <td>4.615385</td>\n      <td>1.000000</td>\n    </tr>\n    <tr>\n      <th>2</th>\n      <td>हमे इन्तजार है ।</td>\n      <td>1</td>\n      <td>1</td>\n      <td>1</td>\n      <td>0</td>\n      <td>0</td>\n      <td>1</td>\n      <td>4</td>\n      <td>25.000000</td>\n      <td>0.000000</td>\n      <td>0.0</td>\n      <td>25.000000</td>\n      <td>4</td>\n      <td>3.250000</td>\n      <td>1.000000</td>\n    </tr>\n    <tr>\n      <th>3</th>\n      <td>जिस के नतीजे मे ये हुक्म सादिर किया गया है ।</td>\n      <td>1</td>\n      <td>2</td>\n      <td>3</td>\n      <td>1</td>\n      <td>0</td>\n      <td>1</td>\n      <td>11</td>\n      <td>27.272727</td>\n      <td>9.090909</td>\n      <td>0.0</td>\n      <td>9.090909</td>\n      <td>11</td>\n      <td>3.090909</td>\n      <td>1.000000</td>\n    </tr>\n    <tr>\n      <th>4</th>\n      <td>जयपुर</td>\n      <td>0</td>\n      <td>0</td>\n      <td>0</td>\n      <td>0</td>\n      <td>0</td>\n      <td>0</td>\n      <td>1</td>\n      <td>0.000000</td>\n      <td>0.000000</td>\n      <td>0.0</td>\n      <td>0.000000</td>\n      <td>1</td>\n      <td>5.000000</td>\n      <td>1.000000</td>\n    </tr>\n  </tbody>\n</table>\n</div>"
          },
          "metadata": {}
        }
      ]
    },
    {
      "cell_type": "code",
      "source": [
        "#Case Marker Percentage\n",
        "import re\n",
        "\n",
        "def count_case_markers(text):\n",
        "    case_markers = [\"ने\", \"को\", \"से\", \"के\", \"का\", \"की\", \"के\", \"की\", \"में\", \"पर\", \"तक\", \"से\"]\n",
        "    words = text.split()\n",
        "\n",
        "\n",
        "    count = 0\n",
        "    for word in words:\n",
        "        if word in case_markers:\n",
        "            count += 1\n",
        "    case_marker_percentage = count / len(words) * 100\n",
        "    return case_marker_percentage\n",
        "\n",
        "df['case_marker_perc'] = df['texts'].apply(count_case_markers)\n",
        "df.head()"
      ],
      "metadata": {
        "execution": {
          "iopub.status.busy": "2024-06-28T17:37:03.345991Z",
          "iopub.execute_input": "2024-06-28T17:37:03.346505Z",
          "iopub.status.idle": "2024-06-28T17:37:03.680146Z",
          "shell.execute_reply.started": "2024-06-28T17:37:03.346462Z",
          "shell.execute_reply": "2024-06-28T17:37:03.679168Z"
        },
        "trusted": true,
        "id": "upCxnm18Rkt5",
        "outputId": "cb60637b-4cf1-455e-9e2c-e373551b3f8b"
      },
      "execution_count": null,
      "outputs": [
        {
          "execution_count": 10,
          "output_type": "execute_result",
          "data": {
            "text/plain": "                                               texts  label  parse_tree_depth  \\\n0  अमेरिकी और रूसी पुलिस के संयुक्त अभियान के फलस...      0                 2   \n1  आज यहां रांची एक्सप्रेस के साथ बातचीत में वित्...      0                 2   \n2                                   हमे इन्तजार है ।      1                 1   \n3       जिस के नतीजे मे ये हुक्म सादिर किया गया है ।      1                 2   \n4                                              जयपुर      0                 0   \n\n   noun_count_hi  verb_count_hi  adverb_count_hi  pronoun_count_hi  \\\n0              7              2                0                 0   \n1              2              1                0                 1   \n2              1              0                0                 1   \n3              3              1                0                 1   \n4              0              0                0                 0   \n\n   total_words_hi  noun_percentage_hi  verb_percentage_hi  \\\n0              28           25.000000            7.142857   \n1              13           15.384615            7.692308   \n2               4           25.000000            0.000000   \n3              11           27.272727            9.090909   \n4               1            0.000000            0.000000   \n\n   adverb_percentage_hi  pronoun_percentage_hi  words_per_sent  \\\n0                   0.0               0.000000              27   \n1                   0.0               7.692308              13   \n2                   0.0              25.000000               4   \n3                   0.0               9.090909              11   \n4                   0.0               0.000000               1   \n\n   avg_characters_per_word  token_type_ratio  case_marker_perc  \n0                 4.407407          0.857143         14.814815  \n1                 4.615385          1.000000         23.076923  \n2                 3.250000          1.000000          0.000000  \n3                 3.090909          1.000000          9.090909  \n4                 5.000000          1.000000          0.000000  ",
            "text/html": "<div>\n<style scoped>\n    .dataframe tbody tr th:only-of-type {\n        vertical-align: middle;\n    }\n\n    .dataframe tbody tr th {\n        vertical-align: top;\n    }\n\n    .dataframe thead th {\n        text-align: right;\n    }\n</style>\n<table border=\"1\" class=\"dataframe\">\n  <thead>\n    <tr style=\"text-align: right;\">\n      <th></th>\n      <th>texts</th>\n      <th>label</th>\n      <th>parse_tree_depth</th>\n      <th>noun_count_hi</th>\n      <th>verb_count_hi</th>\n      <th>adverb_count_hi</th>\n      <th>pronoun_count_hi</th>\n      <th>total_words_hi</th>\n      <th>noun_percentage_hi</th>\n      <th>verb_percentage_hi</th>\n      <th>adverb_percentage_hi</th>\n      <th>pronoun_percentage_hi</th>\n      <th>words_per_sent</th>\n      <th>avg_characters_per_word</th>\n      <th>token_type_ratio</th>\n      <th>case_marker_perc</th>\n    </tr>\n  </thead>\n  <tbody>\n    <tr>\n      <th>0</th>\n      <td>अमेरिकी और रूसी पुलिस के संयुक्त अभियान के फलस...</td>\n      <td>0</td>\n      <td>2</td>\n      <td>7</td>\n      <td>2</td>\n      <td>0</td>\n      <td>0</td>\n      <td>28</td>\n      <td>25.000000</td>\n      <td>7.142857</td>\n      <td>0.0</td>\n      <td>0.000000</td>\n      <td>27</td>\n      <td>4.407407</td>\n      <td>0.857143</td>\n      <td>14.814815</td>\n    </tr>\n    <tr>\n      <th>1</th>\n      <td>आज यहां रांची एक्सप्रेस के साथ बातचीत में वित्...</td>\n      <td>0</td>\n      <td>2</td>\n      <td>2</td>\n      <td>1</td>\n      <td>0</td>\n      <td>1</td>\n      <td>13</td>\n      <td>15.384615</td>\n      <td>7.692308</td>\n      <td>0.0</td>\n      <td>7.692308</td>\n      <td>13</td>\n      <td>4.615385</td>\n      <td>1.000000</td>\n      <td>23.076923</td>\n    </tr>\n    <tr>\n      <th>2</th>\n      <td>हमे इन्तजार है ।</td>\n      <td>1</td>\n      <td>1</td>\n      <td>1</td>\n      <td>0</td>\n      <td>0</td>\n      <td>1</td>\n      <td>4</td>\n      <td>25.000000</td>\n      <td>0.000000</td>\n      <td>0.0</td>\n      <td>25.000000</td>\n      <td>4</td>\n      <td>3.250000</td>\n      <td>1.000000</td>\n      <td>0.000000</td>\n    </tr>\n    <tr>\n      <th>3</th>\n      <td>जिस के नतीजे मे ये हुक्म सादिर किया गया है ।</td>\n      <td>1</td>\n      <td>2</td>\n      <td>3</td>\n      <td>1</td>\n      <td>0</td>\n      <td>1</td>\n      <td>11</td>\n      <td>27.272727</td>\n      <td>9.090909</td>\n      <td>0.0</td>\n      <td>9.090909</td>\n      <td>11</td>\n      <td>3.090909</td>\n      <td>1.000000</td>\n      <td>9.090909</td>\n    </tr>\n    <tr>\n      <th>4</th>\n      <td>जयपुर</td>\n      <td>0</td>\n      <td>0</td>\n      <td>0</td>\n      <td>0</td>\n      <td>0</td>\n      <td>0</td>\n      <td>1</td>\n      <td>0.000000</td>\n      <td>0.000000</td>\n      <td>0.0</td>\n      <td>0.000000</td>\n      <td>1</td>\n      <td>5.000000</td>\n      <td>1.000000</td>\n      <td>0.000000</td>\n    </tr>\n  </tbody>\n</table>\n</div>"
          },
          "metadata": {}
        }
      ]
    },
    {
      "cell_type": "code",
      "source": [
        "#Case Marker Count\n",
        "def count_case_markers(text):\n",
        "    case_markers = [\"ने\", \"को\", \"से\", \"के\", \"का\", \"की\", \"के\", \"की\", \"में\", \"पर\", \"तक\", \"से\"]\n",
        "    words = text.split()\n",
        "\n",
        "    count = 0\n",
        "    for word in words:\n",
        "        if word in case_markers:\n",
        "            count += 1\n",
        "\n",
        "    return count\n",
        "\n",
        "df['case_marker_count'] = df['texts'].apply(count_case_markers)\n",
        "df.head()"
      ],
      "metadata": {
        "execution": {
          "iopub.status.busy": "2024-06-28T17:37:03.68131Z",
          "iopub.execute_input": "2024-06-28T17:37:03.681599Z",
          "iopub.status.idle": "2024-06-28T17:37:04.022148Z",
          "shell.execute_reply.started": "2024-06-28T17:37:03.681574Z",
          "shell.execute_reply": "2024-06-28T17:37:04.021276Z"
        },
        "trusted": true,
        "id": "O4UUqPUlRkt6",
        "outputId": "84ad76ec-7df3-48fd-dbae-39cc57740c90"
      },
      "execution_count": null,
      "outputs": [
        {
          "execution_count": 11,
          "output_type": "execute_result",
          "data": {
            "text/plain": "                                               texts  label  parse_tree_depth  \\\n0  अमेरिकी और रूसी पुलिस के संयुक्त अभियान के फलस...      0                 2   \n1  आज यहां रांची एक्सप्रेस के साथ बातचीत में वित्...      0                 2   \n2                                   हमे इन्तजार है ।      1                 1   \n3       जिस के नतीजे मे ये हुक्म सादिर किया गया है ।      1                 2   \n4                                              जयपुर      0                 0   \n\n   noun_count_hi  verb_count_hi  adverb_count_hi  pronoun_count_hi  \\\n0              7              2                0                 0   \n1              2              1                0                 1   \n2              1              0                0                 1   \n3              3              1                0                 1   \n4              0              0                0                 0   \n\n   total_words_hi  noun_percentage_hi  verb_percentage_hi  \\\n0              28           25.000000            7.142857   \n1              13           15.384615            7.692308   \n2               4           25.000000            0.000000   \n3              11           27.272727            9.090909   \n4               1            0.000000            0.000000   \n\n   adverb_percentage_hi  pronoun_percentage_hi  words_per_sent  \\\n0                   0.0               0.000000              27   \n1                   0.0               7.692308              13   \n2                   0.0              25.000000               4   \n3                   0.0               9.090909              11   \n4                   0.0               0.000000               1   \n\n   avg_characters_per_word  token_type_ratio  case_marker_perc  \\\n0                 4.407407          0.857143         14.814815   \n1                 4.615385          1.000000         23.076923   \n2                 3.250000          1.000000          0.000000   \n3                 3.090909          1.000000          9.090909   \n4                 5.000000          1.000000          0.000000   \n\n   case_marker_count  \n0                  4  \n1                  3  \n2                  0  \n3                  1  \n4                  0  ",
            "text/html": "<div>\n<style scoped>\n    .dataframe tbody tr th:only-of-type {\n        vertical-align: middle;\n    }\n\n    .dataframe tbody tr th {\n        vertical-align: top;\n    }\n\n    .dataframe thead th {\n        text-align: right;\n    }\n</style>\n<table border=\"1\" class=\"dataframe\">\n  <thead>\n    <tr style=\"text-align: right;\">\n      <th></th>\n      <th>texts</th>\n      <th>label</th>\n      <th>parse_tree_depth</th>\n      <th>noun_count_hi</th>\n      <th>verb_count_hi</th>\n      <th>adverb_count_hi</th>\n      <th>pronoun_count_hi</th>\n      <th>total_words_hi</th>\n      <th>noun_percentage_hi</th>\n      <th>verb_percentage_hi</th>\n      <th>adverb_percentage_hi</th>\n      <th>pronoun_percentage_hi</th>\n      <th>words_per_sent</th>\n      <th>avg_characters_per_word</th>\n      <th>token_type_ratio</th>\n      <th>case_marker_perc</th>\n      <th>case_marker_count</th>\n    </tr>\n  </thead>\n  <tbody>\n    <tr>\n      <th>0</th>\n      <td>अमेरिकी और रूसी पुलिस के संयुक्त अभियान के फलस...</td>\n      <td>0</td>\n      <td>2</td>\n      <td>7</td>\n      <td>2</td>\n      <td>0</td>\n      <td>0</td>\n      <td>28</td>\n      <td>25.000000</td>\n      <td>7.142857</td>\n      <td>0.0</td>\n      <td>0.000000</td>\n      <td>27</td>\n      <td>4.407407</td>\n      <td>0.857143</td>\n      <td>14.814815</td>\n      <td>4</td>\n    </tr>\n    <tr>\n      <th>1</th>\n      <td>आज यहां रांची एक्सप्रेस के साथ बातचीत में वित्...</td>\n      <td>0</td>\n      <td>2</td>\n      <td>2</td>\n      <td>1</td>\n      <td>0</td>\n      <td>1</td>\n      <td>13</td>\n      <td>15.384615</td>\n      <td>7.692308</td>\n      <td>0.0</td>\n      <td>7.692308</td>\n      <td>13</td>\n      <td>4.615385</td>\n      <td>1.000000</td>\n      <td>23.076923</td>\n      <td>3</td>\n    </tr>\n    <tr>\n      <th>2</th>\n      <td>हमे इन्तजार है ।</td>\n      <td>1</td>\n      <td>1</td>\n      <td>1</td>\n      <td>0</td>\n      <td>0</td>\n      <td>1</td>\n      <td>4</td>\n      <td>25.000000</td>\n      <td>0.000000</td>\n      <td>0.0</td>\n      <td>25.000000</td>\n      <td>4</td>\n      <td>3.250000</td>\n      <td>1.000000</td>\n      <td>0.000000</td>\n      <td>0</td>\n    </tr>\n    <tr>\n      <th>3</th>\n      <td>जिस के नतीजे मे ये हुक्म सादिर किया गया है ।</td>\n      <td>1</td>\n      <td>2</td>\n      <td>3</td>\n      <td>1</td>\n      <td>0</td>\n      <td>1</td>\n      <td>11</td>\n      <td>27.272727</td>\n      <td>9.090909</td>\n      <td>0.0</td>\n      <td>9.090909</td>\n      <td>11</td>\n      <td>3.090909</td>\n      <td>1.000000</td>\n      <td>9.090909</td>\n      <td>1</td>\n    </tr>\n    <tr>\n      <th>4</th>\n      <td>जयपुर</td>\n      <td>0</td>\n      <td>0</td>\n      <td>0</td>\n      <td>0</td>\n      <td>0</td>\n      <td>0</td>\n      <td>1</td>\n      <td>0.000000</td>\n      <td>0.000000</td>\n      <td>0.0</td>\n      <td>0.000000</td>\n      <td>1</td>\n      <td>5.000000</td>\n      <td>1.000000</td>\n      <td>0.000000</td>\n      <td>0</td>\n    </tr>\n  </tbody>\n</table>\n</div>"
          },
          "metadata": {}
        }
      ]
    },
    {
      "cell_type": "code",
      "source": [
        "# Conjunctions in a sentence\n",
        "conjunctions = [\n",
        "    \"और\", \"तथा\", \"पर\", \"लेकिन\", \"किन्तु\", \"मगर\", \"फिर\", \"इसलिए\", \"इसके बाद\",\n",
        "    \"इसके पहले\", \"जबकि\", \"जैसा कि\", \"जब तक\", \"या\", \"नहीं तो\", \"इसलिए\",\n",
        "    \"जबकी\", \"इसलिए\", \"चाहे\", \"या तो\", \"कि\", \"क्योंकि\", \"जब तक\", \"जैसे\",\n",
        "    \"भले ही\", \"जितना\", \"जब\", \"कि\", \"चाहे\", \"कि\", \"अगर\", \"चाहे\", \"वर्तमान में\",\n",
        "    \"तब तक\", \"जबकि\", \"जो\", \"यदि\", \"कि\", \"किसके बावजूद\", \"यह बात\", \"जब तक\",\n",
        "    \"जैसा\", \"जैसे\", \"जितना\", \"की\", \"की\", \"कि\"\n",
        "]\n",
        "\n",
        "def count_conjunctions(text):\n",
        "    words = text.split()\n",
        "    conjunction_count = 0\n",
        "    for word in words:\n",
        "        if word in conjunctions:\n",
        "            conjunction_count += 1\n",
        "    return conjunction_count\n",
        "\n",
        "df['conjunction_count'] = df['texts'].apply(count_conjunctions)\n",
        "df.head()"
      ],
      "metadata": {
        "execution": {
          "iopub.status.busy": "2024-06-28T17:37:04.023212Z",
          "iopub.execute_input": "2024-06-28T17:37:04.02346Z",
          "iopub.status.idle": "2024-06-28T17:37:04.748381Z",
          "shell.execute_reply.started": "2024-06-28T17:37:04.023436Z",
          "shell.execute_reply": "2024-06-28T17:37:04.747411Z"
        },
        "trusted": true,
        "id": "IuXpwXy2Rkt7",
        "outputId": "8293d881-024b-4006-9518-23cf492d36ee"
      },
      "execution_count": null,
      "outputs": [
        {
          "execution_count": 12,
          "output_type": "execute_result",
          "data": {
            "text/plain": "                                               texts  label  parse_tree_depth  \\\n0  अमेरिकी और रूसी पुलिस के संयुक्त अभियान के फलस...      0                 2   \n1  आज यहां रांची एक्सप्रेस के साथ बातचीत में वित्...      0                 2   \n2                                   हमे इन्तजार है ।      1                 1   \n3       जिस के नतीजे मे ये हुक्म सादिर किया गया है ।      1                 2   \n4                                              जयपुर      0                 0   \n\n   noun_count_hi  verb_count_hi  adverb_count_hi  pronoun_count_hi  \\\n0              7              2                0                 0   \n1              2              1                0                 1   \n2              1              0                0                 1   \n3              3              1                0                 1   \n4              0              0                0                 0   \n\n   total_words_hi  noun_percentage_hi  verb_percentage_hi  \\\n0              28           25.000000            7.142857   \n1              13           15.384615            7.692308   \n2               4           25.000000            0.000000   \n3              11           27.272727            9.090909   \n4               1            0.000000            0.000000   \n\n   adverb_percentage_hi  pronoun_percentage_hi  words_per_sent  \\\n0                   0.0               0.000000              27   \n1                   0.0               7.692308              13   \n2                   0.0              25.000000               4   \n3                   0.0               9.090909              11   \n4                   0.0               0.000000               1   \n\n   avg_characters_per_word  token_type_ratio  case_marker_perc  \\\n0                 4.407407          0.857143         14.814815   \n1                 4.615385          1.000000         23.076923   \n2                 3.250000          1.000000          0.000000   \n3                 3.090909          1.000000          9.090909   \n4                 5.000000          1.000000          0.000000   \n\n   case_marker_count  conjunction_count  \n0                  4                  3  \n1                  3                  1  \n2                  0                  0  \n3                  1                  0  \n4                  0                  0  ",
            "text/html": "<div>\n<style scoped>\n    .dataframe tbody tr th:only-of-type {\n        vertical-align: middle;\n    }\n\n    .dataframe tbody tr th {\n        vertical-align: top;\n    }\n\n    .dataframe thead th {\n        text-align: right;\n    }\n</style>\n<table border=\"1\" class=\"dataframe\">\n  <thead>\n    <tr style=\"text-align: right;\">\n      <th></th>\n      <th>texts</th>\n      <th>label</th>\n      <th>parse_tree_depth</th>\n      <th>noun_count_hi</th>\n      <th>verb_count_hi</th>\n      <th>adverb_count_hi</th>\n      <th>pronoun_count_hi</th>\n      <th>total_words_hi</th>\n      <th>noun_percentage_hi</th>\n      <th>verb_percentage_hi</th>\n      <th>adverb_percentage_hi</th>\n      <th>pronoun_percentage_hi</th>\n      <th>words_per_sent</th>\n      <th>avg_characters_per_word</th>\n      <th>token_type_ratio</th>\n      <th>case_marker_perc</th>\n      <th>case_marker_count</th>\n      <th>conjunction_count</th>\n    </tr>\n  </thead>\n  <tbody>\n    <tr>\n      <th>0</th>\n      <td>अमेरिकी और रूसी पुलिस के संयुक्त अभियान के फलस...</td>\n      <td>0</td>\n      <td>2</td>\n      <td>7</td>\n      <td>2</td>\n      <td>0</td>\n      <td>0</td>\n      <td>28</td>\n      <td>25.000000</td>\n      <td>7.142857</td>\n      <td>0.0</td>\n      <td>0.000000</td>\n      <td>27</td>\n      <td>4.407407</td>\n      <td>0.857143</td>\n      <td>14.814815</td>\n      <td>4</td>\n      <td>3</td>\n    </tr>\n    <tr>\n      <th>1</th>\n      <td>आज यहां रांची एक्सप्रेस के साथ बातचीत में वित्...</td>\n      <td>0</td>\n      <td>2</td>\n      <td>2</td>\n      <td>1</td>\n      <td>0</td>\n      <td>1</td>\n      <td>13</td>\n      <td>15.384615</td>\n      <td>7.692308</td>\n      <td>0.0</td>\n      <td>7.692308</td>\n      <td>13</td>\n      <td>4.615385</td>\n      <td>1.000000</td>\n      <td>23.076923</td>\n      <td>3</td>\n      <td>1</td>\n    </tr>\n    <tr>\n      <th>2</th>\n      <td>हमे इन्तजार है ।</td>\n      <td>1</td>\n      <td>1</td>\n      <td>1</td>\n      <td>0</td>\n      <td>0</td>\n      <td>1</td>\n      <td>4</td>\n      <td>25.000000</td>\n      <td>0.000000</td>\n      <td>0.0</td>\n      <td>25.000000</td>\n      <td>4</td>\n      <td>3.250000</td>\n      <td>1.000000</td>\n      <td>0.000000</td>\n      <td>0</td>\n      <td>0</td>\n    </tr>\n    <tr>\n      <th>3</th>\n      <td>जिस के नतीजे मे ये हुक्म सादिर किया गया है ।</td>\n      <td>1</td>\n      <td>2</td>\n      <td>3</td>\n      <td>1</td>\n      <td>0</td>\n      <td>1</td>\n      <td>11</td>\n      <td>27.272727</td>\n      <td>9.090909</td>\n      <td>0.0</td>\n      <td>9.090909</td>\n      <td>11</td>\n      <td>3.090909</td>\n      <td>1.000000</td>\n      <td>9.090909</td>\n      <td>1</td>\n      <td>0</td>\n    </tr>\n    <tr>\n      <th>4</th>\n      <td>जयपुर</td>\n      <td>0</td>\n      <td>0</td>\n      <td>0</td>\n      <td>0</td>\n      <td>0</td>\n      <td>0</td>\n      <td>1</td>\n      <td>0.000000</td>\n      <td>0.000000</td>\n      <td>0.0</td>\n      <td>0.000000</td>\n      <td>1</td>\n      <td>5.000000</td>\n      <td>1.000000</td>\n      <td>0.000000</td>\n      <td>0</td>\n      <td>0</td>\n    </tr>\n  </tbody>\n</table>\n</div>"
          },
          "metadata": {}
        }
      ]
    },
    {
      "cell_type": "code",
      "source": [
        "# Percentage of conjunctions in a sentence\n",
        "def conjunctions_percentage(text):\n",
        "    words = text.split()\n",
        "    conjunction_count = 0\n",
        "    for word in words:\n",
        "        if word in conjunctions:\n",
        "            conjunction_count += 1\n",
        "    conjunction_percentage = (conjunction_count / len(words)) * 100\n",
        "    return conjunction_percentage\n",
        "\n",
        "df['conjunctions_percentage'] = df['texts'].apply(conjunctions_percentage)\n",
        "df.head()"
      ],
      "metadata": {
        "execution": {
          "iopub.status.busy": "2024-06-28T17:37:04.74954Z",
          "iopub.execute_input": "2024-06-28T17:37:04.749813Z",
          "iopub.status.idle": "2024-06-28T17:37:05.475985Z",
          "shell.execute_reply.started": "2024-06-28T17:37:04.749788Z",
          "shell.execute_reply": "2024-06-28T17:37:05.47511Z"
        },
        "trusted": true,
        "id": "znNfyukqRkt8",
        "outputId": "649cff32-7e50-4e4e-d5c6-1ad1781a144f"
      },
      "execution_count": null,
      "outputs": [
        {
          "execution_count": 13,
          "output_type": "execute_result",
          "data": {
            "text/plain": "                                               texts  label  parse_tree_depth  \\\n0  अमेरिकी और रूसी पुलिस के संयुक्त अभियान के फलस...      0                 2   \n1  आज यहां रांची एक्सप्रेस के साथ बातचीत में वित्...      0                 2   \n2                                   हमे इन्तजार है ।      1                 1   \n3       जिस के नतीजे मे ये हुक्म सादिर किया गया है ।      1                 2   \n4                                              जयपुर      0                 0   \n\n   noun_count_hi  verb_count_hi  adverb_count_hi  pronoun_count_hi  \\\n0              7              2                0                 0   \n1              2              1                0                 1   \n2              1              0                0                 1   \n3              3              1                0                 1   \n4              0              0                0                 0   \n\n   total_words_hi  noun_percentage_hi  verb_percentage_hi  \\\n0              28           25.000000            7.142857   \n1              13           15.384615            7.692308   \n2               4           25.000000            0.000000   \n3              11           27.272727            9.090909   \n4               1            0.000000            0.000000   \n\n   adverb_percentage_hi  pronoun_percentage_hi  words_per_sent  \\\n0                   0.0               0.000000              27   \n1                   0.0               7.692308              13   \n2                   0.0              25.000000               4   \n3                   0.0               9.090909              11   \n4                   0.0               0.000000               1   \n\n   avg_characters_per_word  token_type_ratio  case_marker_perc  \\\n0                 4.407407          0.857143         14.814815   \n1                 4.615385          1.000000         23.076923   \n2                 3.250000          1.000000          0.000000   \n3                 3.090909          1.000000          9.090909   \n4                 5.000000          1.000000          0.000000   \n\n   case_marker_count  conjunction_count  conjunctions_percentage  \n0                  4                  3                11.111111  \n1                  3                  1                 7.692308  \n2                  0                  0                 0.000000  \n3                  1                  0                 0.000000  \n4                  0                  0                 0.000000  ",
            "text/html": "<div>\n<style scoped>\n    .dataframe tbody tr th:only-of-type {\n        vertical-align: middle;\n    }\n\n    .dataframe tbody tr th {\n        vertical-align: top;\n    }\n\n    .dataframe thead th {\n        text-align: right;\n    }\n</style>\n<table border=\"1\" class=\"dataframe\">\n  <thead>\n    <tr style=\"text-align: right;\">\n      <th></th>\n      <th>texts</th>\n      <th>label</th>\n      <th>parse_tree_depth</th>\n      <th>noun_count_hi</th>\n      <th>verb_count_hi</th>\n      <th>adverb_count_hi</th>\n      <th>pronoun_count_hi</th>\n      <th>total_words_hi</th>\n      <th>noun_percentage_hi</th>\n      <th>verb_percentage_hi</th>\n      <th>adverb_percentage_hi</th>\n      <th>pronoun_percentage_hi</th>\n      <th>words_per_sent</th>\n      <th>avg_characters_per_word</th>\n      <th>token_type_ratio</th>\n      <th>case_marker_perc</th>\n      <th>case_marker_count</th>\n      <th>conjunction_count</th>\n      <th>conjunctions_percentage</th>\n    </tr>\n  </thead>\n  <tbody>\n    <tr>\n      <th>0</th>\n      <td>अमेरिकी और रूसी पुलिस के संयुक्त अभियान के फलस...</td>\n      <td>0</td>\n      <td>2</td>\n      <td>7</td>\n      <td>2</td>\n      <td>0</td>\n      <td>0</td>\n      <td>28</td>\n      <td>25.000000</td>\n      <td>7.142857</td>\n      <td>0.0</td>\n      <td>0.000000</td>\n      <td>27</td>\n      <td>4.407407</td>\n      <td>0.857143</td>\n      <td>14.814815</td>\n      <td>4</td>\n      <td>3</td>\n      <td>11.111111</td>\n    </tr>\n    <tr>\n      <th>1</th>\n      <td>आज यहां रांची एक्सप्रेस के साथ बातचीत में वित्...</td>\n      <td>0</td>\n      <td>2</td>\n      <td>2</td>\n      <td>1</td>\n      <td>0</td>\n      <td>1</td>\n      <td>13</td>\n      <td>15.384615</td>\n      <td>7.692308</td>\n      <td>0.0</td>\n      <td>7.692308</td>\n      <td>13</td>\n      <td>4.615385</td>\n      <td>1.000000</td>\n      <td>23.076923</td>\n      <td>3</td>\n      <td>1</td>\n      <td>7.692308</td>\n    </tr>\n    <tr>\n      <th>2</th>\n      <td>हमे इन्तजार है ।</td>\n      <td>1</td>\n      <td>1</td>\n      <td>1</td>\n      <td>0</td>\n      <td>0</td>\n      <td>1</td>\n      <td>4</td>\n      <td>25.000000</td>\n      <td>0.000000</td>\n      <td>0.0</td>\n      <td>25.000000</td>\n      <td>4</td>\n      <td>3.250000</td>\n      <td>1.000000</td>\n      <td>0.000000</td>\n      <td>0</td>\n      <td>0</td>\n      <td>0.000000</td>\n    </tr>\n    <tr>\n      <th>3</th>\n      <td>जिस के नतीजे मे ये हुक्म सादिर किया गया है ।</td>\n      <td>1</td>\n      <td>2</td>\n      <td>3</td>\n      <td>1</td>\n      <td>0</td>\n      <td>1</td>\n      <td>11</td>\n      <td>27.272727</td>\n      <td>9.090909</td>\n      <td>0.0</td>\n      <td>9.090909</td>\n      <td>11</td>\n      <td>3.090909</td>\n      <td>1.000000</td>\n      <td>9.090909</td>\n      <td>1</td>\n      <td>0</td>\n      <td>0.000000</td>\n    </tr>\n    <tr>\n      <th>4</th>\n      <td>जयपुर</td>\n      <td>0</td>\n      <td>0</td>\n      <td>0</td>\n      <td>0</td>\n      <td>0</td>\n      <td>0</td>\n      <td>1</td>\n      <td>0.000000</td>\n      <td>0.000000</td>\n      <td>0.0</td>\n      <td>0.000000</td>\n      <td>1</td>\n      <td>5.000000</td>\n      <td>1.000000</td>\n      <td>0.000000</td>\n      <td>0</td>\n      <td>0</td>\n      <td>0.000000</td>\n    </tr>\n  </tbody>\n</table>\n</div>"
          },
          "metadata": {}
        }
      ]
    },
    {
      "cell_type": "code",
      "source": [
        "#Hesitation Markers\n",
        "hesitation_markers = ['अच्छा', 'मतलब', 'वो', 'तो', 'जैसे', 'और', 'क्या', 'है', 'ही', 'ना', 'अब', 'यानी']\n",
        "def count_hesitation_markers(sentence):\n",
        "    words = sentence.split()\n",
        "    return sum(word in hesitation_markers for word in words)\n",
        "df['hesitation_markers'] = df['texts'].apply(count_hesitation_markers)\n",
        "df.head()"
      ],
      "metadata": {
        "execution": {
          "iopub.status.busy": "2024-06-28T17:37:05.479514Z",
          "iopub.execute_input": "2024-06-28T17:37:05.480046Z",
          "iopub.status.idle": "2024-06-28T17:37:05.843602Z",
          "shell.execute_reply.started": "2024-06-28T17:37:05.480021Z",
          "shell.execute_reply": "2024-06-28T17:37:05.842664Z"
        },
        "trusted": true,
        "id": "U4cVKuxXRkt9",
        "outputId": "320404db-e997-4325-bd01-87540954b193"
      },
      "execution_count": null,
      "outputs": [
        {
          "execution_count": 14,
          "output_type": "execute_result",
          "data": {
            "text/plain": "                                               texts  label  parse_tree_depth  \\\n0  अमेरिकी और रूसी पुलिस के संयुक्त अभियान के फलस...      0                 2   \n1  आज यहां रांची एक्सप्रेस के साथ बातचीत में वित्...      0                 2   \n2                                   हमे इन्तजार है ।      1                 1   \n3       जिस के नतीजे मे ये हुक्म सादिर किया गया है ।      1                 2   \n4                                              जयपुर      0                 0   \n\n   noun_count_hi  verb_count_hi  adverb_count_hi  pronoun_count_hi  \\\n0              7              2                0                 0   \n1              2              1                0                 1   \n2              1              0                0                 1   \n3              3              1                0                 1   \n4              0              0                0                 0   \n\n   total_words_hi  noun_percentage_hi  verb_percentage_hi  \\\n0              28           25.000000            7.142857   \n1              13           15.384615            7.692308   \n2               4           25.000000            0.000000   \n3              11           27.272727            9.090909   \n4               1            0.000000            0.000000   \n\n   adverb_percentage_hi  pronoun_percentage_hi  words_per_sent  \\\n0                   0.0               0.000000              27   \n1                   0.0               7.692308              13   \n2                   0.0              25.000000               4   \n3                   0.0               9.090909              11   \n4                   0.0               0.000000               1   \n\n   avg_characters_per_word  token_type_ratio  case_marker_perc  \\\n0                 4.407407          0.857143         14.814815   \n1                 4.615385          1.000000         23.076923   \n2                 3.250000          1.000000          0.000000   \n3                 3.090909          1.000000          9.090909   \n4                 5.000000          1.000000          0.000000   \n\n   case_marker_count  conjunction_count  conjunctions_percentage  \\\n0                  4                  3                11.111111   \n1                  3                  1                 7.692308   \n2                  0                  0                 0.000000   \n3                  1                  0                 0.000000   \n4                  0                  0                 0.000000   \n\n   hesitation_markers  \n0                   2  \n1                   0  \n2                   1  \n3                   1  \n4                   0  ",
            "text/html": "<div>\n<style scoped>\n    .dataframe tbody tr th:only-of-type {\n        vertical-align: middle;\n    }\n\n    .dataframe tbody tr th {\n        vertical-align: top;\n    }\n\n    .dataframe thead th {\n        text-align: right;\n    }\n</style>\n<table border=\"1\" class=\"dataframe\">\n  <thead>\n    <tr style=\"text-align: right;\">\n      <th></th>\n      <th>texts</th>\n      <th>label</th>\n      <th>parse_tree_depth</th>\n      <th>noun_count_hi</th>\n      <th>verb_count_hi</th>\n      <th>adverb_count_hi</th>\n      <th>pronoun_count_hi</th>\n      <th>total_words_hi</th>\n      <th>noun_percentage_hi</th>\n      <th>verb_percentage_hi</th>\n      <th>adverb_percentage_hi</th>\n      <th>pronoun_percentage_hi</th>\n      <th>words_per_sent</th>\n      <th>avg_characters_per_word</th>\n      <th>token_type_ratio</th>\n      <th>case_marker_perc</th>\n      <th>case_marker_count</th>\n      <th>conjunction_count</th>\n      <th>conjunctions_percentage</th>\n      <th>hesitation_markers</th>\n    </tr>\n  </thead>\n  <tbody>\n    <tr>\n      <th>0</th>\n      <td>अमेरिकी और रूसी पुलिस के संयुक्त अभियान के फलस...</td>\n      <td>0</td>\n      <td>2</td>\n      <td>7</td>\n      <td>2</td>\n      <td>0</td>\n      <td>0</td>\n      <td>28</td>\n      <td>25.000000</td>\n      <td>7.142857</td>\n      <td>0.0</td>\n      <td>0.000000</td>\n      <td>27</td>\n      <td>4.407407</td>\n      <td>0.857143</td>\n      <td>14.814815</td>\n      <td>4</td>\n      <td>3</td>\n      <td>11.111111</td>\n      <td>2</td>\n    </tr>\n    <tr>\n      <th>1</th>\n      <td>आज यहां रांची एक्सप्रेस के साथ बातचीत में वित्...</td>\n      <td>0</td>\n      <td>2</td>\n      <td>2</td>\n      <td>1</td>\n      <td>0</td>\n      <td>1</td>\n      <td>13</td>\n      <td>15.384615</td>\n      <td>7.692308</td>\n      <td>0.0</td>\n      <td>7.692308</td>\n      <td>13</td>\n      <td>4.615385</td>\n      <td>1.000000</td>\n      <td>23.076923</td>\n      <td>3</td>\n      <td>1</td>\n      <td>7.692308</td>\n      <td>0</td>\n    </tr>\n    <tr>\n      <th>2</th>\n      <td>हमे इन्तजार है ।</td>\n      <td>1</td>\n      <td>1</td>\n      <td>1</td>\n      <td>0</td>\n      <td>0</td>\n      <td>1</td>\n      <td>4</td>\n      <td>25.000000</td>\n      <td>0.000000</td>\n      <td>0.0</td>\n      <td>25.000000</td>\n      <td>4</td>\n      <td>3.250000</td>\n      <td>1.000000</td>\n      <td>0.000000</td>\n      <td>0</td>\n      <td>0</td>\n      <td>0.000000</td>\n      <td>1</td>\n    </tr>\n    <tr>\n      <th>3</th>\n      <td>जिस के नतीजे मे ये हुक्म सादिर किया गया है ।</td>\n      <td>1</td>\n      <td>2</td>\n      <td>3</td>\n      <td>1</td>\n      <td>0</td>\n      <td>1</td>\n      <td>11</td>\n      <td>27.272727</td>\n      <td>9.090909</td>\n      <td>0.0</td>\n      <td>9.090909</td>\n      <td>11</td>\n      <td>3.090909</td>\n      <td>1.000000</td>\n      <td>9.090909</td>\n      <td>1</td>\n      <td>0</td>\n      <td>0.000000</td>\n      <td>1</td>\n    </tr>\n    <tr>\n      <th>4</th>\n      <td>जयपुर</td>\n      <td>0</td>\n      <td>0</td>\n      <td>0</td>\n      <td>0</td>\n      <td>0</td>\n      <td>0</td>\n      <td>1</td>\n      <td>0.000000</td>\n      <td>0.000000</td>\n      <td>0.0</td>\n      <td>0.000000</td>\n      <td>1</td>\n      <td>5.000000</td>\n      <td>1.000000</td>\n      <td>0.000000</td>\n      <td>0</td>\n      <td>0</td>\n      <td>0.000000</td>\n      <td>0</td>\n    </tr>\n  </tbody>\n</table>\n</div>"
          },
          "metadata": {}
        }
      ]
    },
    {
      "cell_type": "code",
      "source": [
        "# Wh-questions in Hindi\n",
        "wh_questions = [\"कौन\", \"क्या\", \"कब\", \"कहाँ\", \"कैसे\", \"क्यों\"]\n",
        "def count_wh_questions(text):\n",
        "    words = text.split()\n",
        "    wh_question_count = 0\n",
        "    for word in words:\n",
        "        if word in wh_questions:\n",
        "            wh_question_count += 1\n",
        "    return wh_question_count\n",
        "\n",
        "df['wh_question_count'] = df['texts'].apply(count_wh_questions)\n",
        "df.head()"
      ],
      "metadata": {
        "execution": {
          "iopub.status.busy": "2024-06-28T17:37:05.844772Z",
          "iopub.execute_input": "2024-06-28T17:37:05.845111Z",
          "iopub.status.idle": "2024-06-28T17:37:06.099483Z",
          "shell.execute_reply.started": "2024-06-28T17:37:05.845084Z",
          "shell.execute_reply": "2024-06-28T17:37:06.09864Z"
        },
        "trusted": true,
        "id": "3M8h2bLzRkt-",
        "outputId": "93f798da-34bb-495c-95c4-094243c7bbc1"
      },
      "execution_count": null,
      "outputs": [
        {
          "execution_count": 15,
          "output_type": "execute_result",
          "data": {
            "text/plain": "                                               texts  label  parse_tree_depth  \\\n0  अमेरिकी और रूसी पुलिस के संयुक्त अभियान के फलस...      0                 2   \n1  आज यहां रांची एक्सप्रेस के साथ बातचीत में वित्...      0                 2   \n2                                   हमे इन्तजार है ।      1                 1   \n3       जिस के नतीजे मे ये हुक्म सादिर किया गया है ।      1                 2   \n4                                              जयपुर      0                 0   \n\n   noun_count_hi  verb_count_hi  adverb_count_hi  pronoun_count_hi  \\\n0              7              2                0                 0   \n1              2              1                0                 1   \n2              1              0                0                 1   \n3              3              1                0                 1   \n4              0              0                0                 0   \n\n   total_words_hi  noun_percentage_hi  verb_percentage_hi  ...  \\\n0              28           25.000000            7.142857  ...   \n1              13           15.384615            7.692308  ...   \n2               4           25.000000            0.000000  ...   \n3              11           27.272727            9.090909  ...   \n4               1            0.000000            0.000000  ...   \n\n   pronoun_percentage_hi  words_per_sent  avg_characters_per_word  \\\n0               0.000000              27                 4.407407   \n1               7.692308              13                 4.615385   \n2              25.000000               4                 3.250000   \n3               9.090909              11                 3.090909   \n4               0.000000               1                 5.000000   \n\n   token_type_ratio  case_marker_perc  case_marker_count  conjunction_count  \\\n0          0.857143         14.814815                  4                  3   \n1          1.000000         23.076923                  3                  1   \n2          1.000000          0.000000                  0                  0   \n3          1.000000          9.090909                  1                  0   \n4          1.000000          0.000000                  0                  0   \n\n   conjunctions_percentage  hesitation_markers  wh_question_count  \n0                11.111111                   2                  0  \n1                 7.692308                   0                  0  \n2                 0.000000                   1                  0  \n3                 0.000000                   1                  0  \n4                 0.000000                   0                  0  \n\n[5 rows x 21 columns]",
            "text/html": "<div>\n<style scoped>\n    .dataframe tbody tr th:only-of-type {\n        vertical-align: middle;\n    }\n\n    .dataframe tbody tr th {\n        vertical-align: top;\n    }\n\n    .dataframe thead th {\n        text-align: right;\n    }\n</style>\n<table border=\"1\" class=\"dataframe\">\n  <thead>\n    <tr style=\"text-align: right;\">\n      <th></th>\n      <th>texts</th>\n      <th>label</th>\n      <th>parse_tree_depth</th>\n      <th>noun_count_hi</th>\n      <th>verb_count_hi</th>\n      <th>adverb_count_hi</th>\n      <th>pronoun_count_hi</th>\n      <th>total_words_hi</th>\n      <th>noun_percentage_hi</th>\n      <th>verb_percentage_hi</th>\n      <th>...</th>\n      <th>pronoun_percentage_hi</th>\n      <th>words_per_sent</th>\n      <th>avg_characters_per_word</th>\n      <th>token_type_ratio</th>\n      <th>case_marker_perc</th>\n      <th>case_marker_count</th>\n      <th>conjunction_count</th>\n      <th>conjunctions_percentage</th>\n      <th>hesitation_markers</th>\n      <th>wh_question_count</th>\n    </tr>\n  </thead>\n  <tbody>\n    <tr>\n      <th>0</th>\n      <td>अमेरिकी और रूसी पुलिस के संयुक्त अभियान के फलस...</td>\n      <td>0</td>\n      <td>2</td>\n      <td>7</td>\n      <td>2</td>\n      <td>0</td>\n      <td>0</td>\n      <td>28</td>\n      <td>25.000000</td>\n      <td>7.142857</td>\n      <td>...</td>\n      <td>0.000000</td>\n      <td>27</td>\n      <td>4.407407</td>\n      <td>0.857143</td>\n      <td>14.814815</td>\n      <td>4</td>\n      <td>3</td>\n      <td>11.111111</td>\n      <td>2</td>\n      <td>0</td>\n    </tr>\n    <tr>\n      <th>1</th>\n      <td>आज यहां रांची एक्सप्रेस के साथ बातचीत में वित्...</td>\n      <td>0</td>\n      <td>2</td>\n      <td>2</td>\n      <td>1</td>\n      <td>0</td>\n      <td>1</td>\n      <td>13</td>\n      <td>15.384615</td>\n      <td>7.692308</td>\n      <td>...</td>\n      <td>7.692308</td>\n      <td>13</td>\n      <td>4.615385</td>\n      <td>1.000000</td>\n      <td>23.076923</td>\n      <td>3</td>\n      <td>1</td>\n      <td>7.692308</td>\n      <td>0</td>\n      <td>0</td>\n    </tr>\n    <tr>\n      <th>2</th>\n      <td>हमे इन्तजार है ।</td>\n      <td>1</td>\n      <td>1</td>\n      <td>1</td>\n      <td>0</td>\n      <td>0</td>\n      <td>1</td>\n      <td>4</td>\n      <td>25.000000</td>\n      <td>0.000000</td>\n      <td>...</td>\n      <td>25.000000</td>\n      <td>4</td>\n      <td>3.250000</td>\n      <td>1.000000</td>\n      <td>0.000000</td>\n      <td>0</td>\n      <td>0</td>\n      <td>0.000000</td>\n      <td>1</td>\n      <td>0</td>\n    </tr>\n    <tr>\n      <th>3</th>\n      <td>जिस के नतीजे मे ये हुक्म सादिर किया गया है ।</td>\n      <td>1</td>\n      <td>2</td>\n      <td>3</td>\n      <td>1</td>\n      <td>0</td>\n      <td>1</td>\n      <td>11</td>\n      <td>27.272727</td>\n      <td>9.090909</td>\n      <td>...</td>\n      <td>9.090909</td>\n      <td>11</td>\n      <td>3.090909</td>\n      <td>1.000000</td>\n      <td>9.090909</td>\n      <td>1</td>\n      <td>0</td>\n      <td>0.000000</td>\n      <td>1</td>\n      <td>0</td>\n    </tr>\n    <tr>\n      <th>4</th>\n      <td>जयपुर</td>\n      <td>0</td>\n      <td>0</td>\n      <td>0</td>\n      <td>0</td>\n      <td>0</td>\n      <td>0</td>\n      <td>1</td>\n      <td>0.000000</td>\n      <td>0.000000</td>\n      <td>...</td>\n      <td>0.000000</td>\n      <td>1</td>\n      <td>5.000000</td>\n      <td>1.000000</td>\n      <td>0.000000</td>\n      <td>0</td>\n      <td>0</td>\n      <td>0.000000</td>\n      <td>0</td>\n      <td>0</td>\n    </tr>\n  </tbody>\n</table>\n<p>5 rows × 21 columns</p>\n</div>"
          },
          "metadata": {}
        }
      ]
    },
    {
      "cell_type": "code",
      "source": [
        "df.to_csv('my_dataframe.csv', encoding = 'utf-8',index=False)"
      ],
      "metadata": {
        "execution": {
          "iopub.status.busy": "2024-06-28T17:37:06.100756Z",
          "iopub.execute_input": "2024-06-28T17:37:06.101058Z",
          "iopub.status.idle": "2024-06-28T17:37:06.957857Z",
          "shell.execute_reply.started": "2024-06-28T17:37:06.101031Z",
          "shell.execute_reply": "2024-06-28T17:37:06.956936Z"
        },
        "trusted": true,
        "id": "VHvfwvv2Rkt-"
      },
      "execution_count": null,
      "outputs": []
    },
    {
      "cell_type": "code",
      "source": [
        "df.head()"
      ],
      "metadata": {
        "execution": {
          "iopub.status.busy": "2024-06-28T17:37:06.958932Z",
          "iopub.execute_input": "2024-06-28T17:37:06.959217Z",
          "iopub.status.idle": "2024-06-28T17:37:06.982179Z",
          "shell.execute_reply.started": "2024-06-28T17:37:06.959192Z",
          "shell.execute_reply": "2024-06-28T17:37:06.981096Z"
        },
        "trusted": true,
        "id": "mKXjYXy1Rkt-",
        "outputId": "7ce5f747-4a53-47c1-dd0c-e0850ec6686d"
      },
      "execution_count": null,
      "outputs": [
        {
          "execution_count": 17,
          "output_type": "execute_result",
          "data": {
            "text/plain": "                                               texts  label  parse_tree_depth  \\\n0  अमेरिकी और रूसी पुलिस के संयुक्त अभियान के फलस...      0                 2   \n1  आज यहां रांची एक्सप्रेस के साथ बातचीत में वित्...      0                 2   \n2                                   हमे इन्तजार है ।      1                 1   \n3       जिस के नतीजे मे ये हुक्म सादिर किया गया है ।      1                 2   \n4                                              जयपुर      0                 0   \n\n   noun_count_hi  verb_count_hi  adverb_count_hi  pronoun_count_hi  \\\n0              7              2                0                 0   \n1              2              1                0                 1   \n2              1              0                0                 1   \n3              3              1                0                 1   \n4              0              0                0                 0   \n\n   total_words_hi  noun_percentage_hi  verb_percentage_hi  ...  \\\n0              28           25.000000            7.142857  ...   \n1              13           15.384615            7.692308  ...   \n2               4           25.000000            0.000000  ...   \n3              11           27.272727            9.090909  ...   \n4               1            0.000000            0.000000  ...   \n\n   pronoun_percentage_hi  words_per_sent  avg_characters_per_word  \\\n0               0.000000              27                 4.407407   \n1               7.692308              13                 4.615385   \n2              25.000000               4                 3.250000   \n3               9.090909              11                 3.090909   \n4               0.000000               1                 5.000000   \n\n   token_type_ratio  case_marker_perc  case_marker_count  conjunction_count  \\\n0          0.857143         14.814815                  4                  3   \n1          1.000000         23.076923                  3                  1   \n2          1.000000          0.000000                  0                  0   \n3          1.000000          9.090909                  1                  0   \n4          1.000000          0.000000                  0                  0   \n\n   conjunctions_percentage  hesitation_markers  wh_question_count  \n0                11.111111                   2                  0  \n1                 7.692308                   0                  0  \n2                 0.000000                   1                  0  \n3                 0.000000                   1                  0  \n4                 0.000000                   0                  0  \n\n[5 rows x 21 columns]",
            "text/html": "<div>\n<style scoped>\n    .dataframe tbody tr th:only-of-type {\n        vertical-align: middle;\n    }\n\n    .dataframe tbody tr th {\n        vertical-align: top;\n    }\n\n    .dataframe thead th {\n        text-align: right;\n    }\n</style>\n<table border=\"1\" class=\"dataframe\">\n  <thead>\n    <tr style=\"text-align: right;\">\n      <th></th>\n      <th>texts</th>\n      <th>label</th>\n      <th>parse_tree_depth</th>\n      <th>noun_count_hi</th>\n      <th>verb_count_hi</th>\n      <th>adverb_count_hi</th>\n      <th>pronoun_count_hi</th>\n      <th>total_words_hi</th>\n      <th>noun_percentage_hi</th>\n      <th>verb_percentage_hi</th>\n      <th>...</th>\n      <th>pronoun_percentage_hi</th>\n      <th>words_per_sent</th>\n      <th>avg_characters_per_word</th>\n      <th>token_type_ratio</th>\n      <th>case_marker_perc</th>\n      <th>case_marker_count</th>\n      <th>conjunction_count</th>\n      <th>conjunctions_percentage</th>\n      <th>hesitation_markers</th>\n      <th>wh_question_count</th>\n    </tr>\n  </thead>\n  <tbody>\n    <tr>\n      <th>0</th>\n      <td>अमेरिकी और रूसी पुलिस के संयुक्त अभियान के फलस...</td>\n      <td>0</td>\n      <td>2</td>\n      <td>7</td>\n      <td>2</td>\n      <td>0</td>\n      <td>0</td>\n      <td>28</td>\n      <td>25.000000</td>\n      <td>7.142857</td>\n      <td>...</td>\n      <td>0.000000</td>\n      <td>27</td>\n      <td>4.407407</td>\n      <td>0.857143</td>\n      <td>14.814815</td>\n      <td>4</td>\n      <td>3</td>\n      <td>11.111111</td>\n      <td>2</td>\n      <td>0</td>\n    </tr>\n    <tr>\n      <th>1</th>\n      <td>आज यहां रांची एक्सप्रेस के साथ बातचीत में वित्...</td>\n      <td>0</td>\n      <td>2</td>\n      <td>2</td>\n      <td>1</td>\n      <td>0</td>\n      <td>1</td>\n      <td>13</td>\n      <td>15.384615</td>\n      <td>7.692308</td>\n      <td>...</td>\n      <td>7.692308</td>\n      <td>13</td>\n      <td>4.615385</td>\n      <td>1.000000</td>\n      <td>23.076923</td>\n      <td>3</td>\n      <td>1</td>\n      <td>7.692308</td>\n      <td>0</td>\n      <td>0</td>\n    </tr>\n    <tr>\n      <th>2</th>\n      <td>हमे इन्तजार है ।</td>\n      <td>1</td>\n      <td>1</td>\n      <td>1</td>\n      <td>0</td>\n      <td>0</td>\n      <td>1</td>\n      <td>4</td>\n      <td>25.000000</td>\n      <td>0.000000</td>\n      <td>...</td>\n      <td>25.000000</td>\n      <td>4</td>\n      <td>3.250000</td>\n      <td>1.000000</td>\n      <td>0.000000</td>\n      <td>0</td>\n      <td>0</td>\n      <td>0.000000</td>\n      <td>1</td>\n      <td>0</td>\n    </tr>\n    <tr>\n      <th>3</th>\n      <td>जिस के नतीजे मे ये हुक्म सादिर किया गया है ।</td>\n      <td>1</td>\n      <td>2</td>\n      <td>3</td>\n      <td>1</td>\n      <td>0</td>\n      <td>1</td>\n      <td>11</td>\n      <td>27.272727</td>\n      <td>9.090909</td>\n      <td>...</td>\n      <td>9.090909</td>\n      <td>11</td>\n      <td>3.090909</td>\n      <td>1.000000</td>\n      <td>9.090909</td>\n      <td>1</td>\n      <td>0</td>\n      <td>0.000000</td>\n      <td>1</td>\n      <td>0</td>\n    </tr>\n    <tr>\n      <th>4</th>\n      <td>जयपुर</td>\n      <td>0</td>\n      <td>0</td>\n      <td>0</td>\n      <td>0</td>\n      <td>0</td>\n      <td>0</td>\n      <td>1</td>\n      <td>0.000000</td>\n      <td>0.000000</td>\n      <td>...</td>\n      <td>0.000000</td>\n      <td>1</td>\n      <td>5.000000</td>\n      <td>1.000000</td>\n      <td>0.000000</td>\n      <td>0</td>\n      <td>0</td>\n      <td>0.000000</td>\n      <td>0</td>\n      <td>0</td>\n    </tr>\n  </tbody>\n</table>\n<p>5 rows × 21 columns</p>\n</div>"
          },
          "metadata": {}
        }
      ]
    },
    {
      "cell_type": "code",
      "source": [],
      "metadata": {
        "id": "jN7sqf46Rkt_"
      },
      "execution_count": null,
      "outputs": []
    }
  ]
}