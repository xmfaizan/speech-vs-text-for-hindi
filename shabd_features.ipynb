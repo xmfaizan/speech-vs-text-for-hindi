{
  "metadata": {
    "kernelspec": {
      "language": "python",
      "display_name": "Python 3",
      "name": "python3"
    },
    "language_info": {
      "name": "python",
      "version": "3.10.13",
      "mimetype": "text/x-python",
      "codemirror_mode": {
        "name": "ipython",
        "version": 3
      },
      "pygments_lexer": "ipython3",
      "nbconvert_exporter": "python",
      "file_extension": ".py"
    },
    "kaggle": {
      "accelerator": "gpu",
      "dataSources": [
        {
          "sourceId": 8784850,
          "sourceType": "datasetVersion",
          "datasetId": 5281104
        }
      ],
      "dockerImageVersionId": 30747,
      "isInternetEnabled": true,
      "language": "python",
      "sourceType": "notebook",
      "isGpuEnabled": true
    },
    "colab": {
      "provenance": []
    }
  },
  "nbformat_minor": 0,
  "nbformat": 4,
  "cells": [
    {
      "cell_type": "code",
      "source": [
        "import pandas as pd\n",
        "df = pd.read_csv('/kaggle/input/gggsdsd/balanced.csv',encoding='utf-8')\n",
        "df.head()"
      ],
      "metadata": {
        "execution": {
          "iopub.status.busy": "2024-07-22T07:22:56.739804Z",
          "iopub.execute_input": "2024-07-22T07:22:56.740293Z",
          "iopub.status.idle": "2024-07-22T07:22:57.099073Z",
          "shell.execute_reply.started": "2024-07-22T07:22:56.740257Z",
          "shell.execute_reply": "2024-07-22T07:22:57.098154Z"
        },
        "trusted": true,
        "id": "P_z6P1w4U76_",
        "outputId": "9bbef648-5d26-489a-c713-5046ab539498"
      },
      "execution_count": null,
      "outputs": [
        {
          "execution_count": 2,
          "output_type": "execute_result",
          "data": {
            "text/plain": "                                               texts  label\n0  अमेरिकी और रूसी पुलिस के संयुक्त अभियान के फलस...      0\n1  आज यहां रांची एक्सप्रेस के साथ बातचीत में वित्...      0\n2                                   हमे इन्तजार है ।      1\n3       जिस के नतीजे मे ये हुक्म सादिर किया गया है ।      1\n4                                              जयपुर      0",
            "text/html": "<div>\n<style scoped>\n    .dataframe tbody tr th:only-of-type {\n        vertical-align: middle;\n    }\n\n    .dataframe tbody tr th {\n        vertical-align: top;\n    }\n\n    .dataframe thead th {\n        text-align: right;\n    }\n</style>\n<table border=\"1\" class=\"dataframe\">\n  <thead>\n    <tr style=\"text-align: right;\">\n      <th></th>\n      <th>texts</th>\n      <th>label</th>\n    </tr>\n  </thead>\n  <tbody>\n    <tr>\n      <th>0</th>\n      <td>अमेरिकी और रूसी पुलिस के संयुक्त अभियान के फलस...</td>\n      <td>0</td>\n    </tr>\n    <tr>\n      <th>1</th>\n      <td>आज यहां रांची एक्सप्रेस के साथ बातचीत में वित्...</td>\n      <td>0</td>\n    </tr>\n    <tr>\n      <th>2</th>\n      <td>हमे इन्तजार है ।</td>\n      <td>1</td>\n    </tr>\n    <tr>\n      <th>3</th>\n      <td>जिस के नतीजे मे ये हुक्म सादिर किया गया है ।</td>\n      <td>1</td>\n    </tr>\n    <tr>\n      <th>4</th>\n      <td>जयपुर</td>\n      <td>0</td>\n    </tr>\n  </tbody>\n</table>\n</div>"
          },
          "metadata": {}
        }
      ]
    },
    {
      "cell_type": "code",
      "source": [
        "df = df[df['texts'].apply(lambda x: isinstance(x, str))]"
      ],
      "metadata": {
        "execution": {
          "iopub.status.busy": "2024-07-22T07:22:57.100401Z",
          "iopub.execute_input": "2024-07-22T07:22:57.100715Z",
          "iopub.status.idle": "2024-07-22T07:22:57.119087Z",
          "shell.execute_reply.started": "2024-07-22T07:22:57.10069Z",
          "shell.execute_reply": "2024-07-22T07:22:57.118024Z"
        },
        "trusted": true,
        "id": "jDJxavlZU77A"
      },
      "execution_count": null,
      "outputs": []
    },
    {
      "cell_type": "code",
      "source": [
        "import pandas as pd\n",
        "import re\n",
        "\n",
        "# Define sets of characters for different linguistic categories\n",
        "vowels = set('\\u0904\\u0905\\u0906\\u0907\\u0908\\u0909\\u090A\\u090B\\u090C\\u090D\\u090E\\u090F\\u0910\\u0911\\u0912\\u0913\\u0914')\n",
        "consonants = set('\\u0915\\u0916\\u0917\\u0918\\u0919\\u091A\\u091B\\u091C\\u091D\\u091E\\u091F\\u0920\\u0921\\u0922\\u0923\\u0924\\u0925\\u0926\\u0927\\u0928\\u092A\\u092B\\u092C\\u092D\\u092E\\u092F\\u0930\\u0932\\u0933\\u0935\\u0936\\u0937\\u0938\\u0939')\n",
        "matras = set('\\u093A\\u093B\\u093C\\u093D\\u093E\\u093F\\u0940\\u0941\\u0942\\u0943\\u0944\\u0945\\u0946\\u0947\\u0948\\u0949\\u094A\\u094B\\u094C')\n",
        "nukta = '\\u093C'\n",
        "virama = '\\u094D'\n",
        "anusvara = '\\u0902'\n",
        "visarga = '\\u0903'\n",
        "\n",
        "def count_linguistic_features(word):\n",
        "    akshara_count = 0\n",
        "    matra_count = 0\n",
        "    phoneme_count = 0\n",
        "    syllable_count = 0\n",
        "\n",
        "    i = 0\n",
        "    while i < len(word):\n",
        "        char = word[i]\n",
        "\n",
        "        if char in vowels:\n",
        "            phoneme_count += 1\n",
        "            syllable_count += 1\n",
        "            akshara_count += 1\n",
        "        elif char in consonants:\n",
        "            akshara_count += 1\n",
        "            phoneme_count += 1\n",
        "\n",
        "            # Check for conjuncts\n",
        "            if i + 1 < len(word) and word[i+1] == virama:\n",
        "                i += 1  # Skip the virama\n",
        "                if i + 1 < len(word) and word[i+1] in consonants:\n",
        "                    i += 1  # Move to the next consonant\n",
        "                    phoneme_count += 1  # Count the conjunct as one additional phoneme\n",
        "            else:\n",
        "                syllable_count += 1\n",
        "\n",
        "            # Check for following matra\n",
        "            if i + 1 < len(word) and word[i+1] in matras:\n",
        "                i += 1\n",
        "                matra_count += 1\n",
        "                phoneme_count += 1\n",
        "        elif char in matras:\n",
        "            matra_count += 1\n",
        "            phoneme_count += 1\n",
        "            syllable_count += 1\n",
        "        elif char == anusvara or char == visarga:\n",
        "            phoneme_count += 1\n",
        "        elif char == nukta:\n",
        "            # Nukta modifies the previous consonant, doesn't add a new phoneme\n",
        "            pass\n",
        "\n",
        "        i += 1\n",
        "\n",
        "    return akshara_count, matra_count, phoneme_count, syllable_count\n",
        "\n",
        "def average_linguistic_features_per_word(sentence):\n",
        "    if pd.isna(sentence) or not isinstance(sentence, str):\n",
        "        return 0, 0, 0, 0, 0\n",
        "    words = sentence.split()\n",
        "    if not words:\n",
        "        return 0, 0, 0, 0, 0\n",
        "\n",
        "    total_aksharas = 0\n",
        "    total_matras = 0\n",
        "    total_phonemes = 0\n",
        "    total_syllables = 0\n",
        "\n",
        "    for word in words:\n",
        "        aksharas, matras, phonemes, syllables = count_linguistic_features(word)\n",
        "        total_aksharas += aksharas\n",
        "        total_matras += matras\n",
        "        total_phonemes += phonemes\n",
        "        total_syllables += syllables\n",
        "\n",
        "    word_count = len(words)\n",
        "    avg_aksharas = total_aksharas / word_count\n",
        "    avg_matras = total_matras / word_count\n",
        "    avg_phonemes = total_phonemes / word_count\n",
        "    avg_syllables = total_syllables / word_count\n",
        "\n",
        "    return avg_aksharas, avg_matras, avg_aksharas + avg_matras, avg_phonemes, avg_syllables\n",
        "\n",
        "# Apply the function to create all five columns at once\n",
        "df[['nAksh', 'nMatra', 'AMCount', 'nPhen', 'nSyll']] = df['texts'].apply(lambda x: pd.Series(average_linguistic_features_per_word(x)))"
      ],
      "metadata": {
        "execution": {
          "iopub.status.busy": "2024-07-22T07:22:57.121995Z",
          "iopub.execute_input": "2024-07-22T07:22:57.122318Z",
          "iopub.status.idle": "2024-07-22T07:23:05.05639Z",
          "shell.execute_reply.started": "2024-07-22T07:22:57.122295Z",
          "shell.execute_reply": "2024-07-22T07:23:05.055583Z"
        },
        "trusted": true,
        "id": "k-XPGtXpU77A"
      },
      "execution_count": null,
      "outputs": []
    },
    {
      "cell_type": "code",
      "source": [
        "df.head()"
      ],
      "metadata": {
        "execution": {
          "iopub.status.busy": "2024-07-22T07:23:05.057394Z",
          "iopub.execute_input": "2024-07-22T07:23:05.057677Z",
          "iopub.status.idle": "2024-07-22T07:23:05.07248Z",
          "shell.execute_reply.started": "2024-07-22T07:23:05.05765Z",
          "shell.execute_reply": "2024-07-22T07:23:05.071349Z"
        },
        "trusted": true,
        "id": "WkpSxONFU77C",
        "outputId": "448fb60b-1063-4b66-a73e-55c17169b604"
      },
      "execution_count": null,
      "outputs": [
        {
          "execution_count": 5,
          "output_type": "execute_result",
          "data": {
            "text/plain": "                                               texts  label     nAksh  \\\n0  अमेरिकी और रूसी पुलिस के संयुक्त अभियान के फलस...      0  2.481481   \n1  आज यहां रांची एक्सप्रेस के साथ बातचीत में वित्...      0  2.307692   \n2                                   हमे इन्तजार है ।      1  1.750000   \n3       जिस के नतीजे मे ये हुक्म सादिर किया गया है ।      1  1.636364   \n4                                              जयपुर      0  4.000000   \n\n     nMatra   AMCount     nPhen     nSyll  \n0  1.407407  3.888889  4.185185  2.333333  \n1  1.230769  3.538462  4.230769  1.923077  \n2  0.750000  2.500000  2.750000  1.500000  \n3  1.181818  2.818182  2.909091  1.545455  \n4  1.000000  5.000000  5.000000  4.000000  ",
            "text/html": "<div>\n<style scoped>\n    .dataframe tbody tr th:only-of-type {\n        vertical-align: middle;\n    }\n\n    .dataframe tbody tr th {\n        vertical-align: top;\n    }\n\n    .dataframe thead th {\n        text-align: right;\n    }\n</style>\n<table border=\"1\" class=\"dataframe\">\n  <thead>\n    <tr style=\"text-align: right;\">\n      <th></th>\n      <th>texts</th>\n      <th>label</th>\n      <th>nAksh</th>\n      <th>nMatra</th>\n      <th>AMCount</th>\n      <th>nPhen</th>\n      <th>nSyll</th>\n    </tr>\n  </thead>\n  <tbody>\n    <tr>\n      <th>0</th>\n      <td>अमेरिकी और रूसी पुलिस के संयुक्त अभियान के फलस...</td>\n      <td>0</td>\n      <td>2.481481</td>\n      <td>1.407407</td>\n      <td>3.888889</td>\n      <td>4.185185</td>\n      <td>2.333333</td>\n    </tr>\n    <tr>\n      <th>1</th>\n      <td>आज यहां रांची एक्सप्रेस के साथ बातचीत में वित्...</td>\n      <td>0</td>\n      <td>2.307692</td>\n      <td>1.230769</td>\n      <td>3.538462</td>\n      <td>4.230769</td>\n      <td>1.923077</td>\n    </tr>\n    <tr>\n      <th>2</th>\n      <td>हमे इन्तजार है ।</td>\n      <td>1</td>\n      <td>1.750000</td>\n      <td>0.750000</td>\n      <td>2.500000</td>\n      <td>2.750000</td>\n      <td>1.500000</td>\n    </tr>\n    <tr>\n      <th>3</th>\n      <td>जिस के नतीजे मे ये हुक्म सादिर किया गया है ।</td>\n      <td>1</td>\n      <td>1.636364</td>\n      <td>1.181818</td>\n      <td>2.818182</td>\n      <td>2.909091</td>\n      <td>1.545455</td>\n    </tr>\n    <tr>\n      <th>4</th>\n      <td>जयपुर</td>\n      <td>0</td>\n      <td>4.000000</td>\n      <td>1.000000</td>\n      <td>5.000000</td>\n      <td>5.000000</td>\n      <td>4.000000</td>\n    </tr>\n  </tbody>\n</table>\n</div>"
          },
          "metadata": {}
        }
      ]
    },
    {
      "cell_type": "code",
      "source": [
        "hindi_word_freq = {\n",
        "}"
      ],
      "metadata": {
        "execution": {
          "iopub.status.busy": "2024-07-22T07:23:05.073561Z",
          "iopub.execute_input": "2024-07-22T07:23:05.073831Z",
          "iopub.status.idle": "2024-07-22T07:23:05.083953Z",
          "shell.execute_reply.started": "2024-07-22T07:23:05.073809Z",
          "shell.execute_reply": "2024-07-22T07:23:05.083184Z"
        },
        "trusted": true,
        "id": "q5_hA4l0U77C"
      },
      "execution_count": null,
      "outputs": []
    },
    {
      "cell_type": "code",
      "source": [
        "def calculate_awf(sentence):\n",
        "    if pd.isna(sentence) or not isinstance(sentence, str):\n",
        "        return 0\n",
        "\n",
        "    # Remove any non-Hindi characters and split into words\n",
        "    words = re.findall(r'[\\u0900-\\u097F]+', sentence)\n",
        "\n",
        "    if not words:\n",
        "        return 0\n",
        "\n",
        "    total_freq = 0\n",
        "    word_count = 0\n",
        "\n",
        "    for word in words:\n",
        "        if word in hindi_word_freq:\n",
        "            total_freq += hindi_word_freq[word]\n",
        "            word_count += 1\n",
        "\n",
        "    # If none of the words were found in our frequency dictionary\n",
        "    if word_count == 0:\n",
        "        return 0\n",
        "\n",
        "    return total_freq / word_count\n",
        "\n",
        "# Apply the function to create the new 'awf' column\n",
        "df['awf'] = df['texts'].apply(calculate_awf)"
      ],
      "metadata": {
        "execution": {
          "iopub.status.busy": "2024-07-22T07:23:05.085184Z",
          "iopub.execute_input": "2024-07-22T07:23:05.085478Z",
          "iopub.status.idle": "2024-07-22T07:23:05.552821Z",
          "shell.execute_reply.started": "2024-07-22T07:23:05.085453Z",
          "shell.execute_reply": "2024-07-22T07:23:05.551979Z"
        },
        "trusted": true,
        "id": "_4951sy2U77D"
      },
      "execution_count": null,
      "outputs": []
    },
    {
      "cell_type": "code",
      "source": [
        "from sklearn.preprocessing import StandardScaler\n",
        "from sklearn.linear_model import LogisticRegression\n",
        "from sklearn.metrics import classification_report, accuracy_score"
      ],
      "metadata": {
        "execution": {
          "iopub.status.busy": "2024-07-22T07:23:05.553975Z",
          "iopub.execute_input": "2024-07-22T07:23:05.55454Z",
          "iopub.status.idle": "2024-07-22T07:23:06.14948Z",
          "shell.execute_reply.started": "2024-07-22T07:23:05.554507Z",
          "shell.execute_reply": "2024-07-22T07:23:06.148635Z"
        },
        "trusted": true,
        "id": "L3_LpQ1QU77D"
      },
      "execution_count": null,
      "outputs": []
    },
    {
      "cell_type": "code",
      "source": [
        "# Separate features and target\n",
        "X = df.drop('label', axis=1)\n",
        "X = X.drop('texts', axis=1)\n",
        "y = df['label']"
      ],
      "metadata": {
        "execution": {
          "iopub.status.busy": "2024-07-22T07:23:06.150566Z",
          "iopub.execute_input": "2024-07-22T07:23:06.150883Z",
          "iopub.status.idle": "2024-07-22T07:23:06.165668Z",
          "shell.execute_reply.started": "2024-07-22T07:23:06.150856Z",
          "shell.execute_reply": "2024-07-22T07:23:06.164811Z"
        },
        "trusted": true,
        "id": "lLZLIn3wU77F"
      },
      "execution_count": null,
      "outputs": []
    },
    {
      "cell_type": "code",
      "source": [
        "scaler = StandardScaler()\n",
        "X_scaled = scaler.fit_transform(X)"
      ],
      "metadata": {
        "execution": {
          "iopub.status.busy": "2024-07-22T07:23:06.168119Z",
          "iopub.execute_input": "2024-07-22T07:23:06.168429Z",
          "iopub.status.idle": "2024-07-22T07:23:06.180528Z",
          "shell.execute_reply.started": "2024-07-22T07:23:06.168404Z",
          "shell.execute_reply": "2024-07-22T07:23:06.179717Z"
        },
        "trusted": true,
        "id": "iDWypBiKU77F"
      },
      "execution_count": null,
      "outputs": []
    },
    {
      "cell_type": "code",
      "source": [
        "from sklearn.model_selection import train_test_split\n",
        "X_train, X_test, y_train, y_test = train_test_split(X_scaled, y, test_size=0.2, random_state=42)"
      ],
      "metadata": {
        "execution": {
          "iopub.status.busy": "2024-07-22T07:23:06.181514Z",
          "iopub.execute_input": "2024-07-22T07:23:06.181784Z",
          "iopub.status.idle": "2024-07-22T07:23:06.191932Z",
          "shell.execute_reply.started": "2024-07-22T07:23:06.181762Z",
          "shell.execute_reply": "2024-07-22T07:23:06.191057Z"
        },
        "trusted": true,
        "id": "qqr5C4thU77F"
      },
      "execution_count": null,
      "outputs": []
    },
    {
      "cell_type": "code",
      "source": [
        "logistic_regression = LogisticRegression(random_state=42)\n",
        "logistic_regression.fit(X_train, y_train)\n",
        "y_pred_logistic = logistic_regression.predict(X_test)\n",
        "accuracy_logistic = accuracy_score(y_test, y_pred_logistic)\n",
        "print(\"\\nLogistic Regression Accuracy:\", accuracy_logistic)\n",
        "print(\"\\nClassification Report:\")\n",
        "print(classification_report(y_test, y_pred_logistic))"
      ],
      "metadata": {
        "execution": {
          "iopub.status.busy": "2024-07-22T07:23:06.192919Z",
          "iopub.execute_input": "2024-07-22T07:23:06.193175Z",
          "iopub.status.idle": "2024-07-22T07:23:06.281906Z",
          "shell.execute_reply.started": "2024-07-22T07:23:06.193145Z",
          "shell.execute_reply": "2024-07-22T07:23:06.280782Z"
        },
        "trusted": true,
        "id": "5bCLUX8lU77G",
        "outputId": "4e9d69cd-7812-45c1-d07c-c0910d0c09f7"
      },
      "execution_count": null,
      "outputs": [
        {
          "name": "stdout",
          "text": "\nLogistic Regression Accuracy: 0.8082191780821918\n\nClassification Report:\n              precision    recall  f1-score   support\n\n           0       0.81      0.80      0.81      3826\n           1       0.81      0.81      0.81      3912\n\n    accuracy                           0.81      7738\n   macro avg       0.81      0.81      0.81      7738\nweighted avg       0.81      0.81      0.81      7738\n\n",
          "output_type": "stream"
        }
      ]
    },
    {
      "cell_type": "code",
      "source": [
        "coefficients = logistic_regression.coef_[0]\n",
        "feature_importance = pd.Series(coefficients, index=X.columns)\n",
        "\n",
        "# Get the absolute values of the coefficients to determine importance\n",
        "feature_importance = np.abs(feature_importance)\n",
        "feature_importance = feature_importance.sort_values(ascending=False)\n",
        "\n",
        "print(\"Feature Importance:\\n\", feature_importance)\n",
        "\n",
        "# Optionally, visualize the feature importance\n",
        "import matplotlib.pyplot as plt\n",
        "feature_importance.plot(kind='bar')\n",
        "plt.title('Feature Importance')\n",
        "plt.xlabel('Features')\n",
        "plt.ylabel('Absolute Coefficient Value')\n",
        "plt.show()"
      ],
      "metadata": {
        "execution": {
          "iopub.status.busy": "2024-07-22T07:23:06.283283Z",
          "iopub.execute_input": "2024-07-22T07:23:06.284234Z",
          "iopub.status.idle": "2024-07-22T07:23:06.551205Z",
          "shell.execute_reply.started": "2024-07-22T07:23:06.284179Z",
          "shell.execute_reply": "2024-07-22T07:23:06.550351Z"
        },
        "trusted": true,
        "id": "zEKI5sgSU77G",
        "outputId": "71004501-3c01-4875-d9a3-f45481e882db"
      },
      "execution_count": null,
      "outputs": [
        {
          "name": "stdout",
          "text": "Feature Importance:\n nPhen      4.990141\nnAksh      1.415892\nAMCount    1.396879\nnMatra     0.970360\nnSyll      0.622295\nawf        0.000000\ndtype: float64\n",
          "output_type": "stream"
        },
        {
          "output_type": "display_data",
          "data": {
            "text/plain": "<Figure size 640x480 with 1 Axes>",
            "image/png": "[encoded data removed]"
          },
          "metadata": {}
        }
      ]
    },
    {
      "cell_type": "code",
      "source": [
        "df.to_csv('shabd_features.csv', index=False)"
      ],
      "metadata": {
        "execution": {
          "iopub.status.busy": "2024-07-22T07:23:17.096949Z",
          "iopub.execute_input": "2024-07-22T07:23:17.097908Z",
          "iopub.status.idle": "2024-07-22T07:23:17.6648Z",
          "shell.execute_reply.started": "2024-07-22T07:23:17.097865Z",
          "shell.execute_reply": "2024-07-22T07:23:17.664042Z"
        },
        "trusted": true,
        "id": "MqlX5PZkU77H"
      },
      "execution_count": null,
      "outputs": []
    },
    {
      "cell_type": "code",
      "source": [],
      "metadata": {
        "id": "Yxp4AYavU77H"
      },
      "execution_count": null,
      "outputs": []
    }
  ]
}