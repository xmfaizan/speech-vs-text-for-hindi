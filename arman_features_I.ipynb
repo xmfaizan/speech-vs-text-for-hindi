{
  "metadata": {
    "kernelspec": {
      "language": "python",
      "display_name": "Python 3",
      "name": "python3"
    },
    "language_info": {
      "name": "python",
      "version": "3.10.14",
      "mimetype": "text/x-python",
      "codemirror_mode": {
        "name": "ipython",
        "version": 3
      },
      "pygments_lexer": "ipython3",
      "nbconvert_exporter": "python",
      "file_extension": ".py"
    },
    "kaggle": {
      "accelerator": "none",
      "dataSources": [
        {
          "sourceId": 8784850,
          "sourceType": "datasetVersion",
          "datasetId": 5281104
        }
      ],
      "dockerImageVersionId": 30747,
      "isInternetEnabled": true,
      "language": "python",
      "sourceType": "notebook",
      "isGpuEnabled": false
    },
    "colab": {
      "provenance": []
    }
  },
  "nbformat_minor": 0,
  "nbformat": 4,
  "cells": [
    {
      "cell_type": "code",
      "source": [
        "import pandas as pd\n",
        "df = pd.read_csv('/kaggle/input/gggsdsd/balanced.csv',encoding='utf-8')\n",
        "df.head()"
      ],
      "metadata": {
        "execution": {
          "iopub.status.busy": "2024-07-22T06:37:54.980591Z",
          "iopub.execute_input": "2024-07-22T06:37:54.980904Z",
          "iopub.status.idle": "2024-07-22T06:37:55.24373Z",
          "shell.execute_reply.started": "2024-07-22T06:37:54.980878Z",
          "shell.execute_reply": "2024-07-22T06:37:55.24311Z"
        },
        "trusted": true,
        "id": "TDwrSLjzVBj-",
        "outputId": "373a0a32-e903-4660-8cba-8219083c7b23"
      },
      "execution_count": null,
      "outputs": [
        {
          "execution_count": 3,
          "output_type": "execute_result",
          "data": {
            "text/plain": "                                               texts  label\n0  अमेरिकी और रूसी पुलिस के संयुक्त अभियान के फलस...      0\n1  आज यहां रांची एक्सप्रेस के साथ बातचीत में वित्...      0\n2                                   हमे इन्तजार है ।      1\n3       जिस के नतीजे मे ये हुक्म सादिर किया गया है ।      1\n4                                              जयपुर      0",
            "text/html": "<div>\n<style scoped>\n    .dataframe tbody tr th:only-of-type {\n        vertical-align: middle;\n    }\n\n    .dataframe tbody tr th {\n        vertical-align: top;\n    }\n\n    .dataframe thead th {\n        text-align: right;\n    }\n</style>\n<table border=\"1\" class=\"dataframe\">\n  <thead>\n    <tr style=\"text-align: right;\">\n      <th></th>\n      <th>texts</th>\n      <th>label</th>\n    </tr>\n  </thead>\n  <tbody>\n    <tr>\n      <th>0</th>\n      <td>अमेरिकी और रूसी पुलिस के संयुक्त अभियान के फलस...</td>\n      <td>0</td>\n    </tr>\n    <tr>\n      <th>1</th>\n      <td>आज यहां रांची एक्सप्रेस के साथ बातचीत में वित्...</td>\n      <td>0</td>\n    </tr>\n    <tr>\n      <th>2</th>\n      <td>हमे इन्तजार है ।</td>\n      <td>1</td>\n    </tr>\n    <tr>\n      <th>3</th>\n      <td>जिस के नतीजे मे ये हुक्म सादिर किया गया है ।</td>\n      <td>1</td>\n    </tr>\n    <tr>\n      <th>4</th>\n      <td>जयपुर</td>\n      <td>0</td>\n    </tr>\n  </tbody>\n</table>\n</div>"
          },
          "metadata": {}
        }
      ]
    },
    {
      "cell_type": "code",
      "source": [
        "df = df[df['texts'].apply(lambda x: isinstance(x, str))]"
      ],
      "metadata": {
        "execution": {
          "iopub.status.busy": "2024-07-22T06:37:55.244641Z",
          "iopub.execute_input": "2024-07-22T06:37:55.244886Z",
          "iopub.status.idle": "2024-07-22T06:37:55.25695Z",
          "shell.execute_reply.started": "2024-07-22T06:37:55.244861Z",
          "shell.execute_reply": "2024-07-22T06:37:55.256236Z"
        },
        "trusted": true,
        "id": "KR3WfewLVBj_"
      },
      "execution_count": null,
      "outputs": []
    },
    {
      "cell_type": "markdown",
      "source": [
        "Summary of Features\n",
        "\n",
        "    TTR (Type-Token Ratio)\n",
        "    Root TTR\n",
        "    Log TTR\n",
        "    Maas TTR\n",
        "    MSTTR (Mean Segmental TTR)\n",
        "    MATTR (Moving Average TTR)\n",
        "    HDD (Herdan's D)\n",
        "    MTLD (Measure of Textual Lexical Diversity)\n",
        "    MTLD MA\n",
        "    MTLD MA Bi\n",
        "    VocD (Vocabulary Density)\n",
        "    YulesK"
      ],
      "metadata": {
        "id": "Y-n_ggW9VBkA"
      }
    },
    {
      "cell_type": "code",
      "source": [
        "import pandas as pd\n",
        "import random\n",
        "import collections\n",
        "import numpy as np\n",
        "from scipy.optimize import curve_fit\n",
        "import math\n",
        "from indicnlp.tokenize import indic_tokenize\n",
        "\n",
        "class LexicalDiversity:\n",
        "    def __init__(self, text):\n",
        "        self.text = text\n",
        "        # Use Indic NLP tokenizer for Hindi\n",
        "        self.tokens = indic_tokenize.trivial_tokenize(self.text)\n",
        "\n",
        "    def lexical_diversity(self):\n",
        "        ttr = self.ttr(self.tokens)\n",
        "        root_ttr = self.root_ttr(self.tokens)\n",
        "        log_ttr = self.log_ttr(self.tokens)\n",
        "        maas_ttr = self.maas_ttr(self.tokens)\n",
        "        mtld = self.mtld(self.tokens)\n",
        "\n",
        "        # VOC-D measure\n",
        "        D_init = 0\n",
        "        for _ in range(3):\n",
        "            D_init = D_init + self.vocd(self.tokens)\n",
        "        D = D_init / 3\n",
        "\n",
        "        yulesK = self.get_yules(self.tokens)\n",
        "\n",
        "        return {\n",
        "            \"TTR\": ttr,\n",
        "            \"Root TTR\": root_ttr,\n",
        "            \"Log TTR\": log_ttr,\n",
        "            \"Maas TTR\": maas_ttr,\n",
        "            \"MTLD\": mtld,\n",
        "            \"VocD\": D,\n",
        "            \"YulesK\": yulesK,\n",
        "        }\n",
        "\n",
        "    def ttr(self, tokens):\n",
        "        return len(set(tokens)) / len(tokens) if tokens else 0\n",
        "\n",
        "    def root_ttr(self, tokens):\n",
        "        return len(set(tokens)) / math.sqrt(len(tokens)) if tokens else 0\n",
        "\n",
        "    def log_ttr(self, tokens):\n",
        "        return math.log(len(set(tokens))) / math.log(len(tokens)) if tokens and len(tokens) > 1 else 0\n",
        "\n",
        "    def maas_ttr(self, tokens):\n",
        "        return (math.log(len(tokens)) - math.log(len(set(tokens)))) / math.log(len(tokens)) ** 2 if tokens and len(tokens) > 1 else 0\n",
        "\n",
        "    def mtld(self, tokens, factor_size=0.72):\n",
        "        def factor_count(tokens, ttr):\n",
        "            factors = 0\n",
        "            factor_len = 0\n",
        "            types = set()\n",
        "            for token in tokens:\n",
        "                factor_len += 1\n",
        "                types.add(token)\n",
        "                if len(types) / factor_len <= ttr:\n",
        "                    factors += 1\n",
        "                    factor_len = 0\n",
        "                    types = set()\n",
        "            return factors + (factor_len / len(tokens))\n",
        "\n",
        "        if len(tokens) < 2:\n",
        "            return 0\n",
        "        forward = factor_count(tokens, factor_size)\n",
        "        backward = factor_count(tokens[::-1], factor_size)\n",
        "        return len(tokens) / ((forward + backward) / 2)\n",
        "\n",
        "    def vocd(self, tokens):\n",
        "        try:\n",
        "            average_ttr = []\n",
        "            for sample in range(35, 51):\n",
        "                ttr_ = []\n",
        "                for _ in range(100):\n",
        "                    sampleTokens = random.sample(tokens, min(sample, len(tokens)))\n",
        "                    tt = self.ttr(sampleTokens)\n",
        "                    ttr_.append(tt)\n",
        "                avg = np.mean(ttr_)\n",
        "                average_ttr.append(avg)\n",
        "            N = [x for x in range(35, 51)]\n",
        "            popt, _ = curve_fit(self.func, N, average_ttr)\n",
        "            return popt[0]\n",
        "        except:\n",
        "            return 0\n",
        "\n",
        "    def func(self, n, d):\n",
        "        ttrr = (d / n) * (np.sqrt(1 + 2 * (n / d)) - 1)\n",
        "        return ttrr\n",
        "\n",
        "    def get_yules(self, tokens):\n",
        "        if len(tokens) < 2:\n",
        "            return 0\n",
        "        token_counter = collections.Counter(tok for tok in tokens)\n",
        "        m1 = sum(token_counter.values())\n",
        "        m2 = sum([freq**2 for freq in token_counter.values()])\n",
        "        if m2 == m1:\n",
        "            return 0  # All tokens are unique\n",
        "        i = (m1 * m1) / (m2 - m1)\n",
        "        k = 1 / i * 10000\n",
        "        return k\n",
        "\n",
        "def calculate_features(text):\n",
        "    ld_obj = LexicalDiversity(text)\n",
        "    return ld_obj.lexical_diversity()\n",
        "\n",
        "\n",
        "# Apply the function to each text in the DataFrame\n",
        "features_df = df['texts'].apply(calculate_features).apply(pd.Series)\n",
        "\n",
        "# Concatenate the new features with the original DataFrame\n",
        "df = pd.concat([df, features_df], axis=1)\n",
        "df.head()\n",
        "\n",
        "# Save the updated DataFrame\n",
        "df.to_csv('lexical_features.csv', index=False)\n"
      ],
      "metadata": {
        "execution": {
          "iopub.status.busy": "2024-07-22T06:38:02.782263Z",
          "iopub.execute_input": "2024-07-22T06:38:02.782543Z",
          "iopub.status.idle": "2024-07-22T07:20:39.65384Z",
          "shell.execute_reply.started": "2024-07-22T06:38:02.782515Z",
          "shell.execute_reply": "2024-07-22T07:20:39.652798Z"
        },
        "trusted": true,
        "id": "D0y0tMexVBkB"
      },
      "execution_count": null,
      "outputs": []
    },
    {
      "cell_type": "code",
      "source": [
        "from sklearn.preprocessing import StandardScaler\n",
        "from sklearn.linear_model import LogisticRegression\n",
        "from sklearn.metrics import classification_report, accuracy_score"
      ],
      "metadata": {
        "execution": {
          "iopub.status.busy": "2024-07-22T07:20:39.655001Z",
          "iopub.execute_input": "2024-07-22T07:20:39.655285Z",
          "iopub.status.idle": "2024-07-22T07:20:40.573599Z",
          "shell.execute_reply.started": "2024-07-22T07:20:39.655261Z",
          "shell.execute_reply": "2024-07-22T07:20:40.572655Z"
        },
        "trusted": true,
        "id": "Jx_1jrR-VBkB"
      },
      "execution_count": null,
      "outputs": []
    },
    {
      "cell_type": "code",
      "source": [
        "# Separate features and target\n",
        "X = df.drop('label', axis=1)\n",
        "X = X.drop('texts', axis=1)\n",
        "y = df['label']"
      ],
      "metadata": {
        "execution": {
          "iopub.status.busy": "2024-07-22T07:21:43.102658Z",
          "iopub.execute_input": "2024-07-22T07:21:43.103782Z",
          "iopub.status.idle": "2024-07-22T07:21:43.112297Z",
          "shell.execute_reply.started": "2024-07-22T07:21:43.103739Z",
          "shell.execute_reply": "2024-07-22T07:21:43.111396Z"
        },
        "trusted": true,
        "id": "Y2M3eXa5VBkC"
      },
      "execution_count": null,
      "outputs": []
    },
    {
      "cell_type": "code",
      "source": [
        "scaler = StandardScaler()\n",
        "X_scaled = scaler.fit_transform(X)"
      ],
      "metadata": {
        "execution": {
          "iopub.status.busy": "2024-07-22T07:21:44.593261Z",
          "iopub.execute_input": "2024-07-22T07:21:44.593609Z",
          "iopub.status.idle": "2024-07-22T07:21:44.602345Z",
          "shell.execute_reply.started": "2024-07-22T07:21:44.59358Z",
          "shell.execute_reply": "2024-07-22T07:21:44.601608Z"
        },
        "trusted": true,
        "id": "ts5jHh1kVBkC"
      },
      "execution_count": null,
      "outputs": []
    },
    {
      "cell_type": "code",
      "source": [
        "from sklearn.model_selection import train_test_split\n",
        "X_train, X_test, y_train, y_test = train_test_split(X_scaled, y, test_size=0.2, random_state=42)"
      ],
      "metadata": {
        "execution": {
          "iopub.status.busy": "2024-07-22T07:21:45.96838Z",
          "iopub.execute_input": "2024-07-22T07:21:45.968715Z",
          "iopub.status.idle": "2024-07-22T07:21:45.977519Z",
          "shell.execute_reply.started": "2024-07-22T07:21:45.968689Z",
          "shell.execute_reply": "2024-07-22T07:21:45.976705Z"
        },
        "trusted": true,
        "id": "Rg1mmOfyVBkD"
      },
      "execution_count": null,
      "outputs": []
    },
    {
      "cell_type": "code",
      "source": [
        "logistic_regression = LogisticRegression(random_state=42)\n",
        "logistic_regression.fit(X_train, y_train)\n",
        "y_pred_logistic = logistic_regression.predict(X_test)\n",
        "accuracy_logistic = accuracy_score(y_test, y_pred_logistic)\n",
        "print(\"\\nLogistic Regression Accuracy:\", accuracy_logistic)\n",
        "print(\"\\nClassification Report:\")\n",
        "print(classification_report(y_test, y_pred_logistic))"
      ],
      "metadata": {
        "execution": {
          "iopub.status.busy": "2024-07-22T07:21:51.641941Z",
          "iopub.execute_input": "2024-07-22T07:21:51.642274Z",
          "iopub.status.idle": "2024-07-22T07:21:51.769075Z",
          "shell.execute_reply.started": "2024-07-22T07:21:51.642246Z",
          "shell.execute_reply": "2024-07-22T07:21:51.767399Z"
        },
        "trusted": true,
        "id": "LpqSSclyVBkD",
        "outputId": "75cd1960-4277-4976-a8d9-6c921f22c96c"
      },
      "execution_count": null,
      "outputs": [
        {
          "name": "stdout",
          "text": "\nLogistic Regression Accuracy: 0.6770483329025588\n\nClassification Report:\n              precision    recall  f1-score   support\n\n           0       0.66      0.73      0.69      3826\n           1       0.70      0.63      0.66      3912\n\n    accuracy                           0.68      7738\n   macro avg       0.68      0.68      0.68      7738\nweighted avg       0.68      0.68      0.68      7738\n\n",
          "output_type": "stream"
        }
      ]
    },
    {
      "cell_type": "code",
      "source": [
        "coefficients = logistic_regression.coef_[0]\n",
        "feature_importance = pd.Series(coefficients, index=X.columns)\n",
        "\n",
        "# Get the absolute values of the coefficients to determine importance\n",
        "feature_importance = np.abs(feature_importance)\n",
        "feature_importance = feature_importance.sort_values(ascending=False)\n",
        "\n",
        "print(\"Feature Importance:\\n\", feature_importance)\n",
        "\n",
        "# Optionally, visualize the feature importance\n",
        "import matplotlib.pyplot as plt\n",
        "feature_importance.plot(kind='bar')\n",
        "plt.title('Feature Importance')\n",
        "plt.xlabel('Features')\n",
        "plt.ylabel('Absolute Coefficient Value')\n",
        "plt.show()"
      ],
      "metadata": {
        "execution": {
          "iopub.status.busy": "2024-07-22T07:21:58.233606Z",
          "iopub.execute_input": "2024-07-22T07:21:58.233926Z",
          "iopub.status.idle": "2024-07-22T07:21:59.511164Z",
          "shell.execute_reply.started": "2024-07-22T07:21:58.233899Z",
          "shell.execute_reply": "2024-07-22T07:21:59.510026Z"
        },
        "trusted": true,
        "id": "qW37_KMAVBkE",
        "outputId": "fac7211f-c45d-4749-fc57-27508e338291"
      },
      "execution_count": null,
      "outputs": [
        {
          "name": "stdout",
          "text": "Feature Importance:\n Root TTR    1.352527\nTTR         1.059537\nMTLD        0.556072\nMaas TTR    0.528135\nYulesK      0.491670\nVocD        0.218089\nLog TTR     0.016326\ndtype: float64\n",
          "output_type": "stream"
        },
        {
          "output_type": "display_data",
          "data": {
            "text/plain": "<Figure size 640x480 with 1 Axes>",
            "image/png": "[encoded data removed]"
          },
          "metadata": {}
        }
      ]
    },
    {
      "cell_type": "code",
      "source": [],
      "metadata": {
        "id": "Qsyqn7FUVBkF"
      },
      "execution_count": null,
      "outputs": []
    }
  ]
}