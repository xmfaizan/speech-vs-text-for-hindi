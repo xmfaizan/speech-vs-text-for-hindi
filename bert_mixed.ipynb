{
  "metadata": {
    "kernelspec": {
      "language": "python",
      "display_name": "Python 3",
      "name": "python3"
    },
    "language_info": {
      "name": "python",
      "version": "3.10.13",
      "mimetype": "text/x-python",
      "codemirror_mode": {
        "name": "ipython",
        "version": 3
      },
      "pygments_lexer": "ipython3",
      "nbconvert_exporter": "python",
      "file_extension": ".py"
    },
    "kaggle": {
      "accelerator": "none",
      "dataSources": [
        {
          "sourceId": 8747350,
          "sourceType": "datasetVersion",
          "datasetId": 5253050
        }
      ],
      "dockerImageVersionId": 30733,
      "isInternetEnabled": true,
      "language": "python",
      "sourceType": "notebook",
      "isGpuEnabled": false
    },
    "colab": {
      "provenance": []
    }
  },
  "nbformat_minor": 0,
  "nbformat": 4,
  "cells": [
    {
      "source": [
        "\n",
        "# IMPORTANT: RUN THIS CELL IN ORDER TO IMPORT YOUR KAGGLE DATA SOURCES\n",
        "# TO THE CORRECT LOCATION (/kaggle/input) IN YOUR NOTEBOOK,\n",
        "# THEN FEEL FREE TO DELETE THIS CELL.\n",
        "# NOTE: THIS NOTEBOOK ENVIRONMENT DIFFERS FROM KAGGLE'S PYTHON\n",
        "# ENVIRONMENT SO THERE MAY BE MISSING LIBRARIES USED BY YOUR\n",
        "# NOTEBOOK.\n",
        "\n",
        "import os\n",
        "import sys\n",
        "from tempfile import NamedTemporaryFile\n",
        "from urllib.request import urlopen\n",
        "from urllib.parse import unquote, urlparse\n",
        "from urllib.error import HTTPError\n",
        "from zipfile import ZipFile\n",
        "import tarfile\n",
        "import shutil\n",
        "\n",
        "CHUNK_SIZE = 40960\n",
        "DATA_SOURCE_MAPPING = 'hindiwrittspok:https%3A%2F%2Fstorage.googleapis.com%2Fkaggle-data-sets%2F5253050%2F8747350%2Fbundle%2Farchive.zip%3FX-Goog-Algorithm%3DGOOG4-RSA-SHA256%26X-Goog-Credential%3Dgcp-kaggle-com%2540kaggle-161607.iam.gserviceaccount.com%252F20240629%252Fauto%252Fstorage%252Fgoog4_request%26X-Goog-Date%3D20240629T102121Z%26X-Goog-Expires%3D259200%26X-Goog-SignedHeaders%3Dhost%26X-Goog-Signature%3D8a7dc9aba89c920a50ed7a32fbca381e757722c0a2f539048567993eab953dc9423adb17846a2e08e66049213f80356cfc674d3b942869c54c2c7294bca440a843a15526b38879d71cbe5919a3e944cf14654582b441bdc886150e35d71ef6c0216d39c9fbef4fc0d31221c5955a5fe81854b81ed09938367d5d8b1a862bd3b7bf778fdfae4ed20d0d4651ccffc909a180888643df098829f108e46ea77f41a3ba6f84fc8e68f338ea983aa1a74dda746125bf5b6ce85701711736b0185dbd9d8c9aace201440a78780128111b687005630282498f4a4f952b9510ad07cef6fa9b1fcd28c5cb077816367b47497c6842531d77d8ef0e037870db9ae90212113f'\n",
        "\n",
        "KAGGLE_INPUT_PATH='/kaggle/input'\n",
        "KAGGLE_WORKING_PATH='/kaggle/working'\n",
        "KAGGLE_SYMLINK='kaggle'\n",
        "\n",
        "!umount /kaggle/input/ 2> /dev/null\n",
        "shutil.rmtree('/kaggle/input', ignore_errors=True)\n",
        "os.makedirs(KAGGLE_INPUT_PATH, 0o777, exist_ok=True)\n",
        "os.makedirs(KAGGLE_WORKING_PATH, 0o777, exist_ok=True)\n",
        "\n",
        "try:\n",
        "  os.symlink(KAGGLE_INPUT_PATH, os.path.join(\"..\", 'input'), target_is_directory=True)\n",
        "except FileExistsError:\n",
        "  pass\n",
        "try:\n",
        "  os.symlink(KAGGLE_WORKING_PATH, os.path.join(\"..\", 'working'), target_is_directory=True)\n",
        "except FileExistsError:\n",
        "  pass\n",
        "\n",
        "for data_source_mapping in DATA_SOURCE_MAPPING.split(','):\n",
        "    directory, download_url_encoded = data_source_mapping.split(':')\n",
        "    download_url = unquote(download_url_encoded)\n",
        "    filename = urlparse(download_url).path\n",
        "    destination_path = os.path.join(KAGGLE_INPUT_PATH, directory)\n",
        "    try:\n",
        "        with urlopen(download_url) as fileres, NamedTemporaryFile() as tfile:\n",
        "            total_length = fileres.headers['content-length']\n",
        "            print(f'Downloading {directory}, {total_length} bytes compressed')\n",
        "            dl = 0\n",
        "            data = fileres.read(CHUNK_SIZE)\n",
        "            while len(data) > 0:\n",
        "                dl += len(data)\n",
        "                tfile.write(data)\n",
        "                done = int(50 * dl / int(total_length))\n",
        "                sys.stdout.write(f\"\\r[{'=' * done}{' ' * (50-done)}] {dl} bytes downloaded\")\n",
        "                sys.stdout.flush()\n",
        "                data = fileres.read(CHUNK_SIZE)\n",
        "            if filename.endswith('.zip'):\n",
        "              with ZipFile(tfile) as zfile:\n",
        "                zfile.extractall(destination_path)\n",
        "            else:\n",
        "              with tarfile.open(tfile.name) as tarfile:\n",
        "                tarfile.extractall(destination_path)\n",
        "            print(f'\\nDownloaded and uncompressed: {directory}')\n",
        "    except HTTPError as e:\n",
        "        print(f'Failed to load (likely expired) {download_url} to path {destination_path}')\n",
        "        continue\n",
        "    except OSError as e:\n",
        "        print(f'Failed to load {download_url} to path {destination_path}')\n",
        "        continue\n",
        "\n",
        "print('Data source import complete.')\n"
      ],
      "metadata": {
        "id": "oKq0PWP6g5Ph"
      },
      "cell_type": "code",
      "outputs": [],
      "execution_count": null
    },
    {
      "cell_type": "code",
      "source": [
        "# This Python 3 environment comes with many helpful analytics libraries installed\n",
        "# It is defined by the kaggle/python Docker image: https://github.com/kaggle/docker-python\n",
        "# For example, here's several helpful packages to load\n",
        "\n",
        "import numpy as np # linear algebra\n",
        "import pandas as pd # data processing, CSV file I/O (e.g. pd.read_csv)\n",
        "\n",
        "# Input data files are available in the read-only \"../input/\" directory\n",
        "# For example, running this (by clicking run or pressing Shift+Enter) will list all files under the input directory\n",
        "\n",
        "import os\n",
        "for dirname, _, filenames in os.walk('/kaggle/input'):\n",
        "    for filename in filenames:\n",
        "        print(os.path.join(dirname, filename))\n",
        "\n",
        "# You can write up to 20GB to the current directory (/kaggle/working/) that gets preserved as output when you create a version using \"Save & Run All\"\n",
        "# You can also write temporary files to /kaggle/temp/, but they won't be saved outside of the current session"
      ],
      "metadata": {
        "_uuid": "8f2839f25d086af736a60e9eeb907d3b93b6e0e5",
        "_cell_guid": "b1076dfc-b9ad-4769-8c92-a6c4dae69d19",
        "execution": {
          "iopub.status.busy": "2024-06-21T11:13:25.524961Z",
          "iopub.execute_input": "2024-06-21T11:13:25.526012Z",
          "iopub.status.idle": "2024-06-21T11:13:25.53616Z",
          "shell.execute_reply.started": "2024-06-21T11:13:25.525977Z",
          "shell.execute_reply": "2024-06-21T11:13:25.535182Z"
        },
        "trusted": true,
        "id": "KW4C2DZlg5Pn",
        "outputId": "8f534f60-7d9c-4573-ac80-db51a4c6969d"
      },
      "execution_count": null,
      "outputs": [
        {
          "name": "stdout",
          "text": "/kaggle/input/hindiwrittspok/mixed.csv\n",
          "output_type": "stream"
        }
      ]
    },
    {
      "cell_type": "markdown",
      "source": [
        "Using the mixed dataset"
      ],
      "metadata": {
        "id": "Tsn6qZiQg5Pp"
      }
    },
    {
      "cell_type": "code",
      "source": [
        "import pandas as pd\n",
        "import os\n",
        "import torch\n",
        "from torch import nn\n",
        "from torch.utils.data import DataLoader, Dataset\n",
        "from transformers import BertTokenizer, BertModel, AdamW, get_linear_schedule_with_warmup\n",
        "from sklearn.model_selection import train_test_split\n",
        "from sklearn.metrics import accuracy_score, classification_report"
      ],
      "metadata": {
        "execution": {
          "iopub.status.busy": "2024-06-21T11:13:29.564644Z",
          "iopub.execute_input": "2024-06-21T11:13:29.565351Z",
          "iopub.status.idle": "2024-06-21T11:13:35.814152Z",
          "shell.execute_reply.started": "2024-06-21T11:13:29.565323Z",
          "shell.execute_reply": "2024-06-21T11:13:35.81315Z"
        },
        "trusted": true,
        "id": "Tp0XbmTYg5Ps"
      },
      "execution_count": null,
      "outputs": []
    },
    {
      "cell_type": "code",
      "source": [
        "def hindi_data(data_file):\n",
        "    df = pd.read_csv(data_file,encoding='utf-8')\n",
        "    texts = df['texts'].tolist()\n",
        "    labels = df['label'].tolist()\n",
        "    return texts, labels"
      ],
      "metadata": {
        "execution": {
          "iopub.status.busy": "2024-06-21T11:13:35.81608Z",
          "iopub.execute_input": "2024-06-21T11:13:35.81688Z",
          "iopub.status.idle": "2024-06-21T11:13:35.822068Z",
          "shell.execute_reply.started": "2024-06-21T11:13:35.816842Z",
          "shell.execute_reply": "2024-06-21T11:13:35.821176Z"
        },
        "trusted": true,
        "id": "xrN1lFfsg5Pt"
      },
      "execution_count": null,
      "outputs": []
    },
    {
      "cell_type": "code",
      "source": [
        "data_file = '/kaggle/input/hindiwrittspok/mixed.csv'\n",
        "texts, labels = hindi_data(data_file)\n",
        "texts, labels = hindi_data(data_file)"
      ],
      "metadata": {
        "execution": {
          "iopub.status.busy": "2024-06-21T11:13:35.823362Z",
          "iopub.execute_input": "2024-06-21T11:13:35.82373Z",
          "iopub.status.idle": "2024-06-21T11:13:36.902735Z",
          "shell.execute_reply.started": "2024-06-21T11:13:35.823696Z",
          "shell.execute_reply": "2024-06-21T11:13:36.901966Z"
        },
        "trusted": true,
        "id": "AkCg4dKrg5Pu"
      },
      "execution_count": null,
      "outputs": []
    },
    {
      "cell_type": "code",
      "source": [
        "print(f\"Total texts: {len(texts)}, Total labels: {len(labels)}\")"
      ],
      "metadata": {
        "execution": {
          "iopub.status.busy": "2024-06-21T11:13:36.904681Z",
          "iopub.execute_input": "2024-06-21T11:13:36.904967Z",
          "iopub.status.idle": "2024-06-21T11:13:36.909796Z",
          "shell.execute_reply.started": "2024-06-21T11:13:36.904941Z",
          "shell.execute_reply": "2024-06-21T11:13:36.908693Z"
        },
        "trusted": true,
        "id": "ETpPESAng5Pv",
        "outputId": "1824bf49-11fb-4952-8f43-8cdb849d56d3"
      },
      "execution_count": null,
      "outputs": [
        {
          "name": "stdout",
          "text": "Total texts: 101601, Total labels: 101601\n",
          "output_type": "stream"
        }
      ]
    },
    {
      "cell_type": "code",
      "source": [
        "#tokenizing, handling the seq_length, and providing with input IDs, attention masks, and labels\n",
        "class TextClassificationDataset(Dataset):\n",
        "  def __init__(self, texts, labels, tokenizer, max_length):\n",
        "        self.texts = texts\n",
        "        self.labels = labels\n",
        "        self.tokenizer = tokenizer\n",
        "        self.max_length = max_length\n",
        "\n",
        "  def __len__(self):\n",
        "        return len(self.texts)\n",
        "\n",
        "  def __getitem__(self, idx):\n",
        "        text = self.texts[idx]\n",
        "        label = self.labels[idx]\n",
        "\n",
        "        try:\n",
        "            encoding = self.tokenizer(text, return_tensors='pt', max_length=self.max_length, padding='max_length', truncation=True)\n",
        "        except ValueError as e:\n",
        "            print(f\"Skipping example at index {idx}: {e}\")\n",
        "            return None\n",
        "\n",
        "        return {\n",
        "            'input_ids': encoding['input_ids'].flatten(),\n",
        "            'attention_mask': encoding['attention_mask'].flatten(),\n",
        "            'labels': torch.tensor(label, dtype=torch.long)\n",
        "        }"
      ],
      "metadata": {
        "execution": {
          "iopub.status.busy": "2024-06-21T11:41:40.868094Z",
          "iopub.execute_input": "2024-06-21T11:41:40.868465Z",
          "iopub.status.idle": "2024-06-21T11:41:40.878034Z",
          "shell.execute_reply.started": "2024-06-21T11:41:40.868435Z",
          "shell.execute_reply": "2024-06-21T11:41:40.87701Z"
        },
        "trusted": true,
        "id": "rNYRdLcXg5Pw"
      },
      "execution_count": null,
      "outputs": []
    },
    {
      "cell_type": "code",
      "source": [
        "class BERTClassifier(nn.Module):\n",
        "    def __init__(self, bert_model_name, num_classes):\n",
        "        super(BERTClassifier, self).__init__()\n",
        "        self.bert = BertModel.from_pretrained(bert_model_name)\n",
        "        self.dropout = nn.Dropout(0.1)\n",
        "        self.fc = nn.Linear(self.bert.config.hidden_size, num_classes)\n",
        "\n",
        "    def forward(self, input_ids, attention_mask):\n",
        "        outputs = self.bert(input_ids=input_ids, attention_mask=attention_mask)\n",
        "        pooled_output = outputs.pooler_output\n",
        "        x = self.dropout(pooled_output)\n",
        "        logits = self.fc(x)\n",
        "        return logits"
      ],
      "metadata": {
        "execution": {
          "iopub.status.busy": "2024-06-21T11:41:41.222304Z",
          "iopub.execute_input": "2024-06-21T11:41:41.222685Z",
          "iopub.status.idle": "2024-06-21T11:41:41.229466Z",
          "shell.execute_reply.started": "2024-06-21T11:41:41.222653Z",
          "shell.execute_reply": "2024-06-21T11:41:41.228442Z"
        },
        "trusted": true,
        "id": "3KTRjK4-g5Py"
      },
      "execution_count": null,
      "outputs": []
    },
    {
      "cell_type": "code",
      "source": [
        "def train(model, data_loader, optimizer, scheduler, device):\n",
        "    model.train()\n",
        "    for batch in data_loader:\n",
        "        optimizer.zero_grad()\n",
        "        input_ids = batch['input_ids'].to(device)\n",
        "        attention_mask = batch['attention_mask'].to(device)\n",
        "        labels = batch['labels'].to(device)  # Correct key is 'labels'\n",
        "        outputs = model(input_ids=input_ids, attention_mask=attention_mask)\n",
        "        loss = nn.CrossEntropyLoss()(outputs, labels)\n",
        "        loss.backward()\n",
        "        optimizer.step()\n",
        "        scheduler.step()"
      ],
      "metadata": {
        "execution": {
          "iopub.status.busy": "2024-06-21T11:41:41.584131Z",
          "iopub.execute_input": "2024-06-21T11:41:41.585032Z",
          "iopub.status.idle": "2024-06-21T11:41:41.591468Z",
          "shell.execute_reply.started": "2024-06-21T11:41:41.584995Z",
          "shell.execute_reply": "2024-06-21T11:41:41.5905Z"
        },
        "trusted": true,
        "id": "Nf7EUzOrg5P0"
      },
      "execution_count": null,
      "outputs": []
    },
    {
      "cell_type": "code",
      "source": [
        "def evaluate(model, data_loader, device):\n",
        "    model.eval()\n",
        "    predictions = []\n",
        "    actual_labels = []\n",
        "    with torch.no_grad():\n",
        "        for batch in data_loader:\n",
        "            input_ids = batch['input_ids'].to(device)\n",
        "            attention_mask = batch['attention_mask'].to(device)\n",
        "            labels = batch['labels'].to(device)  # Correct key is 'labels'\n",
        "            outputs = model(input_ids=input_ids, attention_mask=attention_mask)\n",
        "            _, preds = torch.max(outputs, dim=1)\n",
        "            predictions.extend(preds.cpu().tolist())\n",
        "            actual_labels.extend(labels.cpu().tolist())\n",
        "    return accuracy_score(actual_labels, predictions), classification_report(actual_labels, predictions)"
      ],
      "metadata": {
        "execution": {
          "iopub.status.busy": "2024-06-21T11:41:41.973437Z",
          "iopub.execute_input": "2024-06-21T11:41:41.973858Z",
          "iopub.status.idle": "2024-06-21T11:41:41.981488Z",
          "shell.execute_reply.started": "2024-06-21T11:41:41.973826Z",
          "shell.execute_reply": "2024-06-21T11:41:41.980412Z"
        },
        "trusted": true,
        "id": "PKr0Y2ZVg5P2"
      },
      "execution_count": null,
      "outputs": []
    },
    {
      "cell_type": "code",
      "source": [
        "from torch.nn.utils.rnn import pad_sequence\n",
        "\n",
        "def collate_fn(batch):\n",
        "    \"\"\"\n",
        "    Custom collate function to handle the batching of data.\n",
        "    \"\"\"\n",
        "    # Filter out None items\n",
        "    batch = [item for item in batch if item is not None]\n",
        "\n",
        "    if not batch:  # Handle the case where all items in the batch are None\n",
        "        return None\n",
        "\n",
        "    input_ids = [item['input_ids'] for item in batch]\n",
        "    attention_mask = [item['attention_mask'] for item in batch]\n",
        "    labels = [item['labels'] for item in batch]\n",
        "\n",
        "    # Pad sequences to the same length\n",
        "    input_ids = pad_sequence(input_ids, batch_first=True, padding_value=tokenizer.pad_token_id)\n",
        "    attention_mask = pad_sequence(attention_mask, batch_first=True, padding_value=0)\n",
        "\n",
        "    # Convert labels to a tensor\n",
        "    labels = torch.tensor(labels)\n",
        "\n",
        "    return {\n",
        "        'input_ids': input_ids,\n",
        "        'attention_mask': attention_mask,\n",
        "        'labels': labels\n",
        "    }"
      ],
      "metadata": {
        "execution": {
          "iopub.status.busy": "2024-06-21T11:41:42.377381Z",
          "iopub.execute_input": "2024-06-21T11:41:42.378104Z",
          "iopub.status.idle": "2024-06-21T11:41:42.38523Z",
          "shell.execute_reply.started": "2024-06-21T11:41:42.378072Z",
          "shell.execute_reply": "2024-06-21T11:41:42.384196Z"
        },
        "trusted": true,
        "id": "oJiYIAsXg5P3"
      },
      "execution_count": null,
      "outputs": []
    },
    {
      "cell_type": "code",
      "source": [
        "def prediction(text, model, tokenizer, device, max_length=128):\n",
        "    model.eval()\n",
        "    encoding = tokenizer(text, return_tensors='pt', max_length=max_length, padding='max_length', truncation=True)\n",
        "    input_ids = encoding['input_ids'].to(device)\n",
        "    attention_mask = encoding['attention_mask'].to(device)\n",
        "\n",
        "    with torch.no_grad():\n",
        "        outputs = model(input_ids=input_ids, attention_mask=attention_mask)\n",
        "        _, preds = torch.max(outputs, dim=1)\n",
        "\n",
        "    return \"spoken\" if preds.item() == 1 else \"written\""
      ],
      "metadata": {
        "execution": {
          "iopub.status.busy": "2024-06-21T11:41:42.707007Z",
          "iopub.execute_input": "2024-06-21T11:41:42.707727Z",
          "iopub.status.idle": "2024-06-21T11:41:42.713763Z",
          "shell.execute_reply.started": "2024-06-21T11:41:42.707695Z",
          "shell.execute_reply": "2024-06-21T11:41:42.712845Z"
        },
        "trusted": true,
        "id": "Tn9yVLoAg5P4"
      },
      "execution_count": null,
      "outputs": []
    },
    {
      "cell_type": "code",
      "source": [
        "# Set up parameters\n",
        "bert_model_name = 'bert-base-uncased'\n",
        "num_classes = 2\n",
        "max_length = 128\n",
        "batch_size = 16\n",
        "num_epochs = 4\n",
        "learning_rate = 0.5e-5"
      ],
      "metadata": {
        "execution": {
          "iopub.status.busy": "2024-06-21T11:41:43.051629Z",
          "iopub.execute_input": "2024-06-21T11:41:43.052433Z",
          "iopub.status.idle": "2024-06-21T11:41:43.056672Z",
          "shell.execute_reply.started": "2024-06-21T11:41:43.052403Z",
          "shell.execute_reply": "2024-06-21T11:41:43.055603Z"
        },
        "trusted": true,
        "id": "hgsObT-eg5P4"
      },
      "execution_count": null,
      "outputs": []
    },
    {
      "cell_type": "code",
      "source": [
        "train_texts, rem_texts, train_labels, rem_labels = train_test_split(texts, labels, train_size=0.6, random_state=42)\n",
        "\n",
        "# Then split the remaining data into 50% validation and 50% test (which is 20% of total each)\n",
        "val_texts, test_texts, val_labels, test_labels = train_test_split(rem_texts, rem_labels, test_size=0.5, random_state=42)"
      ],
      "metadata": {
        "execution": {
          "iopub.status.busy": "2024-06-21T11:41:43.703732Z",
          "iopub.execute_input": "2024-06-21T11:41:43.70409Z",
          "iopub.status.idle": "2024-06-21T11:41:43.779559Z",
          "shell.execute_reply.started": "2024-06-21T11:41:43.704061Z",
          "shell.execute_reply": "2024-06-21T11:41:43.778847Z"
        },
        "trusted": true,
        "id": "n262CrUGg5P5"
      },
      "execution_count": null,
      "outputs": []
    },
    {
      "cell_type": "code",
      "source": [
        "print(len(train_texts))\n",
        "print(len(train_labels))\n",
        "print(len(val_texts))\n",
        "print(len(val_labels))"
      ],
      "metadata": {
        "execution": {
          "iopub.status.busy": "2024-06-21T11:41:44.446491Z",
          "iopub.execute_input": "2024-06-21T11:41:44.44686Z",
          "iopub.status.idle": "2024-06-21T11:41:44.451982Z",
          "shell.execute_reply.started": "2024-06-21T11:41:44.446831Z",
          "shell.execute_reply": "2024-06-21T11:41:44.451012Z"
        },
        "trusted": true,
        "id": "CwefFWwJg5P6",
        "outputId": "7b77bc06-0ace-4935-edf8-c782c8b36472"
      },
      "execution_count": null,
      "outputs": [
        {
          "name": "stdout",
          "text": "60960\n60960\n20320\n20320\n",
          "output_type": "stream"
        }
      ]
    },
    {
      "cell_type": "code",
      "source": [
        "# Load tokenizer\n",
        "tokenizer = BertTokenizer.from_pretrained(bert_model_name)\n",
        "\n",
        "# Create datasets\n",
        "train_dataset = TextClassificationDataset(train_texts, train_labels, tokenizer, max_length)\n",
        "val_dataset = TextClassificationDataset(val_texts, val_labels, tokenizer, max_length)\n",
        "\n",
        "# Create dataloaders\n",
        "train_dataloader = DataLoader(train_dataset, batch_size=batch_size, shuffle=True, collate_fn=collate_fn)\n",
        "val_dataloader = DataLoader(val_dataset, batch_size=batch_size, collate_fn=collate_fn)"
      ],
      "metadata": {
        "execution": {
          "iopub.status.busy": "2024-06-21T11:41:44.776449Z",
          "iopub.execute_input": "2024-06-21T11:41:44.776828Z",
          "iopub.status.idle": "2024-06-21T11:41:45.191626Z",
          "shell.execute_reply.started": "2024-06-21T11:41:44.776797Z",
          "shell.execute_reply": "2024-06-21T11:41:45.190818Z"
        },
        "trusted": true,
        "id": "nYsfB5_4g5P7"
      },
      "execution_count": null,
      "outputs": []
    },
    {
      "cell_type": "code",
      "source": [
        "device = torch.device(\"cuda\" if torch.cuda.is_available() else \"cpu\")\n",
        "model = BERTClassifier(bert_model_name, num_classes).to(device)"
      ],
      "metadata": {
        "execution": {
          "iopub.status.busy": "2024-06-21T11:41:45.193262Z",
          "iopub.execute_input": "2024-06-21T11:41:45.193602Z",
          "iopub.status.idle": "2024-06-21T11:41:45.787181Z",
          "shell.execute_reply.started": "2024-06-21T11:41:45.193552Z",
          "shell.execute_reply": "2024-06-21T11:41:45.786088Z"
        },
        "trusted": true,
        "id": "60MakdHbg5P8"
      },
      "execution_count": null,
      "outputs": []
    },
    {
      "cell_type": "code",
      "source": [
        "optimizer = AdamW(model.parameters(), lr=learning_rate)\n",
        "total_steps = len(train_dataloader) * num_epochs\n",
        "scheduler = get_linear_schedule_with_warmup(optimizer, num_warmup_steps=0, num_training_steps=total_steps)"
      ],
      "metadata": {
        "execution": {
          "iopub.status.busy": "2024-06-21T11:41:45.788942Z",
          "iopub.execute_input": "2024-06-21T11:41:45.789236Z",
          "iopub.status.idle": "2024-06-21T11:41:45.800331Z",
          "shell.execute_reply.started": "2024-06-21T11:41:45.78921Z",
          "shell.execute_reply": "2024-06-21T11:41:45.799432Z"
        },
        "trusted": true,
        "id": "TIj-j2Ung5P8",
        "outputId": "2bc055a3-7aca-4e87-8d4c-c2f6f8325a83"
      },
      "execution_count": null,
      "outputs": [
        {
          "name": "stderr",
          "text": "/opt/conda/lib/python3.10/site-packages/transformers/optimization.py:588: FutureWarning: This implementation of AdamW is deprecated and will be removed in a future version. Use the PyTorch implementation torch.optim.AdamW instead, or set `no_deprecation_warning=True` to disable this warning\n  warnings.warn(\n",
          "output_type": "stream"
        }
      ]
    },
    {
      "cell_type": "code",
      "source": [
        "for epoch in range(num_epochs):\n",
        "    print(f\"Epoch {epoch + 1}/{num_epochs}\")\n",
        "    train(model, train_dataloader, optimizer, scheduler, device)\n",
        "    accuracy, report = evaluate(model, val_dataloader, device)\n",
        "    print(f\"Validation Accuracy: {accuracy:.4f}\")\n",
        "    print(report)"
      ],
      "metadata": {
        "execution": {
          "iopub.status.busy": "2024-06-21T11:41:46.006243Z",
          "iopub.execute_input": "2024-06-21T11:41:46.006639Z",
          "iopub.status.idle": "2024-06-21T12:39:46.174257Z",
          "shell.execute_reply.started": "2024-06-21T11:41:46.006608Z",
          "shell.execute_reply": "2024-06-21T12:39:46.173228Z"
        },
        "trusted": true,
        "id": "CQ4itRWUg5P8",
        "outputId": "00bd8764-b102-41c8-dedf-a02ba9aea0f4"
      },
      "execution_count": null,
      "outputs": [
        {
          "name": "stdout",
          "text": "Epoch 1/4\nSkipping example at index 23693: text input must be of type `str` (single example), `List[str]` (batch or single pretokenized example) or `List[List[str]]` (batch of pretokenized examples).\nSkipping example at index 20138: text input must be of type `str` (single example), `List[str]` (batch or single pretokenized example) or `List[List[str]]` (batch of pretokenized examples).\nSkipping example at index 60667: text input must be of type `str` (single example), `List[str]` (batch or single pretokenized example) or `List[List[str]]` (batch of pretokenized examples).\nSkipping example at index 10571: text input must be of type `str` (single example), `List[str]` (batch or single pretokenized example) or `List[List[str]]` (batch of pretokenized examples).\nSkipping example at index 15027: text input must be of type `str` (single example), `List[str]` (batch or single pretokenized example) or `List[List[str]]` (batch of pretokenized examples).\nSkipping example at index 46233: text input must be of type `str` (single example), `List[str]` (batch or single pretokenized example) or `List[List[str]]` (batch of pretokenized examples).\nSkipping example at index 5820: text input must be of type `str` (single example), `List[str]` (batch or single pretokenized example) or `List[List[str]]` (batch of pretokenized examples).\nSkipping example at index 60311: text input must be of type `str` (single example), `List[str]` (batch or single pretokenized example) or `List[List[str]]` (batch of pretokenized examples).\nSkipping example at index 9515: text input must be of type `str` (single example), `List[str]` (batch or single pretokenized example) or `List[List[str]]` (batch of pretokenized examples).\nSkipping example at index 26732: text input must be of type `str` (single example), `List[str]` (batch or single pretokenized example) or `List[List[str]]` (batch of pretokenized examples).\nSkipping example at index 781: text input must be of type `str` (single example), `List[str]` (batch or single pretokenized example) or `List[List[str]]` (batch of pretokenized examples).\nSkipping example at index 26077: text input must be of type `str` (single example), `List[str]` (batch or single pretokenized example) or `List[List[str]]` (batch of pretokenized examples).\nSkipping example at index 58629: text input must be of type `str` (single example), `List[str]` (batch or single pretokenized example) or `List[List[str]]` (batch of pretokenized examples).\nSkipping example at index 45224: text input must be of type `str` (single example), `List[str]` (batch or single pretokenized example) or `List[List[str]]` (batch of pretokenized examples).\nSkipping example at index 45370: text input must be of type `str` (single example), `List[str]` (batch or single pretokenized example) or `List[List[str]]` (batch of pretokenized examples).\nSkipping example at index 48646: text input must be of type `str` (single example), `List[str]` (batch or single pretokenized example) or `List[List[str]]` (batch of pretokenized examples).\nSkipping example at index 2713: text input must be of type `str` (single example), `List[str]` (batch or single pretokenized example) or `List[List[str]]` (batch of pretokenized examples).\nSkipping example at index 27853: text input must be of type `str` (single example), `List[str]` (batch or single pretokenized example) or `List[List[str]]` (batch of pretokenized examples).\nSkipping example at index 3864: text input must be of type `str` (single example), `List[str]` (batch or single pretokenized example) or `List[List[str]]` (batch of pretokenized examples).\nSkipping example at index 43260: text input must be of type `str` (single example), `List[str]` (batch or single pretokenized example) or `List[List[str]]` (batch of pretokenized examples).\nSkipping example at index 5884: text input must be of type `str` (single example), `List[str]` (batch or single pretokenized example) or `List[List[str]]` (batch of pretokenized examples).\nSkipping example at index 40879: text input must be of type `str` (single example), `List[str]` (batch or single pretokenized example) or `List[List[str]]` (batch of pretokenized examples).\nSkipping example at index 35776: text input must be of type `str` (single example), `List[str]` (batch or single pretokenized example) or `List[List[str]]` (batch of pretokenized examples).\nSkipping example at index 48445: text input must be of type `str` (single example), `List[str]` (batch or single pretokenized example) or `List[List[str]]` (batch of pretokenized examples).\nSkipping example at index 15978: text input must be of type `str` (single example), `List[str]` (batch or single pretokenized example) or `List[List[str]]` (batch of pretokenized examples).\nSkipping example at index 44497: text input must be of type `str` (single example), `List[str]` (batch or single pretokenized example) or `List[List[str]]` (batch of pretokenized examples).\nSkipping example at index 2962: text input must be of type `str` (single example), `List[str]` (batch or single pretokenized example) or `List[List[str]]` (batch of pretokenized examples).\nSkipping example at index 3112: text input must be of type `str` (single example), `List[str]` (batch or single pretokenized example) or `List[List[str]]` (batch of pretokenized examples).\nSkipping example at index 4993: text input must be of type `str` (single example), `List[str]` (batch or single pretokenized example) or `List[List[str]]` (batch of pretokenized examples).\nSkipping example at index 7239: text input must be of type `str` (single example), `List[str]` (batch or single pretokenized example) or `List[List[str]]` (batch of pretokenized examples).\nSkipping example at index 9966: text input must be of type `str` (single example), `List[str]` (batch or single pretokenized example) or `List[List[str]]` (batch of pretokenized examples).\nSkipping example at index 14775: text input must be of type `str` (single example), `List[str]` (batch or single pretokenized example) or `List[List[str]]` (batch of pretokenized examples).\nSkipping example at index 16161: text input must be of type `str` (single example), `List[str]` (batch or single pretokenized example) or `List[List[str]]` (batch of pretokenized examples).\nSkipping example at index 19395: text input must be of type `str` (single example), `List[str]` (batch or single pretokenized example) or `List[List[str]]` (batch of pretokenized examples).\nValidation Accuracy: 0.9583\n              precision    recall  f1-score   support\n\n           0       0.98      0.97      0.97     16498\n           1       0.88      0.90      0.89      3814\n\n    accuracy                           0.96     20312\n   macro avg       0.93      0.94      0.93     20312\nweighted avg       0.96      0.96      0.96     20312\n\nEpoch 2/4\nSkipping example at index 35776: text input must be of type `str` (single example), `List[str]` (batch or single pretokenized example) or `List[List[str]]` (batch of pretokenized examples).\nSkipping example at index 26732: text input must be of type `str` (single example), `List[str]` (batch or single pretokenized example) or `List[List[str]]` (batch of pretokenized examples).\nSkipping example at index 9515: text input must be of type `str` (single example), `List[str]` (batch or single pretokenized example) or `List[List[str]]` (batch of pretokenized examples).\nSkipping example at index 60311: text input must be of type `str` (single example), `List[str]` (batch or single pretokenized example) or `List[List[str]]` (batch of pretokenized examples).\nSkipping example at index 23693: text input must be of type `str` (single example), `List[str]` (batch or single pretokenized example) or `List[List[str]]` (batch of pretokenized examples).\nSkipping example at index 15027: text input must be of type `str` (single example), `List[str]` (batch or single pretokenized example) or `List[List[str]]` (batch of pretokenized examples).\nSkipping example at index 2713: text input must be of type `str` (single example), `List[str]` (batch or single pretokenized example) or `List[List[str]]` (batch of pretokenized examples).\nSkipping example at index 3864: text input must be of type `str` (single example), `List[str]` (batch or single pretokenized example) or `List[List[str]]` (batch of pretokenized examples).\nSkipping example at index 45224: text input must be of type `str` (single example), `List[str]` (batch or single pretokenized example) or `List[List[str]]` (batch of pretokenized examples).\nSkipping example at index 48445: text input must be of type `str` (single example), `List[str]` (batch or single pretokenized example) or `List[List[str]]` (batch of pretokenized examples).\nSkipping example at index 5884: text input must be of type `str` (single example), `List[str]` (batch or single pretokenized example) or `List[List[str]]` (batch of pretokenized examples).\nSkipping example at index 46233: text input must be of type `str` (single example), `List[str]` (batch or single pretokenized example) or `List[List[str]]` (batch of pretokenized examples).\nSkipping example at index 26077: text input must be of type `str` (single example), `List[str]` (batch or single pretokenized example) or `List[List[str]]` (batch of pretokenized examples).\nSkipping example at index 15978: text input must be of type `str` (single example), `List[str]` (batch or single pretokenized example) or `List[List[str]]` (batch of pretokenized examples).\nSkipping example at index 44497: text input must be of type `str` (single example), `List[str]` (batch or single pretokenized example) or `List[List[str]]` (batch of pretokenized examples).\nSkipping example at index 60667: text input must be of type `str` (single example), `List[str]` (batch or single pretokenized example) or `List[List[str]]` (batch of pretokenized examples).\nSkipping example at index 40879: text input must be of type `str` (single example), `List[str]` (batch or single pretokenized example) or `List[List[str]]` (batch of pretokenized examples).\nSkipping example at index 43260: text input must be of type `str` (single example), `List[str]` (batch or single pretokenized example) or `List[List[str]]` (batch of pretokenized examples).\nSkipping example at index 20138: text input must be of type `str` (single example), `List[str]` (batch or single pretokenized example) or `List[List[str]]` (batch of pretokenized examples).\nSkipping example at index 27853: text input must be of type `str` (single example), `List[str]` (batch or single pretokenized example) or `List[List[str]]` (batch of pretokenized examples).\nSkipping example at index 58629: text input must be of type `str` (single example), `List[str]` (batch or single pretokenized example) or `List[List[str]]` (batch of pretokenized examples).\nSkipping example at index 781: text input must be of type `str` (single example), `List[str]` (batch or single pretokenized example) or `List[List[str]]` (batch of pretokenized examples).\nSkipping example at index 45370: text input must be of type `str` (single example), `List[str]` (batch or single pretokenized example) or `List[List[str]]` (batch of pretokenized examples).\nSkipping example at index 48646: text input must be of type `str` (single example), `List[str]` (batch or single pretokenized example) or `List[List[str]]` (batch of pretokenized examples).\nSkipping example at index 5820: text input must be of type `str` (single example), `List[str]` (batch or single pretokenized example) or `List[List[str]]` (batch of pretokenized examples).\nSkipping example at index 10571: text input must be of type `str` (single example), `List[str]` (batch or single pretokenized example) or `List[List[str]]` (batch of pretokenized examples).\nSkipping example at index 2962: text input must be of type `str` (single example), `List[str]` (batch or single pretokenized example) or `List[List[str]]` (batch of pretokenized examples).\nSkipping example at index 3112: text input must be of type `str` (single example), `List[str]` (batch or single pretokenized example) or `List[List[str]]` (batch of pretokenized examples).\nSkipping example at index 4993: text input must be of type `str` (single example), `List[str]` (batch or single pretokenized example) or `List[List[str]]` (batch of pretokenized examples).\nSkipping example at index 7239: text input must be of type `str` (single example), `List[str]` (batch or single pretokenized example) or `List[List[str]]` (batch of pretokenized examples).\nSkipping example at index 9966: text input must be of type `str` (single example), `List[str]` (batch or single pretokenized example) or `List[List[str]]` (batch of pretokenized examples).\nSkipping example at index 14775: text input must be of type `str` (single example), `List[str]` (batch or single pretokenized example) or `List[List[str]]` (batch of pretokenized examples).\nSkipping example at index 16161: text input must be of type `str` (single example), `List[str]` (batch or single pretokenized example) or `List[List[str]]` (batch of pretokenized examples).\nSkipping example at index 19395: text input must be of type `str` (single example), `List[str]` (batch or single pretokenized example) or `List[List[str]]` (batch of pretokenized examples).\nValidation Accuracy: 0.9666\n              precision    recall  f1-score   support\n\n           0       0.97      0.99      0.98     16498\n           1       0.94      0.87      0.91      3814\n\n    accuracy                           0.97     20312\n   macro avg       0.96      0.93      0.94     20312\nweighted avg       0.97      0.97      0.97     20312\n\nEpoch 3/4\nSkipping example at index 35776: text input must be of type `str` (single example), `List[str]` (batch or single pretokenized example) or `List[List[str]]` (batch of pretokenized examples).\nSkipping example at index 2713: text input must be of type `str` (single example), `List[str]` (batch or single pretokenized example) or `List[List[str]]` (batch of pretokenized examples).\nSkipping example at index 43260: text input must be of type `str` (single example), `List[str]` (batch or single pretokenized example) or `List[List[str]]` (batch of pretokenized examples).\nSkipping example at index 60667: text input must be of type `str` (single example), `List[str]` (batch or single pretokenized example) or `List[List[str]]` (batch of pretokenized examples).\nSkipping example at index 781: text input must be of type `str` (single example), `List[str]` (batch or single pretokenized example) or `List[List[str]]` (batch of pretokenized examples).\nSkipping example at index 58629: text input must be of type `str` (single example), `List[str]` (batch or single pretokenized example) or `List[List[str]]` (batch of pretokenized examples).\nSkipping example at index 27853: text input must be of type `str` (single example), `List[str]` (batch or single pretokenized example) or `List[List[str]]` (batch of pretokenized examples).\nSkipping example at index 40879: text input must be of type `str` (single example), `List[str]` (batch or single pretokenized example) or `List[List[str]]` (batch of pretokenized examples).\nSkipping example at index 60311: text input must be of type `str` (single example), `List[str]` (batch or single pretokenized example) or `List[List[str]]` (batch of pretokenized examples).\nSkipping example at index 15978: text input must be of type `str` (single example), `List[str]` (batch or single pretokenized example) or `List[List[str]]` (batch of pretokenized examples).\nSkipping example at index 44497: text input must be of type `str` (single example), `List[str]` (batch or single pretokenized example) or `List[List[str]]` (batch of pretokenized examples).\nSkipping example at index 9515: text input must be of type `str` (single example), `List[str]` (batch or single pretokenized example) or `List[List[str]]` (batch of pretokenized examples).\nSkipping example at index 10571: text input must be of type `str` (single example), `List[str]` (batch or single pretokenized example) or `List[List[str]]` (batch of pretokenized examples).\nSkipping example at index 46233: text input must be of type `str` (single example), `List[str]` (batch or single pretokenized example) or `List[List[str]]` (batch of pretokenized examples).\nSkipping example at index 3864: text input must be of type `str` (single example), `List[str]` (batch or single pretokenized example) or `List[List[str]]` (batch of pretokenized examples).\nSkipping example at index 5884: text input must be of type `str` (single example), `List[str]` (batch or single pretokenized example) or `List[List[str]]` (batch of pretokenized examples).\nSkipping example at index 15027: text input must be of type `str` (single example), `List[str]` (batch or single pretokenized example) or `List[List[str]]` (batch of pretokenized examples).\nSkipping example at index 45224: text input must be of type `str` (single example), `List[str]` (batch or single pretokenized example) or `List[List[str]]` (batch of pretokenized examples).\nSkipping example at index 26077: text input must be of type `str` (single example), `List[str]` (batch or single pretokenized example) or `List[List[str]]` (batch of pretokenized examples).\nSkipping example at index 26732: text input must be of type `str` (single example), `List[str]` (batch or single pretokenized example) or `List[List[str]]` (batch of pretokenized examples).\nSkipping example at index 48445: text input must be of type `str` (single example), `List[str]` (batch or single pretokenized example) or `List[List[str]]` (batch of pretokenized examples).\nSkipping example at index 48646: text input must be of type `str` (single example), `List[str]` (batch or single pretokenized example) or `List[List[str]]` (batch of pretokenized examples).\nSkipping example at index 23693: text input must be of type `str` (single example), `List[str]` (batch or single pretokenized example) or `List[List[str]]` (batch of pretokenized examples).\nSkipping example at index 20138: text input must be of type `str` (single example), `List[str]` (batch or single pretokenized example) or `List[List[str]]` (batch of pretokenized examples).\nSkipping example at index 45370: text input must be of type `str` (single example), `List[str]` (batch or single pretokenized example) or `List[List[str]]` (batch of pretokenized examples).\nSkipping example at index 5820: text input must be of type `str` (single example), `List[str]` (batch or single pretokenized example) or `List[List[str]]` (batch of pretokenized examples).\nSkipping example at index 2962: text input must be of type `str` (single example), `List[str]` (batch or single pretokenized example) or `List[List[str]]` (batch of pretokenized examples).\nSkipping example at index 3112: text input must be of type `str` (single example), `List[str]` (batch or single pretokenized example) or `List[List[str]]` (batch of pretokenized examples).\nSkipping example at index 4993: text input must be of type `str` (single example), `List[str]` (batch or single pretokenized example) or `List[List[str]]` (batch of pretokenized examples).\nSkipping example at index 7239: text input must be of type `str` (single example), `List[str]` (batch or single pretokenized example) or `List[List[str]]` (batch of pretokenized examples).\nSkipping example at index 9966: text input must be of type `str` (single example), `List[str]` (batch or single pretokenized example) or `List[List[str]]` (batch of pretokenized examples).\nSkipping example at index 14775: text input must be of type `str` (single example), `List[str]` (batch or single pretokenized example) or `List[List[str]]` (batch of pretokenized examples).\nSkipping example at index 16161: text input must be of type `str` (single example), `List[str]` (batch or single pretokenized example) or `List[List[str]]` (batch of pretokenized examples).\nSkipping example at index 19395: text input must be of type `str` (single example), `List[str]` (batch or single pretokenized example) or `List[List[str]]` (batch of pretokenized examples).\nValidation Accuracy: 0.9702\n              precision    recall  f1-score   support\n\n           0       0.98      0.99      0.98     16498\n           1       0.95      0.89      0.92      3814\n\n    accuracy                           0.97     20312\n   macro avg       0.96      0.94      0.95     20312\nweighted avg       0.97      0.97      0.97     20312\n\nEpoch 4/4\nSkipping example at index 5884: text input must be of type `str` (single example), `List[str]` (batch or single pretokenized example) or `List[List[str]]` (batch of pretokenized examples).\nSkipping example at index 15978: text input must be of type `str` (single example), `List[str]` (batch or single pretokenized example) or `List[List[str]]` (batch of pretokenized examples).\nSkipping example at index 48445: text input must be of type `str` (single example), `List[str]` (batch or single pretokenized example) or `List[List[str]]` (batch of pretokenized examples).\nSkipping example at index 45370: text input must be of type `str` (single example), `List[str]` (batch or single pretokenized example) or `List[List[str]]` (batch of pretokenized examples).\nSkipping example at index 3864: text input must be of type `str` (single example), `List[str]` (batch or single pretokenized example) or `List[List[str]]` (batch of pretokenized examples).\nSkipping example at index 2713: text input must be of type `str` (single example), `List[str]` (batch or single pretokenized example) or `List[List[str]]` (batch of pretokenized examples).\nSkipping example at index 44497: text input must be of type `str` (single example), `List[str]` (batch or single pretokenized example) or `List[List[str]]` (batch of pretokenized examples).\nSkipping example at index 10571: text input must be of type `str` (single example), `List[str]` (batch or single pretokenized example) or `List[List[str]]` (batch of pretokenized examples).\nSkipping example at index 27853: text input must be of type `str` (single example), `List[str]` (batch or single pretokenized example) or `List[List[str]]` (batch of pretokenized examples).\nSkipping example at index 46233: text input must be of type `str` (single example), `List[str]` (batch or single pretokenized example) or `List[List[str]]` (batch of pretokenized examples).\nSkipping example at index 26077: text input must be of type `str` (single example), `List[str]` (batch or single pretokenized example) or `List[List[str]]` (batch of pretokenized examples).\nSkipping example at index 48646: text input must be of type `str` (single example), `List[str]` (batch or single pretokenized example) or `List[List[str]]` (batch of pretokenized examples).\nSkipping example at index 5820: text input must be of type `str` (single example), `List[str]` (batch or single pretokenized example) or `List[List[str]]` (batch of pretokenized examples).\nSkipping example at index 43260: text input must be of type `str` (single example), `List[str]` (batch or single pretokenized example) or `List[List[str]]` (batch of pretokenized examples).\nSkipping example at index 26732: text input must be of type `str` (single example), `List[str]` (batch or single pretokenized example) or `List[List[str]]` (batch of pretokenized examples).\nSkipping example at index 40879: text input must be of type `str` (single example), `List[str]` (batch or single pretokenized example) or `List[List[str]]` (batch of pretokenized examples).\nSkipping example at index 60667: text input must be of type `str` (single example), `List[str]` (batch or single pretokenized example) or `List[List[str]]` (batch of pretokenized examples).\nSkipping example at index 9515: text input must be of type `str` (single example), `List[str]` (batch or single pretokenized example) or `List[List[str]]` (batch of pretokenized examples).\nSkipping example at index 20138: text input must be of type `str` (single example), `List[str]` (batch or single pretokenized example) or `List[List[str]]` (batch of pretokenized examples).\nSkipping example at index 23693: text input must be of type `str` (single example), `List[str]` (batch or single pretokenized example) or `List[List[str]]` (batch of pretokenized examples).\nSkipping example at index 15027: text input must be of type `str` (single example), `List[str]` (batch or single pretokenized example) or `List[List[str]]` (batch of pretokenized examples).\nSkipping example at index 45224: text input must be of type `str` (single example), `List[str]` (batch or single pretokenized example) or `List[List[str]]` (batch of pretokenized examples).\nSkipping example at index 60311: text input must be of type `str` (single example), `List[str]` (batch or single pretokenized example) or `List[List[str]]` (batch of pretokenized examples).\nSkipping example at index 781: text input must be of type `str` (single example), `List[str]` (batch or single pretokenized example) or `List[List[str]]` (batch of pretokenized examples).\nSkipping example at index 35776: text input must be of type `str` (single example), `List[str]` (batch or single pretokenized example) or `List[List[str]]` (batch of pretokenized examples).\nSkipping example at index 58629: text input must be of type `str` (single example), `List[str]` (batch or single pretokenized example) or `List[List[str]]` (batch of pretokenized examples).\nSkipping example at index 2962: text input must be of type `str` (single example), `List[str]` (batch or single pretokenized example) or `List[List[str]]` (batch of pretokenized examples).\nSkipping example at index 3112: text input must be of type `str` (single example), `List[str]` (batch or single pretokenized example) or `List[List[str]]` (batch of pretokenized examples).\nSkipping example at index 4993: text input must be of type `str` (single example), `List[str]` (batch or single pretokenized example) or `List[List[str]]` (batch of pretokenized examples).\nSkipping example at index 7239: text input must be of type `str` (single example), `List[str]` (batch or single pretokenized example) or `List[List[str]]` (batch of pretokenized examples).\nSkipping example at index 9966: text input must be of type `str` (single example), `List[str]` (batch or single pretokenized example) or `List[List[str]]` (batch of pretokenized examples).\nSkipping example at index 14775: text input must be of type `str` (single example), `List[str]` (batch or single pretokenized example) or `List[List[str]]` (batch of pretokenized examples).\nSkipping example at index 16161: text input must be of type `str` (single example), `List[str]` (batch or single pretokenized example) or `List[List[str]]` (batch of pretokenized examples).\nSkipping example at index 19395: text input must be of type `str` (single example), `List[str]` (batch or single pretokenized example) or `List[List[str]]` (batch of pretokenized examples).\nValidation Accuracy: 0.9720\n              precision    recall  f1-score   support\n\n           0       0.98      0.99      0.98     16498\n           1       0.94      0.91      0.92      3814\n\n    accuracy                           0.97     20312\n   macro avg       0.96      0.95      0.95     20312\nweighted avg       0.97      0.97      0.97     20312\n\n",
          "output_type": "stream"
        }
      ]
    },
    {
      "cell_type": "code",
      "source": [
        "test_dataset = TextClassificationDataset(test_texts, test_labels, tokenizer, max_length)\n",
        "test_dataloader = DataLoader(test_dataset, batch_size=batch_size, collate_fn=collate_fn)\n",
        "test_accuracy, test_report = evaluate(model, test_dataloader, device)\n",
        "print(f\"Test Accuracy: {test_accuracy:.4f}\")\n",
        "print(test_report)"
      ],
      "metadata": {
        "execution": {
          "iopub.status.busy": "2024-06-21T12:39:53.33822Z",
          "iopub.execute_input": "2024-06-21T12:39:53.338596Z",
          "iopub.status.idle": "2024-06-21T12:41:29.768869Z",
          "shell.execute_reply.started": "2024-06-21T12:39:53.338562Z",
          "shell.execute_reply": "2024-06-21T12:41:29.767921Z"
        },
        "trusted": true,
        "id": "iJb3vgqqg5P9",
        "outputId": "e41d3642-a7e3-4679-e02a-8735ec6bcc13"
      },
      "execution_count": null,
      "outputs": [
        {
          "name": "stdout",
          "text": "Skipping example at index 402: text input must be of type `str` (single example), `List[str]` (batch or single pretokenized example) or `List[List[str]]` (batch of pretokenized examples).\nSkipping example at index 5019: text input must be of type `str` (single example), `List[str]` (batch or single pretokenized example) or `List[List[str]]` (batch of pretokenized examples).\nSkipping example at index 5829: text input must be of type `str` (single example), `List[str]` (batch or single pretokenized example) or `List[List[str]]` (batch of pretokenized examples).\nSkipping example at index 7068: text input must be of type `str` (single example), `List[str]` (batch or single pretokenized example) or `List[List[str]]` (batch of pretokenized examples).\nSkipping example at index 7710: text input must be of type `str` (single example), `List[str]` (batch or single pretokenized example) or `List[List[str]]` (batch of pretokenized examples).\nSkipping example at index 8390: text input must be of type `str` (single example), `List[str]` (batch or single pretokenized example) or `List[List[str]]` (batch of pretokenized examples).\nSkipping example at index 9033: text input must be of type `str` (single example), `List[str]` (batch or single pretokenized example) or `List[List[str]]` (batch of pretokenized examples).\nSkipping example at index 9560: text input must be of type `str` (single example), `List[str]` (batch or single pretokenized example) or `List[List[str]]` (batch of pretokenized examples).\nSkipping example at index 16518: text input must be of type `str` (single example), `List[str]` (batch or single pretokenized example) or `List[List[str]]` (batch of pretokenized examples).\nTest Accuracy: 0.9712\n              precision    recall  f1-score   support\n\n           0       0.98      0.98      0.98     16326\n           1       0.94      0.92      0.93      3986\n\n    accuracy                           0.97     20312\n   macro avg       0.96      0.95      0.95     20312\nweighted avg       0.97      0.97      0.97     20312\n\n",
          "output_type": "stream"
        }
      ]
    },
    {
      "cell_type": "code",
      "source": [
        "test_text = \"cutom i/p।\"\n",
        "predict = prediction(test_text, model, tokenizer, device)\n",
        "print(test_text)\n",
        "print(f\"Predicted sentiment: {predict}\")"
      ],
      "metadata": {
        "execution": {
          "iopub.status.busy": "2024-06-21T12:56:05.898237Z",
          "iopub.execute_input": "2024-06-21T12:56:05.898661Z",
          "iopub.status.idle": "2024-06-21T12:56:05.919145Z",
          "shell.execute_reply.started": "2024-06-21T12:56:05.898628Z",
          "shell.execute_reply": "2024-06-21T12:56:05.918218Z"
        },
        "trusted": true,
        "id": "6Znqminvg5P-"
      },
      "execution_count": null,
      "outputs": []
    }
  ]
}